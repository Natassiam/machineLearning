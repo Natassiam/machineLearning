{
 "cells": [
  {
   "cell_type": "code",
   "execution_count": 3,
   "metadata": {},
   "outputs": [],
   "source": [
    "import pandas as pd\n",
    "data = pd.read_csv('consumo_eletrico_brasil.csv', encoding='utf-8', delimiter=',')\n"
   ]
  },
  {
   "cell_type": "code",
   "execution_count": 4,
   "metadata": {},
   "outputs": [
    {
     "data": {
      "text/plain": [
       "Index(['Unnamed: 0', 'sistema_costeiro', 'bioma', 'area', 'populacao',\n",
       "       'temp_media', '2006', '2007', '2008', '2009', '2010', '2011', '2012',\n",
       "       '2013', '2014', '2015', '2016', '2017', '2018', '2019', '2020'],\n",
       "      dtype='object')"
      ]
     },
     "execution_count": 4,
     "metadata": {},
     "output_type": "execute_result"
    }
   ],
   "source": [
    "data.columns"
   ]
  },
  {
   "cell_type": "code",
   "execution_count": 5,
   "metadata": {},
   "outputs": [],
   "source": [
    "data.drop('Unnamed: 0', axis=1, inplace=True)"
   ]
  },
  {
   "cell_type": "code",
   "execution_count": 6,
   "metadata": {},
   "outputs": [],
   "source": [
    "import numpy as np\n",
    "from sklearn.cluster import KMeans\n",
    "import matplotlib.pyplot as plt"
   ]
  },
  {
   "cell_type": "code",
   "execution_count": 7,
   "metadata": {},
   "outputs": [],
   "source": [
    "kmeans = KMeans(n_clusters=5, random_state=0)"
   ]
  },
  {
   "cell_type": "code",
   "execution_count": 8,
   "metadata": {},
   "outputs": [],
   "source": [
    "features = data[['sistema_costeiro', 'bioma', 'area', 'populacao', 'temp_media', '2006',\n",
    "       '2007', '2008', '2009', '2010', '2011', '2012', '2013', '2014', '2015',\n",
    "       '2016', '2017', '2018', '2019', '2020']]"
   ]
  },
  {
   "cell_type": "code",
   "execution_count": 9,
   "metadata": {},
   "outputs": [],
   "source": [
    "from sklearn.preprocessing import OneHotEncoder"
   ]
  },
  {
   "cell_type": "code",
   "execution_count": 10,
   "metadata": {},
   "outputs": [],
   "source": [
    "data['sistema_costeiro'] = data['sistema_costeiro'].fillna('missing')\n",
    "data['bioma'] = data['bioma'].fillna('missing')"
   ]
  },
  {
   "cell_type": "code",
   "execution_count": 11,
   "metadata": {},
   "outputs": [
    {
     "data": {
      "text/html": [
       "<div>\n",
       "<style scoped>\n",
       "    .dataframe tbody tr th:only-of-type {\n",
       "        vertical-align: middle;\n",
       "    }\n",
       "\n",
       "    .dataframe tbody tr th {\n",
       "        vertical-align: top;\n",
       "    }\n",
       "\n",
       "    .dataframe thead th {\n",
       "        text-align: right;\n",
       "    }\n",
       "</style>\n",
       "<table border=\"1\" class=\"dataframe\">\n",
       "  <thead>\n",
       "    <tr style=\"text-align: right;\">\n",
       "      <th></th>\n",
       "      <th>area</th>\n",
       "      <th>populacao</th>\n",
       "      <th>temp_media</th>\n",
       "      <th>2006</th>\n",
       "      <th>2007</th>\n",
       "      <th>2008</th>\n",
       "      <th>2009</th>\n",
       "      <th>2010</th>\n",
       "      <th>2011</th>\n",
       "      <th>2012</th>\n",
       "      <th>...</th>\n",
       "      <th>bioma_caatinga_cerrado</th>\n",
       "      <th>bioma_caatinga_cerrado_mata_atlantica</th>\n",
       "      <th>bioma_caatinga_mata_atlantica</th>\n",
       "      <th>bioma_cerrado</th>\n",
       "      <th>bioma_cerrado_mata_atlantica</th>\n",
       "      <th>bioma_cerrado_pantanal</th>\n",
       "      <th>bioma_mata_atlantica</th>\n",
       "      <th>bioma_mata_atlantica_pampa</th>\n",
       "      <th>bioma_pampa</th>\n",
       "      <th>bioma_pantanal</th>\n",
       "    </tr>\n",
       "  </thead>\n",
       "  <tbody>\n",
       "    <tr>\n",
       "      <th>0</th>\n",
       "      <td>535,682</td>\n",
       "      <td>6386</td>\n",
       "      <td>23,00</td>\n",
       "      <td>0,00</td>\n",
       "      <td>0,00</td>\n",
       "      <td>0,00</td>\n",
       "      <td>0,00</td>\n",
       "      <td>0,00</td>\n",
       "      <td>0,00</td>\n",
       "      <td>0,12</td>\n",
       "      <td>...</td>\n",
       "      <td>0.0</td>\n",
       "      <td>0.0</td>\n",
       "      <td>0.0</td>\n",
       "      <td>0.0</td>\n",
       "      <td>0.0</td>\n",
       "      <td>0.0</td>\n",
       "      <td>1.0</td>\n",
       "      <td>0.0</td>\n",
       "      <td>0.0</td>\n",
       "      <td>0.0</td>\n",
       "    </tr>\n",
       "    <tr>\n",
       "      <th>1</th>\n",
       "      <td>63,883</td>\n",
       "      <td>3104</td>\n",
       "      <td>23,00</td>\n",
       "      <td>0,00</td>\n",
       "      <td>0,00</td>\n",
       "      <td>0,00</td>\n",
       "      <td>0,00</td>\n",
       "      <td>0,00</td>\n",
       "      <td>0,00</td>\n",
       "      <td>0,00</td>\n",
       "      <td>...</td>\n",
       "      <td>0.0</td>\n",
       "      <td>0.0</td>\n",
       "      <td>0.0</td>\n",
       "      <td>0.0</td>\n",
       "      <td>0.0</td>\n",
       "      <td>0.0</td>\n",
       "      <td>1.0</td>\n",
       "      <td>0.0</td>\n",
       "      <td>0.0</td>\n",
       "      <td>0.0</td>\n",
       "    </tr>\n",
       "    <tr>\n",
       "      <th>2</th>\n",
       "      <td>54,811</td>\n",
       "      <td>1972</td>\n",
       "      <td>22,00</td>\n",
       "      <td>0,00</td>\n",
       "      <td>0,00</td>\n",
       "      <td>0,00</td>\n",
       "      <td>0,00</td>\n",
       "      <td>0,00</td>\n",
       "      <td>0,00</td>\n",
       "      <td>0,00</td>\n",
       "      <td>...</td>\n",
       "      <td>0.0</td>\n",
       "      <td>0.0</td>\n",
       "      <td>0.0</td>\n",
       "      <td>0.0</td>\n",
       "      <td>0.0</td>\n",
       "      <td>0.0</td>\n",
       "      <td>1.0</td>\n",
       "      <td>0.0</td>\n",
       "      <td>0.0</td>\n",
       "      <td>0.0</td>\n",
       "    </tr>\n",
       "    <tr>\n",
       "      <th>3</th>\n",
       "      <td>79,333</td>\n",
       "      <td>7154</td>\n",
       "      <td>22,00</td>\n",
       "      <td>0,00</td>\n",
       "      <td>0,00</td>\n",
       "      <td>0,00</td>\n",
       "      <td>0,00</td>\n",
       "      <td>652,56</td>\n",
       "      <td>678,38</td>\n",
       "      <td>695,36</td>\n",
       "      <td>...</td>\n",
       "      <td>0.0</td>\n",
       "      <td>0.0</td>\n",
       "      <td>0.0</td>\n",
       "      <td>0.0</td>\n",
       "      <td>0.0</td>\n",
       "      <td>0.0</td>\n",
       "      <td>1.0</td>\n",
       "      <td>0.0</td>\n",
       "      <td>0.0</td>\n",
       "      <td>0.0</td>\n",
       "    </tr>\n",
       "    <tr>\n",
       "      <th>4</th>\n",
       "      <td>106,853</td>\n",
       "      <td>10225</td>\n",
       "      <td>22,00</td>\n",
       "      <td>0,00</td>\n",
       "      <td>0,00</td>\n",
       "      <td>0,00</td>\n",
       "      <td>0,00</td>\n",
       "      <td>0,00</td>\n",
       "      <td>0,00</td>\n",
       "      <td>0,00</td>\n",
       "      <td>...</td>\n",
       "      <td>0.0</td>\n",
       "      <td>0.0</td>\n",
       "      <td>0.0</td>\n",
       "      <td>0.0</td>\n",
       "      <td>0.0</td>\n",
       "      <td>0.0</td>\n",
       "      <td>1.0</td>\n",
       "      <td>0.0</td>\n",
       "      <td>0.0</td>\n",
       "      <td>0.0</td>\n",
       "    </tr>\n",
       "    <tr>\n",
       "      <th>...</th>\n",
       "      <td>...</td>\n",
       "      <td>...</td>\n",
       "      <td>...</td>\n",
       "      <td>...</td>\n",
       "      <td>...</td>\n",
       "      <td>...</td>\n",
       "      <td>...</td>\n",
       "      <td>...</td>\n",
       "      <td>...</td>\n",
       "      <td>...</td>\n",
       "      <td>...</td>\n",
       "      <td>...</td>\n",
       "      <td>...</td>\n",
       "      <td>...</td>\n",
       "      <td>...</td>\n",
       "      <td>...</td>\n",
       "      <td>...</td>\n",
       "      <td>...</td>\n",
       "      <td>...</td>\n",
       "      <td>...</td>\n",
       "      <td>...</td>\n",
       "    </tr>\n",
       "    <tr>\n",
       "      <th>3839</th>\n",
       "      <td>1121,928</td>\n",
       "      <td>4407</td>\n",
       "      <td>22,00</td>\n",
       "      <td>25259,86</td>\n",
       "      <td>22600,53</td>\n",
       "      <td>23536,66</td>\n",
       "      <td>24633,45</td>\n",
       "      <td>29666,51</td>\n",
       "      <td>36193,90</td>\n",
       "      <td>37163,02</td>\n",
       "      <td>...</td>\n",
       "      <td>0.0</td>\n",
       "      <td>0.0</td>\n",
       "      <td>0.0</td>\n",
       "      <td>1.0</td>\n",
       "      <td>0.0</td>\n",
       "      <td>0.0</td>\n",
       "      <td>0.0</td>\n",
       "      <td>0.0</td>\n",
       "      <td>0.0</td>\n",
       "      <td>0.0</td>\n",
       "    </tr>\n",
       "    <tr>\n",
       "      <th>3840</th>\n",
       "      <td>1905,744</td>\n",
       "      <td>3332</td>\n",
       "      <td>22,00</td>\n",
       "      <td>25353,02</td>\n",
       "      <td>22679,17</td>\n",
       "      <td>23617,24</td>\n",
       "      <td>24716,86</td>\n",
       "      <td>29770,06</td>\n",
       "      <td>36325,93</td>\n",
       "      <td>37295,16</td>\n",
       "      <td>...</td>\n",
       "      <td>0.0</td>\n",
       "      <td>0.0</td>\n",
       "      <td>0.0</td>\n",
       "      <td>0.0</td>\n",
       "      <td>0.0</td>\n",
       "      <td>0.0</td>\n",
       "      <td>0.0</td>\n",
       "      <td>0.0</td>\n",
       "      <td>0.0</td>\n",
       "      <td>0.0</td>\n",
       "    </tr>\n",
       "    <tr>\n",
       "      <th>3841</th>\n",
       "      <td>11553,479</td>\n",
       "      <td>9056</td>\n",
       "      <td>22,00</td>\n",
       "      <td>25446,18</td>\n",
       "      <td>22757,81</td>\n",
       "      <td>23697,82</td>\n",
       "      <td>24800,27</td>\n",
       "      <td>29873,61</td>\n",
       "      <td>36457,96</td>\n",
       "      <td>37427,31</td>\n",
       "      <td>...</td>\n",
       "      <td>0.0</td>\n",
       "      <td>0.0</td>\n",
       "      <td>0.0</td>\n",
       "      <td>0.0</td>\n",
       "      <td>0.0</td>\n",
       "      <td>0.0</td>\n",
       "      <td>0.0</td>\n",
       "      <td>0.0</td>\n",
       "      <td>0.0</td>\n",
       "      <td>0.0</td>\n",
       "    </tr>\n",
       "    <tr>\n",
       "      <th>3842</th>\n",
       "      <td>5139,307</td>\n",
       "      <td>9375</td>\n",
       "      <td>22,00</td>\n",
       "      <td>25539,34</td>\n",
       "      <td>22836,45</td>\n",
       "      <td>23778,40</td>\n",
       "      <td>24883,67</td>\n",
       "      <td>29977,15</td>\n",
       "      <td>36589,99</td>\n",
       "      <td>37559,46</td>\n",
       "      <td>...</td>\n",
       "      <td>0.0</td>\n",
       "      <td>0.0</td>\n",
       "      <td>0.0</td>\n",
       "      <td>1.0</td>\n",
       "      <td>0.0</td>\n",
       "      <td>0.0</td>\n",
       "      <td>0.0</td>\n",
       "      <td>0.0</td>\n",
       "      <td>0.0</td>\n",
       "      <td>0.0</td>\n",
       "    </tr>\n",
       "    <tr>\n",
       "      <th>3843</th>\n",
       "      <td>5760,784</td>\n",
       "      <td>3094325</td>\n",
       "      <td>21,00</td>\n",
       "      <td>25632,50</td>\n",
       "      <td>22915,09</td>\n",
       "      <td>23858,98</td>\n",
       "      <td>24967,08</td>\n",
       "      <td>30080,70</td>\n",
       "      <td>36722,02</td>\n",
       "      <td>37691,60</td>\n",
       "      <td>...</td>\n",
       "      <td>0.0</td>\n",
       "      <td>0.0</td>\n",
       "      <td>0.0</td>\n",
       "      <td>1.0</td>\n",
       "      <td>0.0</td>\n",
       "      <td>0.0</td>\n",
       "      <td>0.0</td>\n",
       "      <td>0.0</td>\n",
       "      <td>0.0</td>\n",
       "      <td>0.0</td>\n",
       "    </tr>\n",
       "  </tbody>\n",
       "</table>\n",
       "<p>3844 rows × 36 columns</p>\n",
       "</div>"
      ],
      "text/plain": [
       "           area  populacao temp_media      2006      2007      2008      2009  \\\n",
       "0       535,682       6386      23,00      0,00      0,00      0,00      0,00   \n",
       "1        63,883       3104      23,00      0,00      0,00      0,00      0,00   \n",
       "2        54,811       1972      22,00      0,00      0,00      0,00      0,00   \n",
       "3        79,333       7154      22,00      0,00      0,00      0,00      0,00   \n",
       "4       106,853      10225      22,00      0,00      0,00      0,00      0,00   \n",
       "...         ...        ...        ...       ...       ...       ...       ...   \n",
       "3839   1121,928       4407      22,00  25259,86  22600,53  23536,66  24633,45   \n",
       "3840   1905,744       3332      22,00  25353,02  22679,17  23617,24  24716,86   \n",
       "3841  11553,479       9056      22,00  25446,18  22757,81  23697,82  24800,27   \n",
       "3842   5139,307       9375      22,00  25539,34  22836,45  23778,40  24883,67   \n",
       "3843   5760,784    3094325      21,00  25632,50  22915,09  23858,98  24967,08   \n",
       "\n",
       "          2010      2011      2012  ... bioma_caatinga_cerrado  \\\n",
       "0         0,00      0,00      0,12  ...                    0.0   \n",
       "1         0,00      0,00      0,00  ...                    0.0   \n",
       "2         0,00      0,00      0,00  ...                    0.0   \n",
       "3       652,56    678,38    695,36  ...                    0.0   \n",
       "4         0,00      0,00      0,00  ...                    0.0   \n",
       "...        ...       ...       ...  ...                    ...   \n",
       "3839  29666,51  36193,90  37163,02  ...                    0.0   \n",
       "3840  29770,06  36325,93  37295,16  ...                    0.0   \n",
       "3841  29873,61  36457,96  37427,31  ...                    0.0   \n",
       "3842  29977,15  36589,99  37559,46  ...                    0.0   \n",
       "3843  30080,70  36722,02  37691,60  ...                    0.0   \n",
       "\n",
       "     bioma_caatinga_cerrado_mata_atlantica bioma_caatinga_mata_atlantica  \\\n",
       "0                                      0.0                           0.0   \n",
       "1                                      0.0                           0.0   \n",
       "2                                      0.0                           0.0   \n",
       "3                                      0.0                           0.0   \n",
       "4                                      0.0                           0.0   \n",
       "...                                    ...                           ...   \n",
       "3839                                   0.0                           0.0   \n",
       "3840                                   0.0                           0.0   \n",
       "3841                                   0.0                           0.0   \n",
       "3842                                   0.0                           0.0   \n",
       "3843                                   0.0                           0.0   \n",
       "\n",
       "     bioma_cerrado bioma_cerrado_mata_atlantica bioma_cerrado_pantanal  \\\n",
       "0              0.0                          0.0                    0.0   \n",
       "1              0.0                          0.0                    0.0   \n",
       "2              0.0                          0.0                    0.0   \n",
       "3              0.0                          0.0                    0.0   \n",
       "4              0.0                          0.0                    0.0   \n",
       "...            ...                          ...                    ...   \n",
       "3839           1.0                          0.0                    0.0   \n",
       "3840           0.0                          0.0                    0.0   \n",
       "3841           0.0                          0.0                    0.0   \n",
       "3842           1.0                          0.0                    0.0   \n",
       "3843           1.0                          0.0                    0.0   \n",
       "\n",
       "     bioma_mata_atlantica bioma_mata_atlantica_pampa  bioma_pampa  \\\n",
       "0                     1.0                        0.0          0.0   \n",
       "1                     1.0                        0.0          0.0   \n",
       "2                     1.0                        0.0          0.0   \n",
       "3                     1.0                        0.0          0.0   \n",
       "4                     1.0                        0.0          0.0   \n",
       "...                   ...                        ...          ...   \n",
       "3839                  0.0                        0.0          0.0   \n",
       "3840                  0.0                        0.0          0.0   \n",
       "3841                  0.0                        0.0          0.0   \n",
       "3842                  0.0                        0.0          0.0   \n",
       "3843                  0.0                        0.0          0.0   \n",
       "\n",
       "      bioma_pantanal  \n",
       "0                0.0  \n",
       "1                0.0  \n",
       "2                0.0  \n",
       "3                0.0  \n",
       "4                0.0  \n",
       "...              ...  \n",
       "3839             0.0  \n",
       "3840             0.0  \n",
       "3841             0.0  \n",
       "3842             0.0  \n",
       "3843             0.0  \n",
       "\n",
       "[3844 rows x 36 columns]"
      ]
     },
     "execution_count": 11,
     "metadata": {},
     "output_type": "execute_result"
    }
   ],
   "source": [
    "one_hot_encoder = OneHotEncoder(sparse_output=False)\n",
    "one_hot_encoded = one_hot_encoder.fit_transform(data[['sistema_costeiro', 'bioma']])\n",
    "\n",
    "# Criar DataFrame para colunas codificadas\n",
    "one_hot_df = pd.DataFrame(one_hot_encoded, columns=one_hot_encoder.get_feature_names_out(['sistema_costeiro', 'bioma']))\n",
    "\n",
    "# Concatenar com o DataFrame original e remover coluna original\n",
    "df = pd.concat([data.drop(['sistema_costeiro', 'bioma'], axis=1), one_hot_df], axis=1)\n",
    "\n",
    "# Exibir o DataFrame resultante\n",
    "df\n"
   ]
  },
  {
   "cell_type": "code",
   "execution_count": 12,
   "metadata": {},
   "outputs": [
    {
     "name": "stderr",
     "output_type": "stream",
     "text": [
      "C:\\Users\\natas\\AppData\\Local\\Temp\\ipykernel_3948\\1681250148.py:1: FutureWarning: DataFrame.applymap has been deprecated. Use DataFrame.map instead.\n",
      "  df = df.applymap(lambda x: x.replace(',', '.') if isinstance(x, str) else x)\n"
     ]
    }
   ],
   "source": [
    "df = df.applymap(lambda x: x.replace(',', '.') if isinstance(x, str) else x)"
   ]
  },
  {
   "cell_type": "code",
   "execution_count": 13,
   "metadata": {},
   "outputs": [],
   "source": [
    "X = df.to_numpy()"
   ]
  },
  {
   "cell_type": "code",
   "execution_count": 14,
   "metadata": {},
   "outputs": [],
   "source": [
    "from sklearn.preprocessing import StandardScaler\n",
    "\n",
    "scaler = StandardScaler()\n",
    "X_scaled = scaler.fit_transform(X)"
   ]
  },
  {
   "cell_type": "code",
   "execution_count": 15,
   "metadata": {},
   "outputs": [],
   "source": [
    "kmeans = KMeans(n_clusters=4, random_state=0)\n",
    "clusters = kmeans.fit_predict(X)\n",
    "df['Cluster'] = clusters"
   ]
  },
  {
   "cell_type": "code",
   "execution_count": 16,
   "metadata": {},
   "outputs": [
    {
     "name": "stdout",
     "output_type": "stream",
     "text": [
      "Silhouette Score: 0.94\n"
     ]
    }
   ],
   "source": [
    "from sklearn.metrics import silhouette_score\n",
    "\n",
    "# Calcular o Silhouette Score\n",
    "silhouette_avg = silhouette_score(X, df['Cluster'])\n",
    "print(f'Silhouette Score: {silhouette_avg:.2f}')"
   ]
  },
  {
   "cell_type": "code",
   "execution_count": 17,
   "metadata": {},
   "outputs": [
    {
     "data": {
      "text/plain": [
       "Cluster\n",
       "0    3774\n",
       "2      44\n",
       "3      25\n",
       "1       1\n",
       "Name: count, dtype: int64"
      ]
     },
     "execution_count": 17,
     "metadata": {},
     "output_type": "execute_result"
    }
   ],
   "source": [
    "df['Cluster'].value_counts()"
   ]
  },
  {
   "cell_type": "code",
   "execution_count": 18,
   "metadata": {},
   "outputs": [],
   "source": [
    "from sklearn.model_selection import train_test_split\n",
    "from sklearn.ensemble import RandomForestClassifier"
   ]
  },
  {
   "cell_type": "code",
   "execution_count": 19,
   "metadata": {},
   "outputs": [
    {
     "name": "stdout",
     "output_type": "stream",
     "text": [
      "Acurácia do Random Forest: 1.00\n"
     ]
    }
   ],
   "source": [
    "from sklearn.metrics import accuracy_score\n",
    "# Selecionar características e rótulos\n",
    "X = df[['area', 'populacao', 'temp_media', '2006', '2007', '2008', '2009',\n",
    "       '2010', '2011', '2012', '2013', '2014', '2015', '2016', '2017', '2018',\n",
    "       '2019', '2020', 'sistema_costeiro_Pertence',\n",
    "       'sistema_costeiro_n_pertence', 'sistema_costeiro_pertence',\n",
    "       'bioma_amazonia', 'bioma_amazonia_cerrado',\n",
    "       'bioma_amazonia_cerrado_pantanal', 'bioma_amazonia_pantanal',\n",
    "       'bioma_caatinga', 'bioma_caatinga_cerrado',\n",
    "       'bioma_caatinga_cerrado_mata_atlantica',\n",
    "       'bioma_caatinga_mata_atlantica', 'bioma_cerrado',\n",
    "       'bioma_cerrado_mata_atlantica', 'bioma_cerrado_pantanal',\n",
    "       'bioma_mata_atlantica', 'bioma_mata_atlantica_pampa', 'bioma_pampa',\n",
    "       'bioma_pantanal', 'Cluster']]  # Adicione o cluster como característica\n",
    "y = df['Cluster']  \n",
    "\n",
    "# Dividir os dados em conjuntos de treinamento e teste\n",
    "X_train, X_test, y_train, y_test = train_test_split(X, y, test_size=0.3, random_state=0)\n",
    "\n",
    "# Treinar o modelo Random Forest\n",
    "rf = RandomForestClassifier(n_estimators=100, random_state=0)\n",
    "rf.fit(X_train, y_train)\n",
    "\n",
    "# Fazer previsões\n",
    "y_pred = rf.predict(X_test)\n",
    "\n",
    "# Avaliar o modelo\n",
    "accuracy = accuracy_score(y_test, y_pred)\n",
    "print(f'Acurácia do Random Forest: {accuracy:.2f}')"
   ]
  },
  {
   "cell_type": "code",
   "execution_count": 20,
   "metadata": {},
   "outputs": [
    {
     "name": "stderr",
     "output_type": "stream",
     "text": [
      "C:\\Users\\natas\\AppData\\Local\\Packages\\PythonSoftwareFoundation.Python.3.11_qbz5n2kfra8p0\\LocalCache\\local-packages\\Python311\\site-packages\\sklearn\\model_selection\\_split.py:776: UserWarning: The least populated class in y has only 1 members, which is less than n_splits=5.\n",
      "  warnings.warn(\n"
     ]
    },
    {
     "name": "stdout",
     "output_type": "stream",
     "text": [
      "Scores de validação cruzada: [0.99609883 1.         1.         0.99869961 1.        ]\n",
      "Média da acurácia: 1.00\n"
     ]
    }
   ],
   "source": [
    "from sklearn.model_selection import cross_val_score\n",
    "\n",
    "# Avaliar o modelo usando validação cruzada\n",
    "cv_scores = cross_val_score(rf, X, y, cv=5)  # cv é o número de folds\n",
    "print(f'Scores de validação cruzada: {cv_scores}')\n",
    "print(f'Média da acurácia: {cv_scores.mean():.2f}')"
   ]
  },
  {
   "cell_type": "code",
   "execution_count": 21,
   "metadata": {},
   "outputs": [
    {
     "name": "stdout",
     "output_type": "stream",
     "text": [
      "                                  Feature  Importance\n",
      "36                                Cluster    0.304630\n",
      "1                               populacao    0.233030\n",
      "6                                    2009    0.048619\n",
      "10                                   2013    0.040329\n",
      "34                            bioma_pampa    0.039827\n",
      "7                                    2010    0.032328\n",
      "4                                    2007    0.028172\n",
      "11                                   2014    0.027991\n",
      "8                                    2011    0.027187\n",
      "0                                    area    0.025541\n",
      "13                                   2016    0.022819\n",
      "9                                    2012    0.022511\n",
      "16                                   2019    0.021574\n",
      "12                                   2015    0.021387\n",
      "2                              temp_media    0.020086\n",
      "14                                   2017    0.017716\n",
      "5                                    2008    0.017451\n",
      "3                                    2006    0.016484\n",
      "15                                   2018    0.016117\n",
      "17                                   2020    0.009464\n",
      "32                   bioma_mata_atlantica    0.001741\n",
      "30           bioma_cerrado_mata_atlantica    0.001708\n",
      "18              sistema_costeiro_Pertence    0.001264\n",
      "33             bioma_mata_atlantica_pampa    0.000925\n",
      "19            sistema_costeiro_n_pertence    0.000464\n",
      "21                         bioma_amazonia    0.000353\n",
      "25                         bioma_caatinga    0.000198\n",
      "29                          bioma_cerrado    0.000078\n",
      "20              sistema_costeiro_pertence    0.000004\n",
      "28          bioma_caatinga_mata_atlantica    0.000000\n",
      "27  bioma_caatinga_cerrado_mata_atlantica    0.000000\n",
      "26                 bioma_caatinga_cerrado    0.000000\n",
      "24                bioma_amazonia_pantanal    0.000000\n",
      "22                 bioma_amazonia_cerrado    0.000000\n",
      "23        bioma_amazonia_cerrado_pantanal    0.000000\n",
      "31                 bioma_cerrado_pantanal    0.000000\n",
      "35                         bioma_pantanal    0.000000\n"
     ]
    }
   ],
   "source": [
    "importances = rf.feature_importances_\n",
    "feature_names = X.columns\n",
    "\n",
    "# Criar um DataFrame para visualizar a importância das características\n",
    "importances_df = pd.DataFrame({'Feature': feature_names, 'Importance': importances})\n",
    "importances_df = importances_df.sort_values(by='Importance', ascending=False)\n",
    "\n",
    "print(importances_df)\n"
   ]
  },
  {
   "cell_type": "code",
   "execution_count": 22,
   "metadata": {},
   "outputs": [
    {
     "name": "stdout",
     "output_type": "stream",
     "text": [
      "Confusion matrix\n",
      "\n",
      " [[1138    0    0]\n",
      " [   0    9    0]\n",
      " [   0    0    7]]\n"
     ]
    }
   ],
   "source": [
    "from sklearn.metrics import confusion_matrix\n",
    "\n",
    "cm = confusion_matrix(y_test, y_pred)\n",
    "\n",
    "print('Confusion matrix\\n\\n', cm)"
   ]
  },
  {
   "cell_type": "code",
   "execution_count": 24,
   "metadata": {},
   "outputs": [
    {
     "data": {
      "image/png": "[encoded data removed]",
      "text/plain": [
       "<Figure size 640x480 with 1 Axes>"
      ]
     },
     "metadata": {},
     "output_type": "display_data"
    }
   ],
   "source": [
    "from sklearn.cluster import KMeans\n",
    "from sklearn.metrics import silhouette_score\n",
    "import matplotlib.pyplot as plt\n",
    "\n",
    "# Método do Cotovelo\n",
    "distortions = []\n",
    "K = range(1, 11)\n",
    "for k in K:\n",
    "    kmeans = KMeans(n_clusters=k, random_state=0)\n",
    "    kmeans.fit(X_scaled)\n",
    "    distortions.append(kmeans.inertia_)\n",
    "\n",
    "plt.plot(K, distortions, 'bx-')\n",
    "plt.xlabel('Número de Clusters')\n",
    "plt.ylabel('Distortion')\n",
    "plt.title('Método do Cotovelo')\n",
    "plt.show()"
   ]
  },
  {
   "cell_type": "code",
   "execution_count": 28,
   "metadata": {},
   "outputs": [
    {
     "name": "stdout",
     "output_type": "stream",
     "text": [
      "Número de clusters formados: 2\n",
      "Silhouette Score: 0.98\n"
     ]
    }
   ],
   "source": [
    "from sklearn.cluster import KMeans\n",
    "\n",
    "# Tentar diferentes números de clusters\n",
    "kmeans = KMeans(n_clusters=2, random_state=0)\n",
    "clusters = kmeans.fit_predict(X_scaled)\n",
    "\n",
    "# Verificar o número de clusters formados\n",
    "unique_clusters = len(set(clusters))\n",
    "print(f'Número de clusters formados: {unique_clusters}')\n",
    "\n",
    "if unique_clusters > 1:\n",
    "    # Avaliar o modelo\n",
    "    from sklearn.metrics import silhouette_score\n",
    "    silhouette_avg = silhouette_score(X_scaled, clusters)\n",
    "    print(f'Silhouette Score: {silhouette_avg:.2f}')\n",
    "else:\n",
    "    print('Não há clusters suficientes para calcular o Silhouette Score.')\n"
   ]
  }
 ],
 "metadata": {
  "kernelspec": {
   "display_name": "Python 3",
   "language": "python",
   "name": "python3"
  },
  "language_info": {
   "codemirror_mode": {
    "name": "ipython",
    "version": 3
   },
   "file_extension": ".py",
   "mimetype": "text/x-python",
   "name": "python",
   "nbconvert_exporter": "python",
   "pygments_lexer": "ipython3",
   "version": "3.11.9"
  }
 },
 "nbformat": 4,
 "nbformat_minor": 2
}
