{
  "nbformat": 4,
  "nbformat_minor": 0,
  "metadata": {
    "colab": {
      "name": "trab_ML-01.ipynb",
      "provenance": [],
      "collapsed_sections": [],
      "authorship_tag": "ABX9TyOFYqqoHH7nnIaWJgOfs3Yc",
      "include_colab_link": true
    },
    "kernelspec": {
      "name": "python3",
      "display_name": "Python 3"
    }
  },
  "cells": [
    {
      "cell_type": "markdown",
      "metadata": {
        "id": "view-in-github",
        "colab_type": "text"
      },
      "source": [
        "<a href=\"https://colab.research.google.com/github/Natassiam/machineLearning/blob/teste/trab_ML_01.ipynb\" target=\"_parent\"><img src=\"https://colab.research.google.com/assets/colab-badge.svg\" alt=\"Open In Colab\"/></a>"
      ]
    },
    {
      "cell_type": "markdown",
      "metadata": {
        "id": "Oz8EyhVkQMYI"
      },
      "source": [
        "Dataset obtido pela base ONS"
      ]
    },
    {
      "cell_type": "markdown",
      "metadata": {
        "id": "UYwi31TuQLdi"
      },
      "source": [
        "Importando bibliotecas"
      ]
    },
    {
      "cell_type": "code",
      "metadata": {
        "id": "yZz4RcdErdWe"
      },
      "source": [
        "import pandas as pd\n",
        "import numpy as np\n",
        "\n",
        "from sklearn import datasets\n",
        "from sklearn.preprocessing import MinMaxScaler\n",
        "from sklearn.preprocessing import OneHotEncoder\n",
        "\n"
      ],
      "execution_count": 352,
      "outputs": []
    },
    {
      "cell_type": "markdown",
      "metadata": {
        "id": "FtasTtrNQXmf"
      },
      "source": [
        "carregando Dataset"
      ]
    },
    {
      "cell_type": "code",
      "metadata": {
        "id": "pzn3o-4lrs5M"
      },
      "source": [
        "df = pd.read_csv('/content/Simple_Geration_ONS.csv', sep=';')"
      ],
      "execution_count": 353,
      "outputs": []
    },
    {
      "cell_type": "code",
      "metadata": {
        "colab": {
          "base_uri": "https://localhost:8080/",
          "height": 360
        },
        "id": "0fgD2Ek1yHGn",
        "outputId": "1733bbdd-1b97-4f99-81d5-cf13e3449480"
      },
      "source": [
        "df.head()"
      ],
      "execution_count": 354,
      "outputs": [
        {
          "output_type": "execute_result",
          "data": {
            "text/html": [
              "<div>\n",
              "<style scoped>\n",
              "    .dataframe tbody tr th:only-of-type {\n",
              "        vertical-align: middle;\n",
              "    }\n",
              "\n",
              "    .dataframe tbody tr th {\n",
              "        vertical-align: top;\n",
              "    }\n",
              "\n",
              "    .dataframe thead th {\n",
              "        text-align: right;\n",
              "    }\n",
              "</style>\n",
              "<table border=\"1\" class=\"dataframe\">\n",
              "  <thead>\n",
              "    <tr style=\"text-align: right;\">\n",
              "      <th></th>\n",
              "      <th>dsc_estado</th>\n",
              "      <th>id_subsistema</th>\n",
              "      <th>Modalidade de Operação</th>\n",
              "      <th>nom_tipocombustivel2</th>\n",
              "      <th>nom_tipousinasite</th>\n",
              "      <th>nom_usina2</th>\n",
              "      <th>Período Verifica GE Simp 4</th>\n",
              "      <th>Selecione Tipo de GE Simp 4</th>\n",
              "      <th>Din Instante</th>\n",
              "      <th>Din Instante GE Simp 4</th>\n",
              "      <th>Table Name</th>\n",
              "      <th>Val Geraenergiacongwh</th>\n",
              "      <th>Val Geraenergiaconmwmed</th>\n",
              "      <th>Produção</th>\n",
              "    </tr>\n",
              "  </thead>\n",
              "  <tbody>\n",
              "    <tr>\n",
              "      <th>0</th>\n",
              "      <td>CEARA</td>\n",
              "      <td>Nordeste</td>\n",
              "      <td>Tipo III</td>\n",
              "      <td>Eólica</td>\n",
              "      <td>Eólica</td>\n",
              "      <td>Prainha</td>\n",
              "      <td>VERDADEIRO</td>\n",
              "      <td>0.00</td>\n",
              "      <td>31/12/2020 00:00</td>\n",
              "      <td>01/12/2020 00:00</td>\n",
              "      <td>gr_meusinaprevcarga</td>\n",
              "      <td>0.000000</td>\n",
              "      <td>0.000000</td>\n",
              "      <td>NaN</td>\n",
              "    </tr>\n",
              "    <tr>\n",
              "      <th>1</th>\n",
              "      <td>BAHIA</td>\n",
              "      <td>Nordeste</td>\n",
              "      <td>Tipo III</td>\n",
              "      <td>Eólica</td>\n",
              "      <td>Eólica</td>\n",
              "      <td>VENTOS DA BAHIA XVII</td>\n",
              "      <td>VERDADEIRO</td>\n",
              "      <td>11.95</td>\n",
              "      <td>31/12/2020 00:00</td>\n",
              "      <td>01/12/2020 00:00</td>\n",
              "      <td>gr_meusinaprevcarga</td>\n",
              "      <td>8.891672</td>\n",
              "      <td>11.951172</td>\n",
              "      <td>NaN</td>\n",
              "    </tr>\n",
              "    <tr>\n",
              "      <th>2</th>\n",
              "      <td>CEARA</td>\n",
              "      <td>Nordeste</td>\n",
              "      <td>Tipo III</td>\n",
              "      <td>Eólica</td>\n",
              "      <td>Eólica</td>\n",
              "      <td>Eólica de Taíba</td>\n",
              "      <td>VERDADEIRO</td>\n",
              "      <td>1.88</td>\n",
              "      <td>31/12/2020 00:00</td>\n",
              "      <td>01/12/2020 00:00</td>\n",
              "      <td>gr_meusinaprevcarga</td>\n",
              "      <td>1.397629</td>\n",
              "      <td>1.878534</td>\n",
              "      <td>NaN</td>\n",
              "    </tr>\n",
              "    <tr>\n",
              "      <th>3</th>\n",
              "      <td>ALAGOAS</td>\n",
              "      <td>Nordeste</td>\n",
              "      <td>Tipo I</td>\n",
              "      <td>Hidráulica</td>\n",
              "      <td>Hidrelétrica</td>\n",
              "      <td>XINGÓ</td>\n",
              "      <td>VERDADEIRO</td>\n",
              "      <td>2494.88</td>\n",
              "      <td>31/12/2020 00:00</td>\n",
              "      <td>01/12/2020 00:00</td>\n",
              "      <td>gr_meusinaprevcarga</td>\n",
              "      <td>1856.189991</td>\n",
              "      <td>2494.879020</td>\n",
              "      <td>NaN</td>\n",
              "    </tr>\n",
              "    <tr>\n",
              "      <th>4</th>\n",
              "      <td>PARAIBA</td>\n",
              "      <td>Nordeste</td>\n",
              "      <td>Tipo III</td>\n",
              "      <td>Eólica</td>\n",
              "      <td>Eólica</td>\n",
              "      <td>Alhandra</td>\n",
              "      <td>VERDADEIRO</td>\n",
              "      <td>0.00</td>\n",
              "      <td>31/12/2020 00:00</td>\n",
              "      <td>01/12/2020 00:00</td>\n",
              "      <td>gr_meusinaprevcarga</td>\n",
              "      <td>0.000000</td>\n",
              "      <td>0.000000</td>\n",
              "      <td>NaN</td>\n",
              "    </tr>\n",
              "  </tbody>\n",
              "</table>\n",
              "</div>"
            ],
            "text/plain": [
              "  dsc_estado id_subsistema  ... Val Geraenergiaconmwmed Produção\n",
              "0      CEARA      Nordeste  ...                0.000000      NaN\n",
              "1      BAHIA      Nordeste  ...               11.951172      NaN\n",
              "2      CEARA      Nordeste  ...                1.878534      NaN\n",
              "3    ALAGOAS      Nordeste  ...             2494.879020      NaN\n",
              "4    PARAIBA      Nordeste  ...                0.000000      NaN\n",
              "\n",
              "[5 rows x 14 columns]"
            ]
          },
          "metadata": {
            "tags": []
          },
          "execution_count": 354
        }
      ]
    },
    {
      "cell_type": "code",
      "metadata": {
        "colab": {
          "base_uri": "https://localhost:8080/"
        },
        "id": "1mb63pRrN8AA",
        "outputId": "e310804f-b8bc-4922-c8d6-c12c1d9dac10"
      },
      "source": [
        "df.groupby(by='nom_tipocombustivel2').size()"
      ],
      "execution_count": 355,
      "outputs": [
        {
          "output_type": "execute_result",
          "data": {
            "text/plain": [
              "nom_tipocombustivel2\n",
              "Biomassa                 3151\n",
              "Carvão                    198\n",
              "Eólica                  34631\n",
              "Fotovoltaica             3508\n",
              "Gás                      1644\n",
              "Gás natural               286\n",
              "Hidráulica               5116\n",
              "Petróleo                  504\n",
              "Resíduos Industriais       72\n",
              "Óleo Combustível         1695\n",
              "Óleo Diesel              4172\n",
              "dtype: int64"
            ]
          },
          "metadata": {
            "tags": []
          },
          "execution_count": 355
        }
      ]
    },
    {
      "cell_type": "code",
      "metadata": {
        "colab": {
          "base_uri": "https://localhost:8080/"
        },
        "id": "EpgLr_0vTNYD",
        "outputId": "e52e4ea5-b9ff-4e48-e160-5e7bbe167dae"
      },
      "source": [
        "df.groupby(by='nom_tipousinasite').size()"
      ],
      "execution_count": 356,
      "outputs": [
        {
          "output_type": "execute_result",
          "data": {
            "text/plain": [
              "nom_tipousinasite\n",
              "Eólica          34631\n",
              "Hidrelétrica     5116\n",
              "Solar            3508\n",
              "Térmica         11722\n",
              "dtype: int64"
            ]
          },
          "metadata": {
            "tags": []
          },
          "execution_count": 356
        }
      ]
    },
    {
      "cell_type": "code",
      "metadata": {
        "colab": {
          "base_uri": "https://localhost:8080/"
        },
        "id": "PQ9NuwA5Sutn",
        "outputId": "a53b6c48-1f90-49f2-97c3-aa82c1188bff"
      },
      "source": [
        "df.groupby(by='Modalidade de Operação').size()"
      ],
      "execution_count": 357,
      "outputs": [
        {
          "output_type": "execute_result",
          "data": {
            "text/plain": [
              "Modalidade de Operação\n",
              "Conjunto de Usinas       92\n",
              "Pequenas Usinas         200\n",
              "Tipo I                 8312\n",
              "Tipo II-A              2615\n",
              "Tipo II-B               372\n",
              "Tipo II-C             32441\n",
              "Tipo III              10945\n",
              "dtype: int64"
            ]
          },
          "metadata": {
            "tags": []
          },
          "execution_count": 357
        }
      ]
    },
    {
      "cell_type": "code",
      "metadata": {
        "colab": {
          "base_uri": "https://localhost:8080/"
        },
        "id": "v81sMOq2zmI_",
        "outputId": "05a0f594-9b21-4234-d44b-29541717ae7c"
      },
      "source": [
        "df.groupby(by='dsc_estado').size()"
      ],
      "execution_count": 358,
      "outputs": [
        {
          "output_type": "execute_result",
          "data": {
            "text/plain": [
              "dsc_estado\n",
              "ALAGOAS                 1451\n",
              "BAHIA                  16553\n",
              "CEARA                   9303\n",
              "MARANHAO                  36\n",
              "PARAIBA                 2041\n",
              "PERNAMBUCO              6055\n",
              "PIAUI                   6330\n",
              "RIO GRANDE DO NORTE    12214\n",
              "SAO PAULO                 24\n",
              "SERGIPE                  514\n",
              "TOCANTINS                456\n",
              "dtype: int64"
            ]
          },
          "metadata": {
            "tags": []
          },
          "execution_count": 358
        }
      ]
    },
    {
      "cell_type": "code",
      "metadata": {
        "colab": {
          "base_uri": "https://localhost:8080/"
        },
        "id": "oDsnNUF3OeTS",
        "outputId": "4ff6a582-193c-41df-f5a8-3e4980a1b8d0"
      },
      "source": [
        "df[\"Modalidade de Operação\"] = df[\"Modalidade de Operação\"].astype('category')\n",
        "df.dtypes"
      ],
      "execution_count": 359,
      "outputs": [
        {
          "output_type": "execute_result",
          "data": {
            "text/plain": [
              "dsc_estado                       object\n",
              "id_subsistema                    object\n",
              "Modalidade de Operação         category\n",
              "nom_tipocombustivel2             object\n",
              "nom_tipousinasite                object\n",
              "nom_usina2                       object\n",
              "Período Verifica GE Simp 4       object\n",
              "Selecione Tipo de GE Simp 4     float64\n",
              "Din Instante                     object\n",
              "Din Instante GE Simp 4           object\n",
              "Table Name                       object\n",
              "Val Geraenergiacongwh           float64\n",
              "Val Geraenergiaconmwmed         float64\n",
              "Produção                        float64\n",
              "dtype: object"
            ]
          },
          "metadata": {
            "tags": []
          },
          "execution_count": 359
        }
      ]
    },
    {
      "cell_type": "code",
      "metadata": {
        "colab": {
          "base_uri": "https://localhost:8080/"
        },
        "id": "BgOmT_t_O-Fx",
        "outputId": "a7343b27-10e7-4f8e-ae45-2e2958ad65b5"
      },
      "source": [
        "df[\"nom_tipousinasite\"] = df[\"nom_tipousinasite\"].astype('category')\n",
        "df.dtypes"
      ],
      "execution_count": 360,
      "outputs": [
        {
          "output_type": "execute_result",
          "data": {
            "text/plain": [
              "dsc_estado                       object\n",
              "id_subsistema                    object\n",
              "Modalidade de Operação         category\n",
              "nom_tipocombustivel2             object\n",
              "nom_tipousinasite              category\n",
              "nom_usina2                       object\n",
              "Período Verifica GE Simp 4       object\n",
              "Selecione Tipo de GE Simp 4     float64\n",
              "Din Instante                     object\n",
              "Din Instante GE Simp 4           object\n",
              "Table Name                       object\n",
              "Val Geraenergiacongwh           float64\n",
              "Val Geraenergiaconmwmed         float64\n",
              "Produção                        float64\n",
              "dtype: object"
            ]
          },
          "metadata": {
            "tags": []
          },
          "execution_count": 360
        }
      ]
    },
    {
      "cell_type": "code",
      "metadata": {
        "colab": {
          "base_uri": "https://localhost:8080/"
        },
        "id": "7npBCl2rPKsM",
        "outputId": "edbadc5a-2a0f-4450-9463-9fc47874b6bb"
      },
      "source": [
        "df[\"nom_tipocombustivel2\"] = df[\"nom_tipocombustivel2\"].astype('category')\n",
        "df.dtypes"
      ],
      "execution_count": 361,
      "outputs": [
        {
          "output_type": "execute_result",
          "data": {
            "text/plain": [
              "dsc_estado                       object\n",
              "id_subsistema                    object\n",
              "Modalidade de Operação         category\n",
              "nom_tipocombustivel2           category\n",
              "nom_tipousinasite              category\n",
              "nom_usina2                       object\n",
              "Período Verifica GE Simp 4       object\n",
              "Selecione Tipo de GE Simp 4     float64\n",
              "Din Instante                     object\n",
              "Din Instante GE Simp 4           object\n",
              "Table Name                       object\n",
              "Val Geraenergiacongwh           float64\n",
              "Val Geraenergiaconmwmed         float64\n",
              "Produção                        float64\n",
              "dtype: object"
            ]
          },
          "metadata": {
            "tags": []
          },
          "execution_count": 361
        }
      ]
    },
    {
      "cell_type": "code",
      "metadata": {
        "colab": {
          "base_uri": "https://localhost:8080/"
        },
        "id": "g_01TrPBzwp9",
        "outputId": "2c2065e8-3554-4df8-b6ec-4015d2df302c"
      },
      "source": [
        "df[\"dsc_estado\"] = df[\"dsc_estado\"].astype('category')\n",
        "df.dtypes"
      ],
      "execution_count": 404,
      "outputs": [
        {
          "output_type": "execute_result",
          "data": {
            "text/plain": [
              "dsc_estado                     category\n",
              "Modalidade de Operação             int8\n",
              "nom_tipocombustivel2               int8\n",
              "nom_tipousinasite                  int8\n",
              "Selecione Tipo de GE Simp 4     float64\n",
              "Din Instante                     object\n",
              "Din Instante GE Simp 4           object\n",
              "Val Geraenergiacongwh           float64\n",
              "Val Geraenergiaconmwmed         float64\n",
              "dtype: object"
            ]
          },
          "metadata": {
            "tags": []
          },
          "execution_count": 404
        }
      ]
    },
    {
      "cell_type": "code",
      "metadata": {
        "colab": {
          "base_uri": "https://localhost:8080/"
        },
        "id": "hqrqWtqeOqgO",
        "outputId": "1ad2304b-de6c-4524-8660-0f8162999abf"
      },
      "source": [
        "#df['dsc_estado'] = df['dsc_estado'].cat.codes\n",
        "#df.info()\n",
        "#df['Modalidade de Operação'] = df['Modalidade de Operação'].cat.codes\n",
        "#df.info()\n",
        "#df['nom_tipocombustivel2'] = df['nom_tipocombustivel2'].cat.codes\n",
        "#df.info()\n",
        "#df['nom_tipousinasite'] = df['nom_tipousinasite'].cat.codes\n",
        "#df.info()\n",
        "df['dsc_estado'] = df['dsc_estado'].cat.codes\n",
        "df.info()"
      ],
      "execution_count": 414,
      "outputs": [
        {
          "output_type": "stream",
          "text": [
            "<class 'pandas.core.frame.DataFrame'>\n",
            "Int64Index: 54977 entries, 0 to 54976\n",
            "Data columns (total 9 columns):\n",
            " #   Column                       Non-Null Count  Dtype  \n",
            "---  ------                       --------------  -----  \n",
            " 0   dsc_estado                   54977 non-null  int8   \n",
            " 1   Modalidade de Operação       54977 non-null  int8   \n",
            " 2   nom_tipocombustivel2         54977 non-null  int8   \n",
            " 3   nom_tipousinasite            54977 non-null  int8   \n",
            " 4   Selecione Tipo de GE Simp 4  54977 non-null  float64\n",
            " 5   Din Instante                 54977 non-null  object \n",
            " 6   Din Instante GE Simp 4       54977 non-null  object \n",
            " 7   Val Geraenergiacongwh        54977 non-null  float64\n",
            " 8   Val Geraenergiaconmwmed      54977 non-null  float64\n",
            "dtypes: float64(3), int8(4), object(2)\n",
            "memory usage: 2.7+ MB\n"
          ],
          "name": "stdout"
        }
      ]
    },
    {
      "cell_type": "code",
      "metadata": {
        "colab": {
          "base_uri": "https://localhost:8080/"
        },
        "id": "1U5xwh52u0MT",
        "outputId": "042d904e-f919-4602-b042-3bcdba9bd248"
      },
      "source": [
        "#Numero de categorias dos atributos categoricos\n",
        "#(columns['Demanda','Modalidade de Operação','nom_usina2','nom_tipocombustivel2', 'Table Name','Período Verifica GE Simp 4'])\n",
        "#print(df_cat.nunique()) \n",
        "df.info()"
      ],
      "execution_count": 415,
      "outputs": [
        {
          "output_type": "stream",
          "text": [
            "<class 'pandas.core.frame.DataFrame'>\n",
            "Int64Index: 54977 entries, 0 to 54976\n",
            "Data columns (total 9 columns):\n",
            " #   Column                       Non-Null Count  Dtype  \n",
            "---  ------                       --------------  -----  \n",
            " 0   dsc_estado                   54977 non-null  int8   \n",
            " 1   Modalidade de Operação       54977 non-null  int8   \n",
            " 2   nom_tipocombustivel2         54977 non-null  int8   \n",
            " 3   nom_tipousinasite            54977 non-null  int8   \n",
            " 4   Selecione Tipo de GE Simp 4  54977 non-null  float64\n",
            " 5   Din Instante                 54977 non-null  object \n",
            " 6   Din Instante GE Simp 4       54977 non-null  object \n",
            " 7   Val Geraenergiacongwh        54977 non-null  float64\n",
            " 8   Val Geraenergiaconmwmed      54977 non-null  float64\n",
            "dtypes: float64(3), int8(4), object(2)\n",
            "memory usage: 2.7+ MB\n"
          ],
          "name": "stdout"
        }
      ]
    },
    {
      "cell_type": "code",
      "metadata": {
        "colab": {
          "base_uri": "https://localhost:8080/",
          "height": 351
        },
        "id": "glevVICZ0cbJ",
        "outputId": "737ca05d-9bd9-47d6-d9c7-2831036cbb85"
      },
      "source": [
        "df.describe()"
      ],
      "execution_count": 416,
      "outputs": [
        {
          "output_type": "execute_result",
          "data": {
            "text/html": [
              "<div>\n",
              "<style scoped>\n",
              "    .dataframe tbody tr th:only-of-type {\n",
              "        vertical-align: middle;\n",
              "    }\n",
              "\n",
              "    .dataframe tbody tr th {\n",
              "        vertical-align: top;\n",
              "    }\n",
              "\n",
              "    .dataframe thead th {\n",
              "        text-align: right;\n",
              "    }\n",
              "</style>\n",
              "<table border=\"1\" class=\"dataframe\">\n",
              "  <thead>\n",
              "    <tr style=\"text-align: right;\">\n",
              "      <th></th>\n",
              "      <th>dsc_estado</th>\n",
              "      <th>Modalidade de Operação</th>\n",
              "      <th>nom_tipocombustivel2</th>\n",
              "      <th>nom_tipousinasite</th>\n",
              "      <th>Selecione Tipo de GE Simp 4</th>\n",
              "      <th>Val Geraenergiacongwh</th>\n",
              "      <th>Val Geraenergiaconmwmed</th>\n",
              "    </tr>\n",
              "  </thead>\n",
              "  <tbody>\n",
              "    <tr>\n",
              "      <th>count</th>\n",
              "      <td>54977.000000</td>\n",
              "      <td>54977.000000</td>\n",
              "      <td>54977.000000</td>\n",
              "      <td>54977.000000</td>\n",
              "      <td>54977.000000</td>\n",
              "      <td>5.497700e+04</td>\n",
              "      <td>5.497700e+04</td>\n",
              "    </tr>\n",
              "    <tr>\n",
              "      <th>mean</th>\n",
              "      <td>3.757244</td>\n",
              "      <td>4.620696</td>\n",
              "      <td>3.269822</td>\n",
              "      <td>0.860323</td>\n",
              "      <td>33.644222</td>\n",
              "      <td>2.458649e+01</td>\n",
              "      <td>3.364422e+01</td>\n",
              "    </tr>\n",
              "    <tr>\n",
              "      <th>std</th>\n",
              "      <td>2.619219</td>\n",
              "      <td>1.308827</td>\n",
              "      <td>2.642626</td>\n",
              "      <td>1.235763</td>\n",
              "      <td>163.130203</td>\n",
              "      <td>1.192393e+02</td>\n",
              "      <td>1.631302e+02</td>\n",
              "    </tr>\n",
              "    <tr>\n",
              "      <th>min</th>\n",
              "      <td>0.000000</td>\n",
              "      <td>0.000000</td>\n",
              "      <td>0.000000</td>\n",
              "      <td>0.000000</td>\n",
              "      <td>-0.280000</td>\n",
              "      <td>-1.998000e-01</td>\n",
              "      <td>-2.775000e-01</td>\n",
              "    </tr>\n",
              "    <tr>\n",
              "      <th>25%</th>\n",
              "      <td>1.000000</td>\n",
              "      <td>5.000000</td>\n",
              "      <td>2.000000</td>\n",
              "      <td>0.000000</td>\n",
              "      <td>0.000000</td>\n",
              "      <td>5.000000e-08</td>\n",
              "      <td>7.000000e-08</td>\n",
              "    </tr>\n",
              "    <tr>\n",
              "      <th>50%</th>\n",
              "      <td>4.000000</td>\n",
              "      <td>5.000000</td>\n",
              "      <td>2.000000</td>\n",
              "      <td>0.000000</td>\n",
              "      <td>7.120000</td>\n",
              "      <td>5.173655e+00</td>\n",
              "      <td>7.122796e+00</td>\n",
              "    </tr>\n",
              "    <tr>\n",
              "      <th>75%</th>\n",
              "      <td>6.000000</td>\n",
              "      <td>5.000000</td>\n",
              "      <td>3.000000</td>\n",
              "      <td>2.000000</td>\n",
              "      <td>13.980000</td>\n",
              "      <td>1.026257e+01</td>\n",
              "      <td>1.398177e+01</td>\n",
              "    </tr>\n",
              "    <tr>\n",
              "      <th>max</th>\n",
              "      <td>10.000000</td>\n",
              "      <td>6.000000</td>\n",
              "      <td>10.000000</td>\n",
              "      <td>3.000000</td>\n",
              "      <td>2864.860000</td>\n",
              "      <td>2.131460e+03</td>\n",
              "      <td>2.864865e+03</td>\n",
              "    </tr>\n",
              "  </tbody>\n",
              "</table>\n",
              "</div>"
            ],
            "text/plain": [
              "         dsc_estado  ...  Val Geraenergiaconmwmed\n",
              "count  54977.000000  ...             5.497700e+04\n",
              "mean       3.757244  ...             3.364422e+01\n",
              "std        2.619219  ...             1.631302e+02\n",
              "min        0.000000  ...            -2.775000e-01\n",
              "25%        1.000000  ...             7.000000e-08\n",
              "50%        4.000000  ...             7.122796e+00\n",
              "75%        6.000000  ...             1.398177e+01\n",
              "max       10.000000  ...             2.864865e+03\n",
              "\n",
              "[8 rows x 7 columns]"
            ]
          },
          "metadata": {
            "tags": []
          },
          "execution_count": 416
        }
      ]
    },
    {
      "cell_type": "markdown",
      "metadata": {
        "id": "TZDK2ihCXKLp"
      },
      "source": [
        "Remoção Atributos Table Name e Período Verifica GE Simp 4"
      ]
    },
    {
      "cell_type": "code",
      "metadata": {
        "id": "G-7T2_glWJHG",
        "colab": {
          "base_uri": "https://localhost:8080/",
          "height": 343
        },
        "outputId": "069d550d-accb-47fb-abab-c6eadee1cc53"
      },
      "source": [
        "df.head()"
      ],
      "execution_count": 417,
      "outputs": [
        {
          "output_type": "execute_result",
          "data": {
            "text/html": [
              "<div>\n",
              "<style scoped>\n",
              "    .dataframe tbody tr th:only-of-type {\n",
              "        vertical-align: middle;\n",
              "    }\n",
              "\n",
              "    .dataframe tbody tr th {\n",
              "        vertical-align: top;\n",
              "    }\n",
              "\n",
              "    .dataframe thead th {\n",
              "        text-align: right;\n",
              "    }\n",
              "</style>\n",
              "<table border=\"1\" class=\"dataframe\">\n",
              "  <thead>\n",
              "    <tr style=\"text-align: right;\">\n",
              "      <th></th>\n",
              "      <th>dsc_estado</th>\n",
              "      <th>Modalidade de Operação</th>\n",
              "      <th>nom_tipocombustivel2</th>\n",
              "      <th>nom_tipousinasite</th>\n",
              "      <th>Selecione Tipo de GE Simp 4</th>\n",
              "      <th>Din Instante</th>\n",
              "      <th>Din Instante GE Simp 4</th>\n",
              "      <th>Val Geraenergiacongwh</th>\n",
              "      <th>Val Geraenergiaconmwmed</th>\n",
              "    </tr>\n",
              "  </thead>\n",
              "  <tbody>\n",
              "    <tr>\n",
              "      <th>0</th>\n",
              "      <td>2</td>\n",
              "      <td>6</td>\n",
              "      <td>2</td>\n",
              "      <td>0</td>\n",
              "      <td>0.00</td>\n",
              "      <td>31/12/2020 00:00</td>\n",
              "      <td>01/12/2020 00:00</td>\n",
              "      <td>0.000000</td>\n",
              "      <td>0.000000</td>\n",
              "    </tr>\n",
              "    <tr>\n",
              "      <th>1</th>\n",
              "      <td>1</td>\n",
              "      <td>6</td>\n",
              "      <td>2</td>\n",
              "      <td>0</td>\n",
              "      <td>11.95</td>\n",
              "      <td>31/12/2020 00:00</td>\n",
              "      <td>01/12/2020 00:00</td>\n",
              "      <td>8.891672</td>\n",
              "      <td>11.951172</td>\n",
              "    </tr>\n",
              "    <tr>\n",
              "      <th>2</th>\n",
              "      <td>2</td>\n",
              "      <td>6</td>\n",
              "      <td>2</td>\n",
              "      <td>0</td>\n",
              "      <td>1.88</td>\n",
              "      <td>31/12/2020 00:00</td>\n",
              "      <td>01/12/2020 00:00</td>\n",
              "      <td>1.397629</td>\n",
              "      <td>1.878534</td>\n",
              "    </tr>\n",
              "    <tr>\n",
              "      <th>3</th>\n",
              "      <td>0</td>\n",
              "      <td>2</td>\n",
              "      <td>6</td>\n",
              "      <td>1</td>\n",
              "      <td>2494.88</td>\n",
              "      <td>31/12/2020 00:00</td>\n",
              "      <td>01/12/2020 00:00</td>\n",
              "      <td>1856.189991</td>\n",
              "      <td>2494.879020</td>\n",
              "    </tr>\n",
              "    <tr>\n",
              "      <th>4</th>\n",
              "      <td>4</td>\n",
              "      <td>6</td>\n",
              "      <td>2</td>\n",
              "      <td>0</td>\n",
              "      <td>0.00</td>\n",
              "      <td>31/12/2020 00:00</td>\n",
              "      <td>01/12/2020 00:00</td>\n",
              "      <td>0.000000</td>\n",
              "      <td>0.000000</td>\n",
              "    </tr>\n",
              "  </tbody>\n",
              "</table>\n",
              "</div>"
            ],
            "text/plain": [
              "   dsc_estado  ...  Val Geraenergiaconmwmed\n",
              "0           2  ...                 0.000000\n",
              "1           1  ...                11.951172\n",
              "2           2  ...                 1.878534\n",
              "3           0  ...              2494.879020\n",
              "4           4  ...                 0.000000\n",
              "\n",
              "[5 rows x 9 columns]"
            ]
          },
          "metadata": {
            "tags": []
          },
          "execution_count": 417
        }
      ]
    },
    {
      "cell_type": "code",
      "metadata": {
        "colab": {
          "base_uri": "https://localhost:8080/",
          "height": 17
        },
        "id": "I211Wmm29_Rs",
        "outputId": "3ed63552-2755-4e2f-defd-4e72159f88c1"
      },
      "source": [
        "#Salvando ons_basereduzida1.csv transformado\n",
        "df = pd.DataFrame(df)\n",
        "df.to_csv('ons_basereduzida1.csv')\n",
        "# Importando arquivo transformado\n",
        "from google.colab import files\n",
        "#Aprendizado de Máquina – DIM0872 58\n",
        "files.download('ons_basereduzida1.csv')"
      ],
      "execution_count": 418,
      "outputs": [
        {
          "output_type": "display_data",
          "data": {
            "application/javascript": [
              "\n",
              "    async function download(id, filename, size) {\n",
              "      if (!google.colab.kernel.accessAllowed) {\n",
              "        return;\n",
              "      }\n",
              "      const div = document.createElement('div');\n",
              "      const label = document.createElement('label');\n",
              "      label.textContent = `Downloading \"${filename}\": `;\n",
              "      div.appendChild(label);\n",
              "      const progress = document.createElement('progress');\n",
              "      progress.max = size;\n",
              "      div.appendChild(progress);\n",
              "      document.body.appendChild(div);\n",
              "\n",
              "      const buffers = [];\n",
              "      let downloaded = 0;\n",
              "\n",
              "      const channel = await google.colab.kernel.comms.open(id);\n",
              "      // Send a message to notify the kernel that we're ready.\n",
              "      channel.send({})\n",
              "\n",
              "      for await (const message of channel.messages) {\n",
              "        // Send a message to notify the kernel that we're ready.\n",
              "        channel.send({})\n",
              "        if (message.buffers) {\n",
              "          for (const buffer of message.buffers) {\n",
              "            buffers.push(buffer);\n",
              "            downloaded += buffer.byteLength;\n",
              "            progress.value = downloaded;\n",
              "          }\n",
              "        }\n",
              "      }\n",
              "      const blob = new Blob(buffers, {type: 'application/binary'});\n",
              "      const a = document.createElement('a');\n",
              "      a.href = window.URL.createObjectURL(blob);\n",
              "      a.download = filename;\n",
              "      div.appendChild(a);\n",
              "      a.click();\n",
              "      div.remove();\n",
              "    }\n",
              "  "
            ],
            "text/plain": [
              "<IPython.core.display.Javascript object>"
            ]
          },
          "metadata": {
            "tags": []
          }
        },
        {
          "output_type": "display_data",
          "data": {
            "application/javascript": [
              "download(\"download_b6120b36-5e1e-4371-9741-9137aedb1b42\", \"ons_basereduzida1.csv\", 3983933)"
            ],
            "text/plain": [
              "<IPython.core.display.Javascript object>"
            ]
          },
          "metadata": {
            "tags": []
          }
        }
      ]
    },
    {
      "cell_type": "code",
      "metadata": {
        "id": "s_wcuBGsmkwG"
      },
      "source": [
        "df.info()"
      ],
      "execution_count": null,
      "outputs": []
    },
    {
      "cell_type": "code",
      "metadata": {
        "colab": {
          "base_uri": "https://localhost:8080/",
          "height": 343
        },
        "id": "9scuSu3H0mIM",
        "outputId": "1cfcbd9e-9bad-41b2-deeb-d39874b3adf7"
      },
      "source": [
        "df.head()"
      ],
      "execution_count": 420,
      "outputs": [
        {
          "output_type": "execute_result",
          "data": {
            "text/html": [
              "<div>\n",
              "<style scoped>\n",
              "    .dataframe tbody tr th:only-of-type {\n",
              "        vertical-align: middle;\n",
              "    }\n",
              "\n",
              "    .dataframe tbody tr th {\n",
              "        vertical-align: top;\n",
              "    }\n",
              "\n",
              "    .dataframe thead th {\n",
              "        text-align: right;\n",
              "    }\n",
              "</style>\n",
              "<table border=\"1\" class=\"dataframe\">\n",
              "  <thead>\n",
              "    <tr style=\"text-align: right;\">\n",
              "      <th></th>\n",
              "      <th>dsc_estado</th>\n",
              "      <th>Modalidade de Operação</th>\n",
              "      <th>nom_tipocombustivel2</th>\n",
              "      <th>nom_tipousinasite</th>\n",
              "      <th>Selecione Tipo de GE Simp 4</th>\n",
              "      <th>Din Instante</th>\n",
              "      <th>Din Instante GE Simp 4</th>\n",
              "      <th>Val Geraenergiacongwh</th>\n",
              "      <th>Val Geraenergiaconmwmed</th>\n",
              "    </tr>\n",
              "  </thead>\n",
              "  <tbody>\n",
              "    <tr>\n",
              "      <th>0</th>\n",
              "      <td>2</td>\n",
              "      <td>6</td>\n",
              "      <td>2</td>\n",
              "      <td>0</td>\n",
              "      <td>0.00</td>\n",
              "      <td>31/12/2020 00:00</td>\n",
              "      <td>01/12/2020 00:00</td>\n",
              "      <td>0.000000</td>\n",
              "      <td>0.000000</td>\n",
              "    </tr>\n",
              "    <tr>\n",
              "      <th>1</th>\n",
              "      <td>1</td>\n",
              "      <td>6</td>\n",
              "      <td>2</td>\n",
              "      <td>0</td>\n",
              "      <td>11.95</td>\n",
              "      <td>31/12/2020 00:00</td>\n",
              "      <td>01/12/2020 00:00</td>\n",
              "      <td>8.891672</td>\n",
              "      <td>11.951172</td>\n",
              "    </tr>\n",
              "    <tr>\n",
              "      <th>2</th>\n",
              "      <td>2</td>\n",
              "      <td>6</td>\n",
              "      <td>2</td>\n",
              "      <td>0</td>\n",
              "      <td>1.88</td>\n",
              "      <td>31/12/2020 00:00</td>\n",
              "      <td>01/12/2020 00:00</td>\n",
              "      <td>1.397629</td>\n",
              "      <td>1.878534</td>\n",
              "    </tr>\n",
              "    <tr>\n",
              "      <th>3</th>\n",
              "      <td>0</td>\n",
              "      <td>2</td>\n",
              "      <td>6</td>\n",
              "      <td>1</td>\n",
              "      <td>2494.88</td>\n",
              "      <td>31/12/2020 00:00</td>\n",
              "      <td>01/12/2020 00:00</td>\n",
              "      <td>1856.189991</td>\n",
              "      <td>2494.879020</td>\n",
              "    </tr>\n",
              "    <tr>\n",
              "      <th>4</th>\n",
              "      <td>4</td>\n",
              "      <td>6</td>\n",
              "      <td>2</td>\n",
              "      <td>0</td>\n",
              "      <td>0.00</td>\n",
              "      <td>31/12/2020 00:00</td>\n",
              "      <td>01/12/2020 00:00</td>\n",
              "      <td>0.000000</td>\n",
              "      <td>0.000000</td>\n",
              "    </tr>\n",
              "  </tbody>\n",
              "</table>\n",
              "</div>"
            ],
            "text/plain": [
              "   dsc_estado  ...  Val Geraenergiaconmwmed\n",
              "0           2  ...                 0.000000\n",
              "1           1  ...                11.951172\n",
              "2           2  ...                 1.878534\n",
              "3           0  ...              2494.879020\n",
              "4           4  ...                 0.000000\n",
              "\n",
              "[5 rows x 9 columns]"
            ]
          },
          "metadata": {
            "tags": []
          },
          "execution_count": 420
        }
      ]
    },
    {
      "cell_type": "markdown",
      "metadata": {
        "id": "ZPUX_lylYC1d"
      },
      "source": [
        "**Binarização Atributo**"
      ]
    },
    {
      "cell_type": "code",
      "metadata": {
        "id": "P0b6XR_cX1im"
      },
      "source": [
        "df_cat = pd.get_dummies(df_cat)"
      ],
      "execution_count": 421,
      "outputs": []
    },
    {
      "cell_type": "code",
      "metadata": {
        "colab": {
          "base_uri": "https://localhost:8080/"
        },
        "id": "fAOzM44PYuBi",
        "outputId": "077a9dc9-2320-44e2-9fea-219669fcb8cf"
      },
      "source": [
        "df_cat.info()"
      ],
      "execution_count": 422,
      "outputs": [
        {
          "output_type": "stream",
          "text": [
            "<class 'pandas.core.frame.DataFrame'>\n",
            "RangeIndex: 54977 entries, 0 to 54976\n",
            "Columns: 855 entries, Modalidade de Operação_Conjunto de Usinas to Período Verifica GE Simp 4_VERDADEIRO\n",
            "dtypes: uint8(855)\n",
            "memory usage: 44.8 MB\n"
          ],
          "name": "stdout"
        }
      ]
    },
    {
      "cell_type": "markdown",
      "metadata": {
        "id": "xogDQcU3YFjb"
      },
      "source": [
        "**Binarização Classe**"
      ]
    },
    {
      "cell_type": "code",
      "metadata": {
        "id": "6XfY7htnYRE9",
        "colab": {
          "base_uri": "https://localhost:8080/"
        },
        "outputId": "f8d10aec-88f7-495c-806f-39abf44b0a93"
      },
      "source": [
        "demanda = df.filter(items=['Demanda'])\n",
        "demanda = pd.get_dummies('Demanda')\n",
        "demanda.info()"
      ],
      "execution_count": 423,
      "outputs": [
        {
          "output_type": "stream",
          "text": [
            "<class 'pandas.core.frame.DataFrame'>\n",
            "RangeIndex: 1 entries, 0 to 0\n",
            "Data columns (total 1 columns):\n",
            " #   Column   Non-Null Count  Dtype\n",
            "---  ------   --------------  -----\n",
            " 0   Demanda  1 non-null      uint8\n",
            "dtypes: uint8(1)\n",
            "memory usage: 129.0 bytes\n"
          ],
          "name": "stdout"
        }
      ]
    },
    {
      "cell_type": "markdown",
      "metadata": {
        "id": "y3_3qF42QoNp"
      },
      "source": [
        "**Apresentando os tipos de dados da base**"
      ]
    },
    {
      "cell_type": "code",
      "metadata": {
        "id": "MUVySyist7Sa",
        "colab": {
          "base_uri": "https://localhost:8080/"
        },
        "outputId": "6eccf35c-2815-4642-ac6a-13f2e1725ddb"
      },
      "source": [
        "df.info()"
      ],
      "execution_count": 424,
      "outputs": [
        {
          "output_type": "stream",
          "text": [
            "<class 'pandas.core.frame.DataFrame'>\n",
            "Int64Index: 54977 entries, 0 to 54976\n",
            "Data columns (total 9 columns):\n",
            " #   Column                       Non-Null Count  Dtype  \n",
            "---  ------                       --------------  -----  \n",
            " 0   dsc_estado                   54977 non-null  int8   \n",
            " 1   Modalidade de Operação       54977 non-null  int8   \n",
            " 2   nom_tipocombustivel2         54977 non-null  int8   \n",
            " 3   nom_tipousinasite            54977 non-null  int8   \n",
            " 4   Selecione Tipo de GE Simp 4  54977 non-null  float64\n",
            " 5   Din Instante                 54977 non-null  object \n",
            " 6   Din Instante GE Simp 4       54977 non-null  object \n",
            " 7   Val Geraenergiacongwh        54977 non-null  float64\n",
            " 8   Val Geraenergiaconmwmed      54977 non-null  float64\n",
            "dtypes: float64(3), int8(4), object(2)\n",
            "memory usage: 2.7+ MB\n"
          ],
          "name": "stdout"
        }
      ]
    },
    {
      "cell_type": "markdown",
      "metadata": {
        "id": "GwoEMQF7QuTr"
      },
      "source": [
        "Selecionando os tipos objeto e apresentando na cabeça"
      ]
    },
    {
      "cell_type": "code",
      "metadata": {
        "id": "ZVJi574Gp184"
      },
      "source": [
        "#df.select_dtypes(include='float').head()"
      ],
      "execution_count": 373,
      "outputs": []
    },
    {
      "cell_type": "code",
      "metadata": {
        "colab": {
          "base_uri": "https://localhost:8080/",
          "height": 371
        },
        "id": "6Dx8fpOHNGOD",
        "outputId": "99a04c2a-30eb-45b6-a016-93de6bd29191"
      },
      "source": [
        "df.corr()"
      ],
      "execution_count": 425,
      "outputs": [
        {
          "output_type": "execute_result",
          "data": {
            "text/html": [
              "<div>\n",
              "<style scoped>\n",
              "    .dataframe tbody tr th:only-of-type {\n",
              "        vertical-align: middle;\n",
              "    }\n",
              "\n",
              "    .dataframe tbody tr th {\n",
              "        vertical-align: top;\n",
              "    }\n",
              "\n",
              "    .dataframe thead th {\n",
              "        text-align: right;\n",
              "    }\n",
              "</style>\n",
              "<table border=\"1\" class=\"dataframe\">\n",
              "  <thead>\n",
              "    <tr style=\"text-align: right;\">\n",
              "      <th></th>\n",
              "      <th>dsc_estado</th>\n",
              "      <th>Modalidade de Operação</th>\n",
              "      <th>nom_tipocombustivel2</th>\n",
              "      <th>nom_tipousinasite</th>\n",
              "      <th>Selecione Tipo de GE Simp 4</th>\n",
              "      <th>Val Geraenergiacongwh</th>\n",
              "      <th>Val Geraenergiaconmwmed</th>\n",
              "    </tr>\n",
              "  </thead>\n",
              "  <tbody>\n",
              "    <tr>\n",
              "      <th>dsc_estado</th>\n",
              "      <td>1.000000</td>\n",
              "      <td>0.129409</td>\n",
              "      <td>-0.103715</td>\n",
              "      <td>-0.129374</td>\n",
              "      <td>-0.121932</td>\n",
              "      <td>-0.121862</td>\n",
              "      <td>-0.121932</td>\n",
              "    </tr>\n",
              "    <tr>\n",
              "      <th>Modalidade de Operação</th>\n",
              "      <td>0.129409</td>\n",
              "      <td>1.000000</td>\n",
              "      <td>-0.642540</td>\n",
              "      <td>-0.424195</td>\n",
              "      <td>-0.300635</td>\n",
              "      <td>-0.300425</td>\n",
              "      <td>-0.300635</td>\n",
              "    </tr>\n",
              "    <tr>\n",
              "      <th>nom_tipocombustivel2</th>\n",
              "      <td>-0.103715</td>\n",
              "      <td>-0.642540</td>\n",
              "      <td>1.000000</td>\n",
              "      <td>0.584500</td>\n",
              "      <td>0.137396</td>\n",
              "      <td>0.137267</td>\n",
              "      <td>0.137396</td>\n",
              "    </tr>\n",
              "    <tr>\n",
              "      <th>nom_tipousinasite</th>\n",
              "      <td>-0.129374</td>\n",
              "      <td>-0.424195</td>\n",
              "      <td>0.584500</td>\n",
              "      <td>1.000000</td>\n",
              "      <td>0.052476</td>\n",
              "      <td>0.052371</td>\n",
              "      <td>0.052476</td>\n",
              "    </tr>\n",
              "    <tr>\n",
              "      <th>Selecione Tipo de GE Simp 4</th>\n",
              "      <td>-0.121932</td>\n",
              "      <td>-0.300635</td>\n",
              "      <td>0.137396</td>\n",
              "      <td>0.052476</td>\n",
              "      <td>1.000000</td>\n",
              "      <td>0.999638</td>\n",
              "      <td>1.000000</td>\n",
              "    </tr>\n",
              "    <tr>\n",
              "      <th>Val Geraenergiacongwh</th>\n",
              "      <td>-0.121862</td>\n",
              "      <td>-0.300425</td>\n",
              "      <td>0.137267</td>\n",
              "      <td>0.052371</td>\n",
              "      <td>0.999638</td>\n",
              "      <td>1.000000</td>\n",
              "      <td>0.999638</td>\n",
              "    </tr>\n",
              "    <tr>\n",
              "      <th>Val Geraenergiaconmwmed</th>\n",
              "      <td>-0.121932</td>\n",
              "      <td>-0.300635</td>\n",
              "      <td>0.137396</td>\n",
              "      <td>0.052476</td>\n",
              "      <td>1.000000</td>\n",
              "      <td>0.999638</td>\n",
              "      <td>1.000000</td>\n",
              "    </tr>\n",
              "  </tbody>\n",
              "</table>\n",
              "</div>"
            ],
            "text/plain": [
              "                             dsc_estado  ...  Val Geraenergiaconmwmed\n",
              "dsc_estado                     1.000000  ...                -0.121932\n",
              "Modalidade de Operação         0.129409  ...                -0.300635\n",
              "nom_tipocombustivel2          -0.103715  ...                 0.137396\n",
              "nom_tipousinasite             -0.129374  ...                 0.052476\n",
              "Selecione Tipo de GE Simp 4   -0.121932  ...                 1.000000\n",
              "Val Geraenergiacongwh         -0.121862  ...                 0.999638\n",
              "Val Geraenergiaconmwmed       -0.121932  ...                 1.000000\n",
              "\n",
              "[7 rows x 7 columns]"
            ]
          },
          "metadata": {
            "tags": []
          },
          "execution_count": 425
        }
      ]
    },
    {
      "cell_type": "markdown",
      "metadata": {
        "id": "wwhpYnqnQ0Rp"
      },
      "source": [
        "Fazendo a transformação dos dados da coluna Val Geraenergiacongwh para numerico"
      ]
    },
    {
      "cell_type": "code",
      "metadata": {
        "id": "bn0OePiNHN4V"
      },
      "source": [
        "#df['Val Geraenergiacongwh'] = df['Val Geraenergiacongwh'].astype(float)"
      ],
      "execution_count": 375,
      "outputs": []
    },
    {
      "cell_type": "code",
      "metadata": {
        "id": "FvqFcrmGKN-Z"
      },
      "source": [
        "#dn = df['Val Geraenergiacongwh'].astype(str).str.replace(\",\" , \".\").astype(float)"
      ],
      "execution_count": 376,
      "outputs": []
    },
    {
      "cell_type": "code",
      "metadata": {
        "id": "5fUqaDgIK5Rw",
        "colab": {
          "base_uri": "https://localhost:8080/"
        },
        "outputId": "78523690-4506-4204-a410-cac2b86136b8"
      },
      "source": [
        "dn.mean()"
      ],
      "execution_count": 377,
      "outputs": [
        {
          "output_type": "execute_result",
          "data": {
            "text/plain": [
              "24.586490363251798"
            ]
          },
          "metadata": {
            "tags": []
          },
          "execution_count": 377
        }
      ]
    },
    {
      "cell_type": "code",
      "metadata": {
        "id": "hdsG9EmLKXIW",
        "colab": {
          "base_uri": "https://localhost:8080/"
        },
        "outputId": "0aabfc01-8086-4897-ace1-7a6f3314a16f"
      },
      "source": [
        "df.isnull().sum()"
      ],
      "execution_count": 426,
      "outputs": [
        {
          "output_type": "execute_result",
          "data": {
            "text/plain": [
              "dsc_estado                     0\n",
              "Modalidade de Operação         0\n",
              "nom_tipocombustivel2           0\n",
              "nom_tipousinasite              0\n",
              "Selecione Tipo de GE Simp 4    0\n",
              "Din Instante                   0\n",
              "Din Instante GE Simp 4         0\n",
              "Val Geraenergiacongwh          0\n",
              "Val Geraenergiaconmwmed        0\n",
              "dtype: int64"
            ]
          },
          "metadata": {
            "tags": []
          },
          "execution_count": 426
        }
      ]
    },
    {
      "cell_type": "code",
      "metadata": {
        "id": "hG5QhsPOPhEQ",
        "colab": {
          "base_uri": "https://localhost:8080/"
        },
        "outputId": "ef4b8def-31f4-45fa-e8bd-9d3cb8a6ff09"
      },
      "source": [
        "df['Val Geraenergiacongwh'].value_counts()"
      ],
      "execution_count": 427,
      "outputs": [
        {
          "output_type": "execute_result",
          "data": {
            "text/plain": [
              "0.000000      13711\n",
              "0.000001         38\n",
              "0.000002         14\n",
              "14.880000        13\n",
              "11.160000        11\n",
              "              ...  \n",
              "111.833713        1\n",
              "1.761113          1\n",
              "6.782204          1\n",
              "8.067081          1\n",
              "6.760351          1\n",
              "Name: Val Geraenergiacongwh, Length: 41052, dtype: int64"
            ]
          },
          "metadata": {
            "tags": []
          },
          "execution_count": 427
        }
      ]
    },
    {
      "cell_type": "markdown",
      "metadata": {
        "id": "FpwfJrHoG_Qx"
      },
      "source": [
        "Descrevendo os dados\n"
      ]
    },
    {
      "cell_type": "code",
      "metadata": {
        "id": "qD34KxHTRMv4",
        "colab": {
          "base_uri": "https://localhost:8080/",
          "height": 351
        },
        "outputId": "d808672f-c870-4333-c841-a4960a7ccb04"
      },
      "source": [
        "df.describe()"
      ],
      "execution_count": 428,
      "outputs": [
        {
          "output_type": "execute_result",
          "data": {
            "text/html": [
              "<div>\n",
              "<style scoped>\n",
              "    .dataframe tbody tr th:only-of-type {\n",
              "        vertical-align: middle;\n",
              "    }\n",
              "\n",
              "    .dataframe tbody tr th {\n",
              "        vertical-align: top;\n",
              "    }\n",
              "\n",
              "    .dataframe thead th {\n",
              "        text-align: right;\n",
              "    }\n",
              "</style>\n",
              "<table border=\"1\" class=\"dataframe\">\n",
              "  <thead>\n",
              "    <tr style=\"text-align: right;\">\n",
              "      <th></th>\n",
              "      <th>dsc_estado</th>\n",
              "      <th>Modalidade de Operação</th>\n",
              "      <th>nom_tipocombustivel2</th>\n",
              "      <th>nom_tipousinasite</th>\n",
              "      <th>Selecione Tipo de GE Simp 4</th>\n",
              "      <th>Val Geraenergiacongwh</th>\n",
              "      <th>Val Geraenergiaconmwmed</th>\n",
              "    </tr>\n",
              "  </thead>\n",
              "  <tbody>\n",
              "    <tr>\n",
              "      <th>count</th>\n",
              "      <td>54977.000000</td>\n",
              "      <td>54977.000000</td>\n",
              "      <td>54977.000000</td>\n",
              "      <td>54977.000000</td>\n",
              "      <td>54977.000000</td>\n",
              "      <td>5.497700e+04</td>\n",
              "      <td>5.497700e+04</td>\n",
              "    </tr>\n",
              "    <tr>\n",
              "      <th>mean</th>\n",
              "      <td>3.757244</td>\n",
              "      <td>4.620696</td>\n",
              "      <td>3.269822</td>\n",
              "      <td>0.860323</td>\n",
              "      <td>33.644222</td>\n",
              "      <td>2.458649e+01</td>\n",
              "      <td>3.364422e+01</td>\n",
              "    </tr>\n",
              "    <tr>\n",
              "      <th>std</th>\n",
              "      <td>2.619219</td>\n",
              "      <td>1.308827</td>\n",
              "      <td>2.642626</td>\n",
              "      <td>1.235763</td>\n",
              "      <td>163.130203</td>\n",
              "      <td>1.192393e+02</td>\n",
              "      <td>1.631302e+02</td>\n",
              "    </tr>\n",
              "    <tr>\n",
              "      <th>min</th>\n",
              "      <td>0.000000</td>\n",
              "      <td>0.000000</td>\n",
              "      <td>0.000000</td>\n",
              "      <td>0.000000</td>\n",
              "      <td>-0.280000</td>\n",
              "      <td>-1.998000e-01</td>\n",
              "      <td>-2.775000e-01</td>\n",
              "    </tr>\n",
              "    <tr>\n",
              "      <th>25%</th>\n",
              "      <td>1.000000</td>\n",
              "      <td>5.000000</td>\n",
              "      <td>2.000000</td>\n",
              "      <td>0.000000</td>\n",
              "      <td>0.000000</td>\n",
              "      <td>5.000000e-08</td>\n",
              "      <td>7.000000e-08</td>\n",
              "    </tr>\n",
              "    <tr>\n",
              "      <th>50%</th>\n",
              "      <td>4.000000</td>\n",
              "      <td>5.000000</td>\n",
              "      <td>2.000000</td>\n",
              "      <td>0.000000</td>\n",
              "      <td>7.120000</td>\n",
              "      <td>5.173655e+00</td>\n",
              "      <td>7.122796e+00</td>\n",
              "    </tr>\n",
              "    <tr>\n",
              "      <th>75%</th>\n",
              "      <td>6.000000</td>\n",
              "      <td>5.000000</td>\n",
              "      <td>3.000000</td>\n",
              "      <td>2.000000</td>\n",
              "      <td>13.980000</td>\n",
              "      <td>1.026257e+01</td>\n",
              "      <td>1.398177e+01</td>\n",
              "    </tr>\n",
              "    <tr>\n",
              "      <th>max</th>\n",
              "      <td>10.000000</td>\n",
              "      <td>6.000000</td>\n",
              "      <td>10.000000</td>\n",
              "      <td>3.000000</td>\n",
              "      <td>2864.860000</td>\n",
              "      <td>2.131460e+03</td>\n",
              "      <td>2.864865e+03</td>\n",
              "    </tr>\n",
              "  </tbody>\n",
              "</table>\n",
              "</div>"
            ],
            "text/plain": [
              "         dsc_estado  ...  Val Geraenergiaconmwmed\n",
              "count  54977.000000  ...             5.497700e+04\n",
              "mean       3.757244  ...             3.364422e+01\n",
              "std        2.619219  ...             1.631302e+02\n",
              "min        0.000000  ...            -2.775000e-01\n",
              "25%        1.000000  ...             7.000000e-08\n",
              "50%        4.000000  ...             7.122796e+00\n",
              "75%        6.000000  ...             1.398177e+01\n",
              "max       10.000000  ...             2.864865e+03\n",
              "\n",
              "[8 rows x 7 columns]"
            ]
          },
          "metadata": {
            "tags": []
          },
          "execution_count": 428
        }
      ]
    },
    {
      "cell_type": "markdown",
      "metadata": {
        "id": "XOCrSjt4sJKz"
      },
      "source": [
        "Selecionando amostra de 100 elementos\n"
      ]
    },
    {
      "cell_type": "code",
      "metadata": {
        "id": "qxlb_udOdG67",
        "colab": {
          "base_uri": "https://localhost:8080/",
          "height": 745
        },
        "outputId": "8037d7c5-eda2-4779-b501-04537642d681"
      },
      "source": [
        "df.sample(100, replace= True)"
      ],
      "execution_count": 381,
      "outputs": [
        {
          "output_type": "execute_result",
          "data": {
            "text/html": [
              "<div>\n",
              "<style scoped>\n",
              "    .dataframe tbody tr th:only-of-type {\n",
              "        vertical-align: middle;\n",
              "    }\n",
              "\n",
              "    .dataframe tbody tr th {\n",
              "        vertical-align: top;\n",
              "    }\n",
              "\n",
              "    .dataframe thead th {\n",
              "        text-align: right;\n",
              "    }\n",
              "</style>\n",
              "<table border=\"1\" class=\"dataframe\">\n",
              "  <thead>\n",
              "    <tr style=\"text-align: right;\">\n",
              "      <th></th>\n",
              "      <th>dsc_estado</th>\n",
              "      <th>id_subsistema</th>\n",
              "      <th>Modalidade de Operação</th>\n",
              "      <th>nom_tipocombustivel2</th>\n",
              "      <th>nom_tipousinasite</th>\n",
              "      <th>nom_usina2</th>\n",
              "      <th>Período Verifica GE Simp 4</th>\n",
              "      <th>Selecione Tipo de GE Simp 4</th>\n",
              "      <th>Din Instante</th>\n",
              "      <th>Din Instante GE Simp 4</th>\n",
              "      <th>Table Name</th>\n",
              "      <th>Val Geraenergiacongwh</th>\n",
              "      <th>Val Geraenergiaconmwmed</th>\n",
              "      <th>Produção</th>\n",
              "    </tr>\n",
              "  </thead>\n",
              "  <tbody>\n",
              "    <tr>\n",
              "      <th>39628</th>\n",
              "      <td>BAHIA</td>\n",
              "      <td>Nordeste</td>\n",
              "      <td>5</td>\n",
              "      <td>2</td>\n",
              "      <td>0</td>\n",
              "      <td>DELFINA 7</td>\n",
              "      <td>VERDADEIRO</td>\n",
              "      <td>0.00</td>\n",
              "      <td>29/02/2016 00:00</td>\n",
              "      <td>01/02/2016 00:00</td>\n",
              "      <td>gr_meusinaprevcarga</td>\n",
              "      <td>0.000000</td>\n",
              "      <td>0.000000</td>\n",
              "      <td>NaN</td>\n",
              "    </tr>\n",
              "    <tr>\n",
              "      <th>35174</th>\n",
              "      <td>CEARA</td>\n",
              "      <td>Nordeste</td>\n",
              "      <td>5</td>\n",
              "      <td>2</td>\n",
              "      <td>0</td>\n",
              "      <td>VOLTA DO RIO</td>\n",
              "      <td>VERDADEIRO</td>\n",
              "      <td>13.61</td>\n",
              "      <td>31/10/2016 00:00</td>\n",
              "      <td>01/10/2016 00:00</td>\n",
              "      <td>gr_meusinaprevcarga</td>\n",
              "      <td>10.122523</td>\n",
              "      <td>13.605542</td>\n",
              "      <td>NaN</td>\n",
              "    </tr>\n",
              "    <tr>\n",
              "      <th>39019</th>\n",
              "      <td>BAHIA</td>\n",
              "      <td>Nordeste</td>\n",
              "      <td>5</td>\n",
              "      <td>2</td>\n",
              "      <td>0</td>\n",
              "      <td>EOL INHAMBU - CAETITE BH</td>\n",
              "      <td>VERDADEIRO</td>\n",
              "      <td>10.34</td>\n",
              "      <td>31/03/2016 00:00</td>\n",
              "      <td>01/03/2016 00:00</td>\n",
              "      <td>gr_meusinaprevcarga</td>\n",
              "      <td>7.691794</td>\n",
              "      <td>10.338433</td>\n",
              "      <td>NaN</td>\n",
              "    </tr>\n",
              "    <tr>\n",
              "      <th>3150</th>\n",
              "      <td>BAHIA</td>\n",
              "      <td>Nordeste</td>\n",
              "      <td>5</td>\n",
              "      <td>2</td>\n",
              "      <td>0</td>\n",
              "      <td>NOVO HORIZONTE - EOL N HORIZ</td>\n",
              "      <td>VERDADEIRO</td>\n",
              "      <td>19.21</td>\n",
              "      <td>31/08/2020 00:00</td>\n",
              "      <td>01/08/2020 00:00</td>\n",
              "      <td>gr_meusinaprevcarga</td>\n",
              "      <td>14.290815</td>\n",
              "      <td>19.208084</td>\n",
              "      <td>NaN</td>\n",
              "    </tr>\n",
              "    <tr>\n",
              "      <th>35590</th>\n",
              "      <td>ALAGOAS</td>\n",
              "      <td>Nordeste</td>\n",
              "      <td>6</td>\n",
              "      <td>0</td>\n",
              "      <td>3</td>\n",
              "      <td>CORURIPE (ACEP)</td>\n",
              "      <td>VERDADEIRO</td>\n",
              "      <td>8.08</td>\n",
              "      <td>31/10/2016 00:00</td>\n",
              "      <td>01/10/2016 00:00</td>\n",
              "      <td>gr_meusinaprevcarga</td>\n",
              "      <td>6.010435</td>\n",
              "      <td>8.078542</td>\n",
              "      <td>NaN</td>\n",
              "    </tr>\n",
              "    <tr>\n",
              "      <th>...</th>\n",
              "      <td>...</td>\n",
              "      <td>...</td>\n",
              "      <td>...</td>\n",
              "      <td>...</td>\n",
              "      <td>...</td>\n",
              "      <td>...</td>\n",
              "      <td>...</td>\n",
              "      <td>...</td>\n",
              "      <td>...</td>\n",
              "      <td>...</td>\n",
              "      <td>...</td>\n",
              "      <td>...</td>\n",
              "      <td>...</td>\n",
              "      <td>...</td>\n",
              "    </tr>\n",
              "    <tr>\n",
              "      <th>49253</th>\n",
              "      <td>BAHIA</td>\n",
              "      <td>Nordeste</td>\n",
              "      <td>2</td>\n",
              "      <td>9</td>\n",
              "      <td>3</td>\n",
              "      <td>CAMAÇARI PÓLO DE APOIO I</td>\n",
              "      <td>VERDADEIRO</td>\n",
              "      <td>0.52</td>\n",
              "      <td>31/12/2011 00:00</td>\n",
              "      <td>01/12/2011 00:00</td>\n",
              "      <td>gr_meusinaprevcarga</td>\n",
              "      <td>0.387470</td>\n",
              "      <td>0.520793</td>\n",
              "      <td>NaN</td>\n",
              "    </tr>\n",
              "    <tr>\n",
              "      <th>9296</th>\n",
              "      <td>PARAIBA</td>\n",
              "      <td>Nordeste</td>\n",
              "      <td>6</td>\n",
              "      <td>0</td>\n",
              "      <td>3</td>\n",
              "      <td>AGRO INDUSTRIAL TABU</td>\n",
              "      <td>VERDADEIRO</td>\n",
              "      <td>0.00</td>\n",
              "      <td>31/01/2020 00:00</td>\n",
              "      <td>01/01/2020 00:00</td>\n",
              "      <td>gr_meusinaprevcarga</td>\n",
              "      <td>0.000000</td>\n",
              "      <td>0.000000</td>\n",
              "      <td>NaN</td>\n",
              "    </tr>\n",
              "    <tr>\n",
              "      <th>49893</th>\n",
              "      <td>BAHIA</td>\n",
              "      <td>Nordeste</td>\n",
              "      <td>2</td>\n",
              "      <td>9</td>\n",
              "      <td>3</td>\n",
              "      <td>GLOBAL II</td>\n",
              "      <td>VERDADEIRO</td>\n",
              "      <td>0.00</td>\n",
              "      <td>31/01/2011 00:00</td>\n",
              "      <td>01/01/2011 00:00</td>\n",
              "      <td>gr_meusinaprevcarga</td>\n",
              "      <td>0.000000</td>\n",
              "      <td>0.000000</td>\n",
              "      <td>NaN</td>\n",
              "    </tr>\n",
              "    <tr>\n",
              "      <th>10349</th>\n",
              "      <td>CEARA</td>\n",
              "      <td>Nordeste</td>\n",
              "      <td>5</td>\n",
              "      <td>2</td>\n",
              "      <td>0</td>\n",
              "      <td>VOLTA DO RIO</td>\n",
              "      <td>VERDADEIRO</td>\n",
              "      <td>10.51</td>\n",
              "      <td>30/11/2019 00:00</td>\n",
              "      <td>01/11/2019 00:00</td>\n",
              "      <td>gr_meusinaprevcarga</td>\n",
              "      <td>7.567332</td>\n",
              "      <td>10.510183</td>\n",
              "      <td>NaN</td>\n",
              "    </tr>\n",
              "    <tr>\n",
              "      <th>4307</th>\n",
              "      <td>RIO GRANDE DO NORTE</td>\n",
              "      <td>Nordeste</td>\n",
              "      <td>5</td>\n",
              "      <td>2</td>\n",
              "      <td>0</td>\n",
              "      <td>CAIÇARA I</td>\n",
              "      <td>VERDADEIRO</td>\n",
              "      <td>11.80</td>\n",
              "      <td>31/07/2020 00:00</td>\n",
              "      <td>01/07/2020 00:00</td>\n",
              "      <td>gr_meusinaprevcarga</td>\n",
              "      <td>8.781855</td>\n",
              "      <td>11.803568</td>\n",
              "      <td>NaN</td>\n",
              "    </tr>\n",
              "  </tbody>\n",
              "</table>\n",
              "<p>100 rows × 14 columns</p>\n",
              "</div>"
            ],
            "text/plain": [
              "                dsc_estado id_subsistema  ...  Val Geraenergiaconmwmed  Produção\n",
              "39628                BAHIA      Nordeste  ...                 0.000000       NaN\n",
              "35174                CEARA      Nordeste  ...                13.605542       NaN\n",
              "39019                BAHIA      Nordeste  ...                10.338433       NaN\n",
              "3150                 BAHIA      Nordeste  ...                19.208084       NaN\n",
              "35590              ALAGOAS      Nordeste  ...                 8.078542       NaN\n",
              "...                    ...           ...  ...                      ...       ...\n",
              "49253                BAHIA      Nordeste  ...                 0.520793       NaN\n",
              "9296               PARAIBA      Nordeste  ...                 0.000000       NaN\n",
              "49893                BAHIA      Nordeste  ...                 0.000000       NaN\n",
              "10349                CEARA      Nordeste  ...                10.510183       NaN\n",
              "4307   RIO GRANDE DO NORTE      Nordeste  ...                11.803568       NaN\n",
              "\n",
              "[100 rows x 14 columns]"
            ]
          },
          "metadata": {
            "tags": []
          },
          "execution_count": 381
        }
      ]
    },
    {
      "cell_type": "code",
      "metadata": {
        "id": "lyZAkeu-1lOa",
        "colab": {
          "base_uri": "https://localhost:8080/"
        },
        "outputId": "1c2ccf4f-068a-4aac-e1e2-dc4f64a34641"
      },
      "source": [
        "df.head"
      ],
      "execution_count": 382,
      "outputs": [
        {
          "output_type": "execute_result",
          "data": {
            "text/plain": [
              "<bound method NDFrame.head of       dsc_estado id_subsistema  ...  Val Geraenergiaconmwmed  Produção\n",
              "0          CEARA      Nordeste  ...                 0.000000       NaN\n",
              "1          BAHIA      Nordeste  ...                11.951172       NaN\n",
              "2          CEARA      Nordeste  ...                 1.878534       NaN\n",
              "3        ALAGOAS      Nordeste  ...              2494.879020       NaN\n",
              "4        PARAIBA      Nordeste  ...                 0.000000       NaN\n",
              "...          ...           ...  ...                      ...       ...\n",
              "54972      BAHIA      Nordeste  ...               274.470833       NaN\n",
              "54973      BAHIA      Nordeste  ...               540.765188       NaN\n",
              "54974      BAHIA      Nordeste  ...               641.832796       NaN\n",
              "54975      BAHIA      Nordeste  ...                 9.314785       NaN\n",
              "54976      BAHIA      Nordeste  ...                 0.106989       NaN\n",
              "\n",
              "[54977 rows x 14 columns]>"
            ]
          },
          "metadata": {
            "tags": []
          },
          "execution_count": 382
        }
      ]
    },
    {
      "cell_type": "markdown",
      "metadata": {
        "id": "Ju0lryq-HLQK"
      },
      "source": [
        "Observando os tipos de dados (atençao para os numericos)\n"
      ]
    },
    {
      "cell_type": "code",
      "metadata": {
        "id": "ZYvkYRYlrnWp",
        "colab": {
          "base_uri": "https://localhost:8080/"
        },
        "outputId": "5c1015c1-ff65-458b-c9e6-d69c4c364396"
      },
      "source": [
        "df.dtypes"
      ],
      "execution_count": 429,
      "outputs": [
        {
          "output_type": "execute_result",
          "data": {
            "text/plain": [
              "dsc_estado                        int8\n",
              "Modalidade de Operação            int8\n",
              "nom_tipocombustivel2              int8\n",
              "nom_tipousinasite                 int8\n",
              "Selecione Tipo de GE Simp 4    float64\n",
              "Din Instante                    object\n",
              "Din Instante GE Simp 4          object\n",
              "Val Geraenergiacongwh          float64\n",
              "Val Geraenergiaconmwmed        float64\n",
              "dtype: object"
            ]
          },
          "metadata": {
            "tags": []
          },
          "execution_count": 429
        }
      ]
    },
    {
      "cell_type": "markdown",
      "metadata": {
        "id": "nRDU1VtEHRF5"
      },
      "source": [
        "Colunas do dataframe"
      ]
    },
    {
      "cell_type": "code",
      "metadata": {
        "id": "CWGglrYmuj50",
        "colab": {
          "base_uri": "https://localhost:8080/"
        },
        "outputId": "d55bc500-1c3a-4b77-d10c-1efdeb3e4387"
      },
      "source": [
        "df.columns"
      ],
      "execution_count": 384,
      "outputs": [
        {
          "output_type": "execute_result",
          "data": {
            "text/plain": [
              "Index(['dsc_estado', 'id_subsistema', 'Modalidade de Operação',\n",
              "       'nom_tipocombustivel2', 'nom_tipousinasite', 'nom_usina2',\n",
              "       'Período Verifica GE Simp 4', 'Selecione Tipo de GE Simp 4',\n",
              "       'Din Instante', 'Din Instante GE Simp 4', 'Table Name',\n",
              "       'Val Geraenergiacongwh', 'Val Geraenergiaconmwmed', 'Produção'],\n",
              "      dtype='object')"
            ]
          },
          "metadata": {
            "tags": []
          },
          "execution_count": 384
        }
      ]
    },
    {
      "cell_type": "code",
      "metadata": {
        "id": "P7bosHO8u4AL",
        "colab": {
          "base_uri": "https://localhost:8080/",
          "height": 328
        },
        "outputId": "8613f18b-a402-44c1-edd9-98d7086d82b0"
      },
      "source": [
        "df.head().T"
      ],
      "execution_count": 430,
      "outputs": [
        {
          "output_type": "execute_result",
          "data": {
            "text/html": [
              "<div>\n",
              "<style scoped>\n",
              "    .dataframe tbody tr th:only-of-type {\n",
              "        vertical-align: middle;\n",
              "    }\n",
              "\n",
              "    .dataframe tbody tr th {\n",
              "        vertical-align: top;\n",
              "    }\n",
              "\n",
              "    .dataframe thead th {\n",
              "        text-align: right;\n",
              "    }\n",
              "</style>\n",
              "<table border=\"1\" class=\"dataframe\">\n",
              "  <thead>\n",
              "    <tr style=\"text-align: right;\">\n",
              "      <th></th>\n",
              "      <th>0</th>\n",
              "      <th>1</th>\n",
              "      <th>2</th>\n",
              "      <th>3</th>\n",
              "      <th>4</th>\n",
              "    </tr>\n",
              "  </thead>\n",
              "  <tbody>\n",
              "    <tr>\n",
              "      <th>dsc_estado</th>\n",
              "      <td>2</td>\n",
              "      <td>1</td>\n",
              "      <td>2</td>\n",
              "      <td>0</td>\n",
              "      <td>4</td>\n",
              "    </tr>\n",
              "    <tr>\n",
              "      <th>Modalidade de Operação</th>\n",
              "      <td>6</td>\n",
              "      <td>6</td>\n",
              "      <td>6</td>\n",
              "      <td>2</td>\n",
              "      <td>6</td>\n",
              "    </tr>\n",
              "    <tr>\n",
              "      <th>nom_tipocombustivel2</th>\n",
              "      <td>2</td>\n",
              "      <td>2</td>\n",
              "      <td>2</td>\n",
              "      <td>6</td>\n",
              "      <td>2</td>\n",
              "    </tr>\n",
              "    <tr>\n",
              "      <th>nom_tipousinasite</th>\n",
              "      <td>0</td>\n",
              "      <td>0</td>\n",
              "      <td>0</td>\n",
              "      <td>1</td>\n",
              "      <td>0</td>\n",
              "    </tr>\n",
              "    <tr>\n",
              "      <th>Selecione Tipo de GE Simp 4</th>\n",
              "      <td>0</td>\n",
              "      <td>11.95</td>\n",
              "      <td>1.88</td>\n",
              "      <td>2494.88</td>\n",
              "      <td>0</td>\n",
              "    </tr>\n",
              "    <tr>\n",
              "      <th>Din Instante</th>\n",
              "      <td>31/12/2020 00:00</td>\n",
              "      <td>31/12/2020 00:00</td>\n",
              "      <td>31/12/2020 00:00</td>\n",
              "      <td>31/12/2020 00:00</td>\n",
              "      <td>31/12/2020 00:00</td>\n",
              "    </tr>\n",
              "    <tr>\n",
              "      <th>Din Instante GE Simp 4</th>\n",
              "      <td>01/12/2020 00:00</td>\n",
              "      <td>01/12/2020 00:00</td>\n",
              "      <td>01/12/2020 00:00</td>\n",
              "      <td>01/12/2020 00:00</td>\n",
              "      <td>01/12/2020 00:00</td>\n",
              "    </tr>\n",
              "    <tr>\n",
              "      <th>Val Geraenergiacongwh</th>\n",
              "      <td>0</td>\n",
              "      <td>8.89167</td>\n",
              "      <td>1.39763</td>\n",
              "      <td>1856.19</td>\n",
              "      <td>0</td>\n",
              "    </tr>\n",
              "    <tr>\n",
              "      <th>Val Geraenergiaconmwmed</th>\n",
              "      <td>0</td>\n",
              "      <td>11.9512</td>\n",
              "      <td>1.87853</td>\n",
              "      <td>2494.88</td>\n",
              "      <td>0</td>\n",
              "    </tr>\n",
              "  </tbody>\n",
              "</table>\n",
              "</div>"
            ],
            "text/plain": [
              "                                            0  ...                 4\n",
              "dsc_estado                                  2  ...                 4\n",
              "Modalidade de Operação                      6  ...                 6\n",
              "nom_tipocombustivel2                        2  ...                 2\n",
              "nom_tipousinasite                           0  ...                 0\n",
              "Selecione Tipo de GE Simp 4                 0  ...                 0\n",
              "Din Instante                 31/12/2020 00:00  ...  31/12/2020 00:00\n",
              "Din Instante GE Simp 4       01/12/2020 00:00  ...  01/12/2020 00:00\n",
              "Val Geraenergiacongwh                       0  ...                 0\n",
              "Val Geraenergiaconmwmed                     0  ...                 0\n",
              "\n",
              "[9 rows x 5 columns]"
            ]
          },
          "metadata": {
            "tags": []
          },
          "execution_count": 430
        }
      ]
    },
    {
      "cell_type": "code",
      "metadata": {
        "id": "eb6EwC0FxW_Z",
        "colab": {
          "base_uri": "https://localhost:8080/"
        },
        "outputId": "44318bd4-f1b5-4aec-e101-fbe31e8bf1f1"
      },
      "source": [
        " df.info()"
      ],
      "execution_count": 432,
      "outputs": [
        {
          "output_type": "stream",
          "text": [
            "<class 'pandas.core.frame.DataFrame'>\n",
            "Int64Index: 54977 entries, 0 to 54976\n",
            "Data columns (total 9 columns):\n",
            " #   Column                       Non-Null Count  Dtype  \n",
            "---  ------                       --------------  -----  \n",
            " 0   dsc_estado                   54977 non-null  int8   \n",
            " 1   Modalidade de Operação       54977 non-null  int8   \n",
            " 2   nom_tipocombustivel2         54977 non-null  int8   \n",
            " 3   nom_tipousinasite            54977 non-null  int8   \n",
            " 4   Selecione Tipo de GE Simp 4  54977 non-null  float64\n",
            " 5   Din Instante                 54977 non-null  object \n",
            " 6   Din Instante GE Simp 4       54977 non-null  object \n",
            " 7   Val Geraenergiacongwh        54977 non-null  float64\n",
            " 8   Val Geraenergiaconmwmed      54977 non-null  float64\n",
            "dtypes: float64(3), int8(4), object(2)\n",
            "memory usage: 2.7+ MB\n"
          ],
          "name": "stdout"
        }
      ]
    },
    {
      "cell_type": "markdown",
      "metadata": {
        "id": "O6jDenctHZN0"
      },
      "source": [
        "Somando as instancias do df"
      ]
    },
    {
      "cell_type": "code",
      "metadata": {
        "id": "OuRNRAjGsyzE",
        "colab": {
          "base_uri": "https://localhost:8080/"
        },
        "outputId": "7b85f44b-8943-4e1a-995f-96cac30d1d39"
      },
      "source": [
        "df.isnull().sum().sum()"
      ],
      "execution_count": 433,
      "outputs": [
        {
          "output_type": "execute_result",
          "data": {
            "text/plain": [
              "0"
            ]
          },
          "metadata": {
            "tags": []
          },
          "execution_count": 433
        }
      ]
    },
    {
      "cell_type": "markdown",
      "metadata": {
        "id": "ukIYS_w1RZ4g"
      },
      "source": [
        "Removendo valores duplicados"
      ]
    },
    {
      "cell_type": "code",
      "metadata": {
        "id": "5QoQSyfutuXk",
        "colab": {
          "base_uri": "https://localhost:8080/"
        },
        "outputId": "44e83e0c-f4e9-44eb-f2a6-e569af31fdd5"
      },
      "source": [
        "print('Before ',np.shape(df))\n",
        "df.drop_duplicates(inplace=True)\n",
        "print('After ',np.shape(df))"
      ],
      "execution_count": 434,
      "outputs": [
        {
          "output_type": "stream",
          "text": [
            "Before  (54977, 9)\n",
            "After  (45105, 9)\n"
          ],
          "name": "stdout"
        }
      ]
    },
    {
      "cell_type": "code",
      "metadata": {
        "colab": {
          "base_uri": "https://localhost:8080/",
          "height": 17
        },
        "id": "nxhpz7AHpUIr",
        "outputId": "4f998c14-3210-4150-ee44-257d4a95402f"
      },
      "source": [
        "#Salvando ons_basereduzida1.csv transformado\n",
        "df = pd.DataFrame(df)\n",
        "df.to_csv('ons_basereduzida1.csv')\n",
        "# Importando arquivo transformado\n",
        "from google.colab import files\n",
        "#Aprendizado de Máquina – DIM0872 58\n",
        "files.download('ons_basereduzida1.csv')"
      ],
      "execution_count": 389,
      "outputs": [
        {
          "output_type": "display_data",
          "data": {
            "application/javascript": [
              "\n",
              "    async function download(id, filename, size) {\n",
              "      if (!google.colab.kernel.accessAllowed) {\n",
              "        return;\n",
              "      }\n",
              "      const div = document.createElement('div');\n",
              "      const label = document.createElement('label');\n",
              "      label.textContent = `Downloading \"${filename}\": `;\n",
              "      div.appendChild(label);\n",
              "      const progress = document.createElement('progress');\n",
              "      progress.max = size;\n",
              "      div.appendChild(progress);\n",
              "      document.body.appendChild(div);\n",
              "\n",
              "      const buffers = [];\n",
              "      let downloaded = 0;\n",
              "\n",
              "      const channel = await google.colab.kernel.comms.open(id);\n",
              "      // Send a message to notify the kernel that we're ready.\n",
              "      channel.send({})\n",
              "\n",
              "      for await (const message of channel.messages) {\n",
              "        // Send a message to notify the kernel that we're ready.\n",
              "        channel.send({})\n",
              "        if (message.buffers) {\n",
              "          for (const buffer of message.buffers) {\n",
              "            buffers.push(buffer);\n",
              "            downloaded += buffer.byteLength;\n",
              "            progress.value = downloaded;\n",
              "          }\n",
              "        }\n",
              "      }\n",
              "      const blob = new Blob(buffers, {type: 'application/binary'});\n",
              "      const a = document.createElement('a');\n",
              "      a.href = window.URL.createObjectURL(blob);\n",
              "      a.download = filename;\n",
              "      div.appendChild(a);\n",
              "      a.click();\n",
              "      div.remove();\n",
              "    }\n",
              "  "
            ],
            "text/plain": [
              "<IPython.core.display.Javascript object>"
            ]
          },
          "metadata": {
            "tags": []
          }
        },
        {
          "output_type": "display_data",
          "data": {
            "application/javascript": [
              "download(\"download_eda49dd7-f5ab-48c6-bbc6-a09eb43430d2\", \"ons_basereduzida1.csv\", 7570347)"
            ],
            "text/plain": [
              "<IPython.core.display.Javascript object>"
            ]
          },
          "metadata": {
            "tags": []
          }
        }
      ]
    },
    {
      "cell_type": "code",
      "metadata": {
        "id": "IXT-C4DSs7J7",
        "colab": {
          "base_uri": "https://localhost:8080/"
        },
        "outputId": "c22eae05-9bbd-4b12-e222-15e845e9dcb3"
      },
      "source": [
        "df.isna().mean()"
      ],
      "execution_count": 435,
      "outputs": [
        {
          "output_type": "execute_result",
          "data": {
            "text/plain": [
              "dsc_estado                     0.0\n",
              "Modalidade de Operação         0.0\n",
              "nom_tipocombustivel2           0.0\n",
              "nom_tipousinasite              0.0\n",
              "Selecione Tipo de GE Simp 4    0.0\n",
              "Din Instante                   0.0\n",
              "Din Instante GE Simp 4         0.0\n",
              "Val Geraenergiacongwh          0.0\n",
              "Val Geraenergiaconmwmed        0.0\n",
              "dtype: float64"
            ]
          },
          "metadata": {
            "tags": []
          },
          "execution_count": 435
        }
      ]
    },
    {
      "cell_type": "code",
      "metadata": {
        "id": "uf74tcHYxobV"
      },
      "source": [
        "from sklearn.ensemble import RandomForestClassifier\n",
        "from sklearn.metrics import accuracy_score\n",
        "from sklearn.preprocessing import LabelEncoder\n",
        "from sklearn.model_selection import train_test_split, cross_val_score, cross_val_predict\n",
        "from sklearn.cross_decomposition import PLSRegression"
      ],
      "execution_count": 436,
      "outputs": []
    },
    {
      "cell_type": "code",
      "metadata": {
        "id": "9pK0PIKT2uzI",
        "colab": {
          "base_uri": "https://localhost:8080/"
        },
        "outputId": "37e8af55-9a74-4c71-e522-edeba6114977"
      },
      "source": [
        "print(df)"
      ],
      "execution_count": 437,
      "outputs": [
        {
          "output_type": "stream",
          "text": [
            "       dsc_estado  ...  Val Geraenergiaconmwmed\n",
            "0               2  ...                 0.000000\n",
            "1               1  ...                11.951172\n",
            "2               2  ...                 1.878534\n",
            "3               0  ...              2494.879020\n",
            "4               4  ...                 0.000000\n",
            "...           ...  ...                      ...\n",
            "54972           1  ...               274.470833\n",
            "54973           1  ...               540.765188\n",
            "54974           1  ...               641.832796\n",
            "54975           1  ...                 9.314785\n",
            "54976           1  ...                 0.106989\n",
            "\n",
            "[45105 rows x 9 columns]\n"
          ],
          "name": "stdout"
        }
      ]
    },
    {
      "cell_type": "code",
      "metadata": {
        "id": "96j6szCq5_0u",
        "colab": {
          "base_uri": "https://localhost:8080/"
        },
        "outputId": "9eca11a2-5c56-4959-a709-8ff9ca4a770a"
      },
      "source": [
        "df.info"
      ],
      "execution_count": 393,
      "outputs": [
        {
          "output_type": "execute_result",
          "data": {
            "text/plain": [
              "<bound method DataFrame.info of       dsc_estado id_subsistema  ...  Val Geraenergiaconmwmed  Produção\n",
              "0          CEARA      Nordeste  ...                 0.000000       NaN\n",
              "1          BAHIA      Nordeste  ...                11.951172       NaN\n",
              "2          CEARA      Nordeste  ...                 1.878534       NaN\n",
              "3        ALAGOAS      Nordeste  ...              2494.879020       NaN\n",
              "4        PARAIBA      Nordeste  ...                 0.000000       NaN\n",
              "...          ...           ...  ...                      ...       ...\n",
              "54972      BAHIA      Nordeste  ...               274.470833       NaN\n",
              "54973      BAHIA      Nordeste  ...               540.765188       NaN\n",
              "54974      BAHIA      Nordeste  ...               641.832796       NaN\n",
              "54975      BAHIA      Nordeste  ...                 9.314785       NaN\n",
              "54976      BAHIA      Nordeste  ...                 0.106989       NaN\n",
              "\n",
              "[54977 rows x 14 columns]>"
            ]
          },
          "metadata": {
            "tags": []
          },
          "execution_count": 393
        }
      ]
    },
    {
      "cell_type": "markdown",
      "metadata": {
        "id": "82igTxxdIYnd"
      },
      "source": [
        "Criando nova coluna classe: Demanda -  com valores categóricos para a produção de energia\n"
      ]
    },
    {
      "cell_type": "code",
      "metadata": {
        "colab": {
          "base_uri": "https://localhost:8080/",
          "height": 17
        },
        "id": "FmgWhDb48zfk",
        "outputId": "e519a8b8-7450-43ff-8fef-2feb5e889557"
      },
      "source": [
        "#Salvando ons_basereduzida1.csv transformado\n",
        "df = pd.DataFrame(df)\n",
        "df.to_csv('ons_basereduzida1.csv')\n",
        "# Importando arquivo transformado\n",
        "from google.colab import files\n",
        "#Aprendizado de Máquina – DIM0872 58\n",
        "files.download('ons_basereduzida1.csv')"
      ],
      "execution_count": 394,
      "outputs": [
        {
          "output_type": "display_data",
          "data": {
            "application/javascript": [
              "\n",
              "    async function download(id, filename, size) {\n",
              "      if (!google.colab.kernel.accessAllowed) {\n",
              "        return;\n",
              "      }\n",
              "      const div = document.createElement('div');\n",
              "      const label = document.createElement('label');\n",
              "      label.textContent = `Downloading \"${filename}\": `;\n",
              "      div.appendChild(label);\n",
              "      const progress = document.createElement('progress');\n",
              "      progress.max = size;\n",
              "      div.appendChild(progress);\n",
              "      document.body.appendChild(div);\n",
              "\n",
              "      const buffers = [];\n",
              "      let downloaded = 0;\n",
              "\n",
              "      const channel = await google.colab.kernel.comms.open(id);\n",
              "      // Send a message to notify the kernel that we're ready.\n",
              "      channel.send({})\n",
              "\n",
              "      for await (const message of channel.messages) {\n",
              "        // Send a message to notify the kernel that we're ready.\n",
              "        channel.send({})\n",
              "        if (message.buffers) {\n",
              "          for (const buffer of message.buffers) {\n",
              "            buffers.push(buffer);\n",
              "            downloaded += buffer.byteLength;\n",
              "            progress.value = downloaded;\n",
              "          }\n",
              "        }\n",
              "      }\n",
              "      const blob = new Blob(buffers, {type: 'application/binary'});\n",
              "      const a = document.createElement('a');\n",
              "      a.href = window.URL.createObjectURL(blob);\n",
              "      a.download = filename;\n",
              "      div.appendChild(a);\n",
              "      a.click();\n",
              "      div.remove();\n",
              "    }\n",
              "  "
            ],
            "text/plain": [
              "<IPython.core.display.Javascript object>"
            ]
          },
          "metadata": {
            "tags": []
          }
        },
        {
          "output_type": "display_data",
          "data": {
            "application/javascript": [
              "download(\"download_acf73a24-ca6a-44e9-b2e8-10318a207c06\", \"ons_basereduzida1.csv\", 7570347)"
            ],
            "text/plain": [
              "<IPython.core.display.Javascript object>"
            ]
          },
          "metadata": {
            "tags": []
          }
        }
      ]
    },
    {
      "cell_type": "code",
      "metadata": {
        "id": "FHwSE3546GnM"
      },
      "source": [
        "import sys "
      ],
      "execution_count": 438,
      "outputs": []
    },
    {
      "cell_type": "code",
      "metadata": {
        "id": "MjJ0A7U3SZiX",
        "colab": {
          "base_uri": "https://localhost:8080/"
        },
        "outputId": "d3fd40cc-6214-4c4a-cb7e-b53f4c23acbc"
      },
      "source": [
        "df.mean()"
      ],
      "execution_count": 439,
      "outputs": [
        {
          "output_type": "execute_result",
          "data": {
            "text/plain": [
              "dsc_estado                      3.777142\n",
              "Modalidade de Operação          4.624033\n",
              "nom_tipocombustivel2            3.147988\n",
              "nom_tipousinasite               0.777940\n",
              "Selecione Tipo de GE Simp 4    41.007828\n",
              "Val Geraenergiacongwh          29.967658\n",
              "Val Geraenergiaconmwmed        41.007821\n",
              "dtype: float64"
            ]
          },
          "metadata": {
            "tags": []
          },
          "execution_count": 439
        }
      ]
    },
    {
      "cell_type": "code",
      "metadata": {
        "id": "zbLZeOLb6ORz"
      },
      "source": [
        "df_new = df['Demanda']=pd.cut(\n",
        "\n",
        "   df['Val Geraenergiacongwh'],\n",
        "\n",
        "   bins=[0, 25, 61,sys.maxsize],\n",
        "\n",
        "   labels=['Baixo', 'Medio', 'Alto']\n",
        "\n",
        ")"
      ],
      "execution_count": 440,
      "outputs": []
    },
    {
      "cell_type": "code",
      "metadata": {
        "colab": {
          "base_uri": "https://localhost:8080/",
          "height": 17
        },
        "id": "tHorUh3t6MZQ",
        "outputId": "97f9b823-e7b0-4347-d8bf-b26c56873c42"
      },
      "source": [
        "#Salvando ons_basereduzida1.csv transformado\n",
        "df = pd.DataFrame(df)\n",
        "df.to_csv('ons_basereduzida1.csv')\n",
        "# Importando arquivo transformado\n",
        "from google.colab import files\n",
        "#Aprendizado de Máquina – DIM0872 58\n",
        "files.download('ons_basereduzida1.csv')"
      ],
      "execution_count": 349,
      "outputs": [
        {
          "output_type": "display_data",
          "data": {
            "application/javascript": [
              "\n",
              "    async function download(id, filename, size) {\n",
              "      if (!google.colab.kernel.accessAllowed) {\n",
              "        return;\n",
              "      }\n",
              "      const div = document.createElement('div');\n",
              "      const label = document.createElement('label');\n",
              "      label.textContent = `Downloading \"${filename}\": `;\n",
              "      div.appendChild(label);\n",
              "      const progress = document.createElement('progress');\n",
              "      progress.max = size;\n",
              "      div.appendChild(progress);\n",
              "      document.body.appendChild(div);\n",
              "\n",
              "      const buffers = [];\n",
              "      let downloaded = 0;\n",
              "\n",
              "      const channel = await google.colab.kernel.comms.open(id);\n",
              "      // Send a message to notify the kernel that we're ready.\n",
              "      channel.send({})\n",
              "\n",
              "      for await (const message of channel.messages) {\n",
              "        // Send a message to notify the kernel that we're ready.\n",
              "        channel.send({})\n",
              "        if (message.buffers) {\n",
              "          for (const buffer of message.buffers) {\n",
              "            buffers.push(buffer);\n",
              "            downloaded += buffer.byteLength;\n",
              "            progress.value = downloaded;\n",
              "          }\n",
              "        }\n",
              "      }\n",
              "      const blob = new Blob(buffers, {type: 'application/binary'});\n",
              "      const a = document.createElement('a');\n",
              "      a.href = window.URL.createObjectURL(blob);\n",
              "      a.download = filename;\n",
              "      div.appendChild(a);\n",
              "      a.click();\n",
              "      div.remove();\n",
              "    }\n",
              "  "
            ],
            "text/plain": [
              "<IPython.core.display.Javascript object>"
            ]
          },
          "metadata": {
            "tags": []
          }
        },
        {
          "output_type": "display_data",
          "data": {
            "application/javascript": [
              "download(\"download_e45c47c9-cd2b-4b35-984e-9cd049d92757\", \"ons_basereduzida1.csv\", 1997693)"
            ],
            "text/plain": [
              "<IPython.core.display.Javascript object>"
            ]
          },
          "metadata": {
            "tags": []
          }
        }
      ]
    },
    {
      "cell_type": "markdown",
      "metadata": {
        "id": "mlBNGzgOIbRb"
      },
      "source": [
        "Observando comportamento da base (Removendo dados duplicados)"
      ]
    },
    {
      "cell_type": "code",
      "metadata": {
        "id": "LzNWJ2QHRmcB",
        "colab": {
          "base_uri": "https://localhost:8080/"
        },
        "outputId": "81db648c-4469-41c0-a05f-4b64b73761ff"
      },
      "source": [
        "print('Before ',np.shape(df))\n",
        "df.drop_duplicates(inplace=True)\n",
        "print('After ',np.shape(df))"
      ],
      "execution_count": 441,
      "outputs": [
        {
          "output_type": "stream",
          "text": [
            "Before  (45105, 10)\n",
            "After  (45105, 10)\n"
          ],
          "name": "stdout"
        }
      ]
    },
    {
      "cell_type": "code",
      "metadata": {
        "id": "Twx776d0-pRB"
      },
      "source": [
        "#from sklearn.impute import SimpleImputer\n",
        "#imputer = SimpleImputer(missing_values=np.nan, strategy='mean')\n",
        "#imputer = imputer.fit(X[:,10:11])"
      ],
      "execution_count": null,
      "outputs": []
    },
    {
      "cell_type": "code",
      "metadata": {
        "id": "mGIRYs0w_lYB"
      },
      "source": [
        "X[:, 10:12] = imputer.transform(X[:, 10:12])\n",
        "print(X)"
      ],
      "execution_count": null,
      "outputs": []
    },
    {
      "cell_type": "code",
      "metadata": {
        "id": "_RIaA_cR8lbK"
      },
      "source": [
        "from sklearn.preprocessing import LabelEncoder\n",
        "from sklearn.preprocessing import OneHotEncoder"
      ],
      "execution_count": 323,
      "outputs": []
    },
    {
      "cell_type": "code",
      "metadata": {
        "id": "_CqFx9J6AOgY"
      },
      "source": [
        "df1 = pd.read_csv('/content/ons_basereduzida1.csv')"
      ],
      "execution_count": 442,
      "outputs": []
    },
    {
      "cell_type": "code",
      "metadata": {
        "id": "0LdNfj73-RJu"
      },
      "source": [
        "X = df.iloc[:, :-1].values \n",
        "Y = df.iloc[:,:-1 ].values # Demanda"
      ],
      "execution_count": 443,
      "outputs": []
    },
    {
      "cell_type": "code",
      "metadata": {
        "id": "Q-13H_vy9BmP"
      },
      "source": [
        "labelencoder_X = LabelEncoder()\n",
        "X[:, 0] = labelencoder_X.fit_transform(X[:, 0])"
      ],
      "execution_count": 444,
      "outputs": []
    },
    {
      "cell_type": "code",
      "metadata": {
        "id": "i-6fpNjHAVMG",
        "colab": {
          "base_uri": "https://localhost:8080/"
        },
        "outputId": "8634465c-5205-44a2-aa5f-3fb87a487944"
      },
      "source": [
        "print(X)"
      ],
      "execution_count": 445,
      "outputs": [
        {
          "output_type": "stream",
          "text": [
            "[[2 6 2 ... '01/12/2020 00:00' 0.0 0.0]\n",
            " [1 6 2 ... '01/12/2020 00:00' 8.89167203 11.95117209]\n",
            " [2 6 2 ... '01/12/2020 00:00' 1.39762929 1.87853399]\n",
            " ...\n",
            " [1 2 6 ... '01/01/1999 00:00' 477.5236 641.8327957]\n",
            " [1 1 6 ... '01/01/1999 00:00' 6.9302 9.31478495]\n",
            " [1 2 4 ... '01/01/1999 00:00' 0.0796 0.10698925]]\n"
          ],
          "name": "stdout"
        }
      ]
    },
    {
      "cell_type": "code",
      "metadata": {
        "id": "Ny7brYM4ZMdj"
      },
      "source": [
        "from sklearn.linear_model import LinearRegression\n",
        "import os\n",
        "import seaborn as sns"
      ],
      "execution_count": 446,
      "outputs": []
    },
    {
      "cell_type": "code",
      "metadata": {
        "id": "XhBHP0oQZX2a",
        "colab": {
          "base_uri": "https://localhost:8080/",
          "height": 351
        },
        "outputId": "65861faa-6e0d-4d21-ba51-235ad456db06"
      },
      "source": [
        "df.describe()"
      ],
      "execution_count": 447,
      "outputs": [
        {
          "output_type": "execute_result",
          "data": {
            "text/html": [
              "<div>\n",
              "<style scoped>\n",
              "    .dataframe tbody tr th:only-of-type {\n",
              "        vertical-align: middle;\n",
              "    }\n",
              "\n",
              "    .dataframe tbody tr th {\n",
              "        vertical-align: top;\n",
              "    }\n",
              "\n",
              "    .dataframe thead th {\n",
              "        text-align: right;\n",
              "    }\n",
              "</style>\n",
              "<table border=\"1\" class=\"dataframe\">\n",
              "  <thead>\n",
              "    <tr style=\"text-align: right;\">\n",
              "      <th></th>\n",
              "      <th>dsc_estado</th>\n",
              "      <th>Modalidade de Operação</th>\n",
              "      <th>nom_tipocombustivel2</th>\n",
              "      <th>nom_tipousinasite</th>\n",
              "      <th>Selecione Tipo de GE Simp 4</th>\n",
              "      <th>Val Geraenergiacongwh</th>\n",
              "      <th>Val Geraenergiaconmwmed</th>\n",
              "    </tr>\n",
              "  </thead>\n",
              "  <tbody>\n",
              "    <tr>\n",
              "      <th>count</th>\n",
              "      <td>45105.000000</td>\n",
              "      <td>45105.000000</td>\n",
              "      <td>45105.000000</td>\n",
              "      <td>45105.000000</td>\n",
              "      <td>45105.000000</td>\n",
              "      <td>45105.000000</td>\n",
              "      <td>45105.000000</td>\n",
              "    </tr>\n",
              "    <tr>\n",
              "      <th>mean</th>\n",
              "      <td>3.777142</td>\n",
              "      <td>4.624033</td>\n",
              "      <td>3.147988</td>\n",
              "      <td>0.777940</td>\n",
              "      <td>41.007828</td>\n",
              "      <td>29.967658</td>\n",
              "      <td>41.007821</td>\n",
              "    </tr>\n",
              "    <tr>\n",
              "      <th>std</th>\n",
              "      <td>2.639677</td>\n",
              "      <td>1.332015</td>\n",
              "      <td>2.412173</td>\n",
              "      <td>1.185184</td>\n",
              "      <td>179.259571</td>\n",
              "      <td>131.029315</td>\n",
              "      <td>179.259556</td>\n",
              "    </tr>\n",
              "    <tr>\n",
              "      <th>min</th>\n",
              "      <td>0.000000</td>\n",
              "      <td>0.000000</td>\n",
              "      <td>0.000000</td>\n",
              "      <td>0.000000</td>\n",
              "      <td>-0.280000</td>\n",
              "      <td>-0.199800</td>\n",
              "      <td>-0.277500</td>\n",
              "    </tr>\n",
              "    <tr>\n",
              "      <th>25%</th>\n",
              "      <td>1.000000</td>\n",
              "      <td>5.000000</td>\n",
              "      <td>2.000000</td>\n",
              "      <td>0.000000</td>\n",
              "      <td>3.710000</td>\n",
              "      <td>2.681266</td>\n",
              "      <td>3.708451</td>\n",
              "    </tr>\n",
              "    <tr>\n",
              "      <th>50%</th>\n",
              "      <td>4.000000</td>\n",
              "      <td>5.000000</td>\n",
              "      <td>2.000000</td>\n",
              "      <td>0.000000</td>\n",
              "      <td>9.440000</td>\n",
              "      <td>6.903884</td>\n",
              "      <td>9.438331</td>\n",
              "    </tr>\n",
              "    <tr>\n",
              "      <th>75%</th>\n",
              "      <td>7.000000</td>\n",
              "      <td>5.000000</td>\n",
              "      <td>3.000000</td>\n",
              "      <td>1.000000</td>\n",
              "      <td>15.570000</td>\n",
              "      <td>11.430727</td>\n",
              "      <td>15.573665</td>\n",
              "    </tr>\n",
              "    <tr>\n",
              "      <th>max</th>\n",
              "      <td>10.000000</td>\n",
              "      <td>6.000000</td>\n",
              "      <td>10.000000</td>\n",
              "      <td>3.000000</td>\n",
              "      <td>2864.860000</td>\n",
              "      <td>2131.459542</td>\n",
              "      <td>2864.864975</td>\n",
              "    </tr>\n",
              "  </tbody>\n",
              "</table>\n",
              "</div>"
            ],
            "text/plain": [
              "         dsc_estado  ...  Val Geraenergiaconmwmed\n",
              "count  45105.000000  ...             45105.000000\n",
              "mean       3.777142  ...                41.007821\n",
              "std        2.639677  ...               179.259556\n",
              "min        0.000000  ...                -0.277500\n",
              "25%        1.000000  ...                 3.708451\n",
              "50%        4.000000  ...                 9.438331\n",
              "75%        7.000000  ...                15.573665\n",
              "max       10.000000  ...              2864.864975\n",
              "\n",
              "[8 rows x 7 columns]"
            ]
          },
          "metadata": {
            "tags": []
          },
          "execution_count": 447
        }
      ]
    },
    {
      "cell_type": "markdown",
      "metadata": {
        "id": "kTq7U6xsJIXg"
      },
      "source": [
        "Matriz de correlação dos valores numéricos\n"
      ]
    },
    {
      "cell_type": "code",
      "metadata": {
        "id": "lPEHriA6oaxG",
        "colab": {
          "base_uri": "https://localhost:8080/",
          "height": 419
        },
        "outputId": "84485d52-df0e-4278-f1a1-2a50763e8c10"
      },
      "source": [
        "sns.heatmap(df1.corr(), annot=True)"
      ],
      "execution_count": 459,
      "outputs": [
        {
          "output_type": "execute_result",
          "data": {
            "text/plain": [
              "<matplotlib.axes._subplots.AxesSubplot at 0x7f6e9d9c5c10>"
            ]
          },
          "metadata": {
            "tags": []
          },
          "execution_count": 459
        },
        {
          "output_type": "display_data",
          "data": {
            "image/png": "[encoded data removed]",
            "text/plain": [
              "<Figure size 432x288 with 2 Axes>"
            ]
          },
          "metadata": {
            "tags": [],
            "needs_background": "light"
          }
        }
      ]
    },
    {
      "cell_type": "code",
      "metadata": {
        "id": "67aqXp-orzfj"
      },
      "source": [
        "from sklearn.ensemble import RandomForestClassifier\n",
        "from sklearn.metrics import accuracy_score\n",
        "from sklearn.preprocessing import LabelEncoder\n",
        "from sklearn.model_selection import train_test_split, cross_val_score, cross_val_predict\n",
        "from sklearn.cross_decomposition import PLSRegression"
      ],
      "execution_count": 460,
      "outputs": []
    },
    {
      "cell_type": "markdown",
      "metadata": {
        "id": "vUO9R3j-IDBR"
      },
      "source": [
        "definindo entradas dos testes"
      ]
    },
    {
      "cell_type": "code",
      "metadata": {
        "id": "m7DjPiHhr84m"
      },
      "source": [
        "X= df1.iloc[:, :-1]\n",
        "y = df1.iloc[:, ]"
      ],
      "execution_count": 462,
      "outputs": []
    },
    {
      "cell_type": "markdown",
      "metadata": {
        "id": "4tvuSe6SJ3gZ"
      },
      "source": [
        ""
      ]
    },
    {
      "cell_type": "code",
      "metadata": {
        "id": "CDcFsNvZr5gw"
      },
      "source": [
        "X_train, X_test, y_train, y_test= train_test_split(X,y,test_size=0.30, random_state=0)"
      ],
      "execution_count": 463,
      "outputs": []
    },
    {
      "cell_type": "code",
      "metadata": {
        "id": "k73kVHPPsLnb",
        "colab": {
          "base_uri": "https://localhost:8080/",
          "height": 331
        },
        "outputId": "f8189cc5-05c6-4f37-8562-79d2eda6942c"
      },
      "source": [
        "X_train.describe()"
      ],
      "execution_count": 464,
      "outputs": [
        {
          "output_type": "execute_result",
          "data": {
            "text/html": [
              "<div>\n",
              "<style scoped>\n",
              "    .dataframe tbody tr th:only-of-type {\n",
              "        vertical-align: middle;\n",
              "    }\n",
              "\n",
              "    .dataframe tbody tr th {\n",
              "        vertical-align: top;\n",
              "    }\n",
              "\n",
              "    .dataframe thead th {\n",
              "        text-align: right;\n",
              "    }\n",
              "</style>\n",
              "<table border=\"1\" class=\"dataframe\">\n",
              "  <thead>\n",
              "    <tr style=\"text-align: right;\">\n",
              "      <th></th>\n",
              "      <th>Unnamed: 0</th>\n",
              "      <th>dsc_estado</th>\n",
              "      <th>Modalidade de Operação</th>\n",
              "      <th>nom_tipocombustivel2</th>\n",
              "      <th>nom_tipousinasite</th>\n",
              "      <th>Selecione Tipo de GE Simp 4</th>\n",
              "      <th>Val Geraenergiacongwh</th>\n",
              "    </tr>\n",
              "  </thead>\n",
              "  <tbody>\n",
              "    <tr>\n",
              "      <th>count</th>\n",
              "      <td>38483.000000</td>\n",
              "      <td>38483.000000</td>\n",
              "      <td>38483.000000</td>\n",
              "      <td>38483.000000</td>\n",
              "      <td>38483.000000</td>\n",
              "      <td>38483.000000</td>\n",
              "      <td>38483.000000</td>\n",
              "    </tr>\n",
              "    <tr>\n",
              "      <th>mean</th>\n",
              "      <td>27501.824312</td>\n",
              "      <td>3.759296</td>\n",
              "      <td>4.616038</td>\n",
              "      <td>3.276746</td>\n",
              "      <td>0.863914</td>\n",
              "      <td>33.755161</td>\n",
              "      <td>24.666114</td>\n",
              "    </tr>\n",
              "    <tr>\n",
              "      <th>std</th>\n",
              "      <td>15883.908789</td>\n",
              "      <td>2.620127</td>\n",
              "      <td>1.312137</td>\n",
              "      <td>2.647335</td>\n",
              "      <td>1.237361</td>\n",
              "      <td>164.307749</td>\n",
              "      <td>120.110297</td>\n",
              "    </tr>\n",
              "    <tr>\n",
              "      <th>min</th>\n",
              "      <td>2.000000</td>\n",
              "      <td>0.000000</td>\n",
              "      <td>0.000000</td>\n",
              "      <td>0.000000</td>\n",
              "      <td>0.000000</td>\n",
              "      <td>-0.280000</td>\n",
              "      <td>-0.199800</td>\n",
              "    </tr>\n",
              "    <tr>\n",
              "      <th>25%</th>\n",
              "      <td>13761.000000</td>\n",
              "      <td>1.000000</td>\n",
              "      <td>5.000000</td>\n",
              "      <td>2.000000</td>\n",
              "      <td>0.000000</td>\n",
              "      <td>0.000000</td>\n",
              "      <td>0.000000</td>\n",
              "    </tr>\n",
              "    <tr>\n",
              "      <th>50%</th>\n",
              "      <td>27493.000000</td>\n",
              "      <td>4.000000</td>\n",
              "      <td>5.000000</td>\n",
              "      <td>2.000000</td>\n",
              "      <td>0.000000</td>\n",
              "      <td>7.080000</td>\n",
              "      <td>5.142949</td>\n",
              "    </tr>\n",
              "    <tr>\n",
              "      <th>75%</th>\n",
              "      <td>41306.500000</td>\n",
              "      <td>6.000000</td>\n",
              "      <td>5.000000</td>\n",
              "      <td>3.000000</td>\n",
              "      <td>2.000000</td>\n",
              "      <td>13.950000</td>\n",
              "      <td>10.230747</td>\n",
              "    </tr>\n",
              "    <tr>\n",
              "      <th>max</th>\n",
              "      <td>54976.000000</td>\n",
              "      <td>10.000000</td>\n",
              "      <td>6.000000</td>\n",
              "      <td>10.000000</td>\n",
              "      <td>3.000000</td>\n",
              "      <td>2838.160000</td>\n",
              "      <td>2064.676590</td>\n",
              "    </tr>\n",
              "  </tbody>\n",
              "</table>\n",
              "</div>"
            ],
            "text/plain": [
              "         Unnamed: 0  ...  Val Geraenergiacongwh\n",
              "count  38483.000000  ...           38483.000000\n",
              "mean   27501.824312  ...              24.666114\n",
              "std    15883.908789  ...             120.110297\n",
              "min        2.000000  ...              -0.199800\n",
              "25%    13761.000000  ...               0.000000\n",
              "50%    27493.000000  ...               5.142949\n",
              "75%    41306.500000  ...              10.230747\n",
              "max    54976.000000  ...            2064.676590\n",
              "\n",
              "[8 rows x 7 columns]"
            ]
          },
          "metadata": {
            "tags": []
          },
          "execution_count": 464
        }
      ]
    },
    {
      "cell_type": "code",
      "metadata": {
        "id": "oT1HDTnTDpIJ",
        "colab": {
          "base_uri": "https://localhost:8080/"
        },
        "outputId": "e0210388-741b-4830-9c34-d611c34f6086"
      },
      "source": [
        "df['Demanda'].value_counts()"
      ],
      "execution_count": 334,
      "outputs": [
        {
          "output_type": "execute_result",
          "data": {
            "text/plain": [
              "Baixo    37097\n",
              "Alto      3055\n",
              "Médio      960\n",
              "Name: Demanda, dtype: int64"
            ]
          },
          "metadata": {
            "tags": []
          },
          "execution_count": 334
        }
      ]
    },
    {
      "cell_type": "code",
      "metadata": {
        "id": "wl_rD5UY660N"
      },
      "source": [
        "#df1 = df1.drop(columns=['Din Instante GE Simp 4'])\n",
        "#df1.head()"
      ],
      "execution_count": null,
      "outputs": []
    },
    {
      "cell_type": "code",
      "metadata": {
        "id": "VIJc0b04sBRe"
      },
      "source": [
        "pls = PLSRegression().fit(X_train,y_train)"
      ],
      "execution_count": 466,
      "outputs": []
    },
    {
      "cell_type": "code",
      "metadata": {
        "id": "cs9diU67BLeD"
      },
      "source": [
        "y_train = pls.predict(X_train)"
      ],
      "execution_count": 468,
      "outputs": []
    },
    {
      "cell_type": "code",
      "metadata": {
        "colab": {
          "base_uri": "https://localhost:8080/"
        },
        "id": "bdtz2lTrBfTT",
        "outputId": "5bc1dc0f-1373-41fd-92e7-bc62303dd0be"
      },
      "source": [
        "print(y_test)"
      ],
      "execution_count": 475,
      "outputs": [
        {
          "output_type": "stream",
          "text": [
            "       Unnamed: 0  dsc_estado  ...  Val Geraenergiacongwh  Val Geraenergiaconmwmed\n",
            "27919       27919           1  ...              10.800233                15.000323\n",
            "15388       15388           6  ...               0.000000                 0.000000\n",
            "45043       45043           7  ...               7.237658                 9.728035\n",
            "22487       22487           1  ...               0.000000                 0.000000\n",
            "39847       39847           7  ...               0.000000                 0.000000\n",
            "...           ...         ...  ...                    ...                      ...\n",
            "5286         5286           2  ...               3.698577                 5.136912\n",
            "44807       44807           5  ...               0.000000                 0.000000\n",
            "9855         9855           7  ...               0.000000                 0.000000\n",
            "21666       21666           1  ...              12.022439                16.159192\n",
            "26902       26902           7  ...               9.779531                13.144531\n",
            "\n",
            "[16494 rows x 8 columns]\n"
          ],
          "name": "stdout"
        }
      ]
    }
  ]
}