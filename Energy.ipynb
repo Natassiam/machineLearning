{
  "nbformat": 4,
  "nbformat_minor": 0,
  "metadata": {
    "colab": {
      "name": "Energy.ipynb",
      "provenance": [],
      "authorship_tag": "ABX9TyPlYh3qCa50oscAhF+6fp4p",
      "include_colab_link": true
    },
    "kernelspec": {
      "name": "python3",
      "display_name": "Python 3"
    },
    "language_info": {
      "name": "python"
    }
  },
  "cells": [
    {
      "cell_type": "markdown",
      "metadata": {
        "id": "view-in-github",
        "colab_type": "text"
      },
      "source": [
        "<a href=\"https://colab.research.google.com/github/Natassiam/machineLearning/blob/master/Energy.ipynb\" target=\"_parent\"><img src=\"https://colab.research.google.com/assets/colab-badge.svg\" alt=\"Open In Colab\"/></a>"
      ]
    },
    {
      "cell_type": "code",
      "metadata": {
        "id": "335mVkdt2_-t"
      },
      "source": [
        "import pandas as pd\n"
      ],
      "execution_count": 9,
      "outputs": []
    },
    {
      "cell_type": "code",
      "metadata": {
        "id": "tQT_p19A3bn6"
      },
      "source": [
        "ons = pd.read_csv('/content/Simple_Geration_ONS.csv', sep=';', nrows=0)"
      ],
      "execution_count": 10,
      "outputs": []
    },
    {
      "cell_type": "code",
      "metadata": {
        "id": "7JAsR87IP21M"
      },
      "source": [
        ""
      ],
      "execution_count": 10,
      "outputs": []
    },
    {
      "cell_type": "code",
      "metadata": {
        "colab": {
          "base_uri": "https://localhost:8080/",
          "height": 120
        },
        "id": "05p0Vm9M3-lk",
        "outputId": "d78d0bd4-b182-4a69-b34e-870cff3416e4"
      },
      "source": [
        "ons.head()"
      ],
      "execution_count": 11,
      "outputs": [
        {
          "output_type": "execute_result",
          "data": {
            "text/html": [
              "<div>\n",
              "<style scoped>\n",
              "    .dataframe tbody tr th:only-of-type {\n",
              "        vertical-align: middle;\n",
              "    }\n",
              "\n",
              "    .dataframe tbody tr th {\n",
              "        vertical-align: top;\n",
              "    }\n",
              "\n",
              "    .dataframe thead th {\n",
              "        text-align: right;\n",
              "    }\n",
              "</style>\n",
              "<table border=\"1\" class=\"dataframe\">\n",
              "  <thead>\n",
              "    <tr style=\"text-align: right;\">\n",
              "      <th></th>\n",
              "      <th>dsc_estado</th>\n",
              "      <th>id_subsistema</th>\n",
              "      <th>Modalidade de Operação</th>\n",
              "      <th>nom_tipocombustivel2</th>\n",
              "      <th>nom_tipousinasite</th>\n",
              "      <th>nom_usina2</th>\n",
              "      <th>Período Verifica GE Simp 4</th>\n",
              "      <th>Selecione Tipo de GE Simp 4</th>\n",
              "      <th>Din Instante</th>\n",
              "      <th>Din Instante GE Simp 4</th>\n",
              "      <th>Table Name</th>\n",
              "      <th>Val Geraenergiacongwh</th>\n",
              "      <th>Val Geraenergiaconmwmed</th>\n",
              "      <th>Produção</th>\n",
              "    </tr>\n",
              "  </thead>\n",
              "  <tbody>\n",
              "  </tbody>\n",
              "</table>\n",
              "</div>"
            ],
            "text/plain": [
              "Empty DataFrame\n",
              "Columns: [dsc_estado, id_subsistema, Modalidade de Operação, nom_tipocombustivel2, nom_tipousinasite, nom_usina2, Período Verifica GE Simp 4, Selecione Tipo de GE Simp 4, Din Instante, Din Instante GE Simp 4, Table Name, Val Geraenergiacongwh, Val Geraenergiaconmwmed, Produção]\n",
              "Index: []"
            ]
          },
          "metadata": {
            "tags": []
          },
          "execution_count": 11
        }
      ]
    },
    {
      "cell_type": "code",
      "metadata": {
        "colab": {
          "base_uri": "https://localhost:8080/"
        },
        "id": "RT6zITgS4b6j",
        "outputId": "7107b1a1-c167-4548-ee55-aeec9363a117"
      },
      "source": [
        "ons.columns.values"
      ],
      "execution_count": 12,
      "outputs": [
        {
          "output_type": "execute_result",
          "data": {
            "text/plain": [
              "array(['dsc_estado', 'id_subsistema', 'Modalidade de Operação',\n",
              "       'nom_tipocombustivel2', 'nom_tipousinasite', 'nom_usina2',\n",
              "       'Período Verifica GE Simp 4', 'Selecione Tipo de GE Simp 4',\n",
              "       'Din Instante', 'Din Instante GE Simp 4', 'Table Name',\n",
              "       'Val Geraenergiacongwh', 'Val Geraenergiaconmwmed', 'Produção'],\n",
              "      dtype=object)"
            ]
          },
          "metadata": {
            "tags": []
          },
          "execution_count": 12
        }
      ]
    },
    {
      "cell_type": "code",
      "metadata": {
        "id": "YmKubxtw4maJ"
      },
      "source": [
        "cols = ['Selecione Tipo de GE Simp 4','Val Geraenergiaconmwmed']"
      ],
      "execution_count": 13,
      "outputs": []
    },
    {
      "cell_type": "code",
      "metadata": {
        "id": "heZxmBkS5U9o"
      },
      "source": [
        "ons = pd.read_csv('/content/Simple_Geration_ONS.csv',usecols=cols, sep=';',dtype=\n",
        "            {'Val Geraenergiaconmwmed': 'category'})"
      ],
      "execution_count": 14,
      "outputs": []
    },
    {
      "cell_type": "code",
      "metadata": {
        "id": "OcPn4e-eAcKi"
      },
      "source": [
        "import seaborn as sns"
      ],
      "execution_count": 17,
      "outputs": []
    },
    {
      "cell_type": "code",
      "metadata": {
        "colab": {
          "base_uri": "https://localhost:8080/",
          "height": 299
        },
        "id": "fPf-ksp0nqVK",
        "outputId": "c85068d4-1642-4f9f-b54c-f59b8819d0c3"
      },
      "source": [
        "sns.heatmap(ons.corr(), annot=True)"
      ],
      "execution_count": 19,
      "outputs": [
        {
          "output_type": "execute_result",
          "data": {
            "text/plain": [
              "<matplotlib.axes._subplots.AxesSubplot at 0x7f3987a67090>"
            ]
          },
          "metadata": {
            "tags": []
          },
          "execution_count": 19
        },
        {
          "output_type": "display_data",
          "data": {
            "image/png": "[encoded data removed]",
            "text/plain": [
              "<Figure size 432x288 with 2 Axes>"
            ]
          },
          "metadata": {
            "tags": [],
            "needs_background": "light"
          }
        }
      ]
    },
    {
      "cell_type": "code",
      "metadata": {
        "id": "sAxICaL15g57"
      },
      "source": [
        "ons.info()"
      ],
      "execution_count": null,
      "outputs": []
    },
    {
      "cell_type": "code",
      "metadata": {
        "id": "zerLVrbagiVM"
      },
      "source": [
        "ons['Selecione Tipo de GE Simp 4'].value_counts()\n"
      ],
      "execution_count": null,
      "outputs": []
    },
    {
      "cell_type": "code",
      "metadata": {
        "id": "KedD7m-Z1kFH"
      },
      "source": [
        "ons.info()"
      ],
      "execution_count": null,
      "outputs": []
    },
    {
      "cell_type": "code",
      "metadata": {
        "id": "hXHAyGOT6aJe"
      },
      "source": [
        "ons.isnull().sum()"
      ],
      "execution_count": null,
      "outputs": []
    },
    {
      "cell_type": "code",
      "metadata": {
        "id": "FbvGQyDS66VR"
      },
      "source": [
        "import numpy as np "
      ],
      "execution_count": null,
      "outputs": []
    },
    {
      "cell_type": "code",
      "metadata": {
        "id": "xTSSQSXX60_w"
      },
      "source": [
        "print('Before ',np.shape(ons))\n",
        "ons.drop_duplicates(inplace=True)\n",
        "print('After ',np.shape(ons))"
      ],
      "execution_count": null,
      "outputs": []
    },
    {
      "cell_type": "code",
      "metadata": {
        "id": "5rlWl9iy7a0E"
      },
      "source": [
        "from sklearn.ensemble import RandomForestClassifier\n",
        "from sklearn.metrics import accuracy_score"
      ],
      "execution_count": null,
      "outputs": []
    },
    {
      "cell_type": "code",
      "metadata": {
        "id": "Qj5lRKxj7h72"
      },
      "source": [
        "X= ons.iloc[:,:]\n",
        "y = ons.iloc[:,:]"
      ],
      "execution_count": null,
      "outputs": []
    },
    {
      "cell_type": "code",
      "metadata": {
        "id": "frUYqKUj-CGO"
      },
      "source": [
        "ons.describe()"
      ],
      "execution_count": null,
      "outputs": []
    },
    {
      "cell_type": "code",
      "metadata": {
        "id": "TJ6W6uOt7oHv"
      },
      "source": [
        "from sklearn.model_selection import train_test_split\n",
        "X_train, X_test, y_train, y_test= train_test_split(X,y,test_size=0.20, random_state=0)"
      ],
      "execution_count": null,
      "outputs": []
    },
    {
      "cell_type": "code",
      "metadata": {
        "id": "MJoCM7AoUeNs"
      },
      "source": [
        ""
      ],
      "execution_count": null,
      "outputs": []
    },
    {
      "cell_type": "code",
      "metadata": {
        "id": "BWWlVqELCbm7"
      },
      "source": [
        "X_train.describe()"
      ],
      "execution_count": null,
      "outputs": []
    },
    {
      "cell_type": "code",
      "metadata": {
        "id": "UbXyzmtb_EIG"
      },
      "source": [
        "from sklearn.linear_model import LinearRegression\n",
        "reg=LinearRegression()\n",
        "reg.fit(X_train,y_train)"
      ],
      "execution_count": null,
      "outputs": []
    }
  ]
}