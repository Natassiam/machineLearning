{
  "nbformat": 4,
  "nbformat_minor": 0,
  "metadata": {
    "colab": {
      "provenance": [],
      "collapsed_sections": [],
      "authorship_tag": "ABX9TyO+LoEVJbBaLWnNcI85mSVQ",
      "include_colab_link": true
    },
    "kernelspec": {
      "name": "python3",
      "display_name": "Python 3"
    },
    "language_info": {
      "name": "python"
    }
  },
  "cells": [
    {
      "cell_type": "markdown",
      "metadata": {
        "id": "view-in-github",
        "colab_type": "text"
      },
      "source": [
        "<a href=\"https://colab.research.google.com/github/Natassiam/machineLearning/blob/transfer_learning/graphics_master.ipynb\" target=\"_parent\"><img src=\"https://colab.research.google.com/assets/colab-badge.svg\" alt=\"Open In Colab\"/></a>"
      ]
    },
    {
      "cell_type": "code",
      "execution_count": 2,
      "metadata": {
        "id": "8OKIDRX6fuc2"
      },
      "outputs": [],
      "source": [
        "import numpy as np\n",
        "import pandas as pd\n",
        "import matplotlib.pyplot as plt"
      ]
    },
    {
      "cell_type": "code",
      "source": [
        "pip install orange3"
      ],
      "metadata": {
        "id": "3kU1_P7sf2Ec",
        "colab": {
          "base_uri": "https://localhost:8080/",
          "height": 1000
        },
        "outputId": "fac69d6d-7c4a-470c-df11-512a3719f33d"
      },
      "execution_count": 3,
      "outputs": [
        {
          "output_type": "stream",
          "name": "stdout",
          "text": [
            "Looking in indexes: https://pypi.org/simple, https://us-python.pkg.dev/colab-wheels/public/simple/\n",
            "Collecting orange3\n",
            "  Downloading Orange3-3.33.0.tar.gz (27.2 MB)\n",
            "\u001b[K     |████████████████████████████████| 27.2 MB 1.3 MB/s \n",
            "\u001b[?25h  Installing build dependencies ... \u001b[?25l\u001b[?25hdone\n",
            "  Getting requirements to build wheel ... \u001b[?25l\u001b[?25hdone\n",
            "    Preparing wheel metadata ... \u001b[?25l\u001b[?25hdone\n",
            "Collecting qtconsole>=4.7.2\n",
            "  Downloading qtconsole-5.4.0-py3-none-any.whl (121 kB)\n",
            "\u001b[K     |████████████████████████████████| 121 kB 58.5 MB/s \n",
            "\u001b[?25hCollecting PyQtWebEngine>=5.12\n",
            "  Downloading PyQtWebEngine-5.15.6-cp37-abi3-manylinux1_x86_64.whl (230 kB)\n",
            "\u001b[K     |████████████████████████████████| 230 kB 69.4 MB/s \n",
            "\u001b[?25hRequirement already satisfied: networkx in /usr/local/lib/python3.7/dist-packages (from orange3) (2.6.3)\n",
            "Requirement already satisfied: pyyaml in /usr/local/lib/python3.7/dist-packages (from orange3) (6.0)\n",
            "Requirement already satisfied: numpy>=1.17.3 in /usr/local/lib/python3.7/dist-packages (from orange3) (1.21.6)\n",
            "Collecting keyring\n",
            "  Downloading keyring-23.11.0-py3-none-any.whl (36 kB)\n",
            "Requirement already satisfied: setuptools>=41.0.0 in /usr/local/lib/python3.7/dist-packages (from orange3) (57.4.0)\n",
            "Collecting PyQt5!=5.15.1,>=5.12\n",
            "  Downloading PyQt5-5.15.7-cp37-abi3-manylinux1_x86_64.whl (8.4 MB)\n",
            "\u001b[K     |████████████████████████████████| 8.4 MB 51.1 MB/s \n",
            "\u001b[?25hCollecting keyrings.alt\n",
            "  Downloading keyrings.alt-4.2.0-py3-none-any.whl (20 kB)\n",
            "Requirement already satisfied: scipy>=1.3.1 in /usr/local/lib/python3.7/dist-packages (from orange3) (1.7.3)\n",
            "Requirement already satisfied: scikit-learn>=1.0.1 in /usr/local/lib/python3.7/dist-packages (from orange3) (1.0.2)\n",
            "Collecting baycomp>=1.0.2\n",
            "  Downloading baycomp-1.0.2-py3-none-any.whl (17 kB)\n",
            "Collecting httpx>=0.21.0\n",
            "  Downloading httpx-0.23.0-py3-none-any.whl (84 kB)\n",
            "\u001b[K     |████████████████████████████████| 84 kB 4.0 MB/s \n",
            "\u001b[?25hCollecting openTSNE>=0.6.1\n",
            "  Downloading openTSNE-0.6.2-cp37-cp37m-manylinux_2_17_x86_64.manylinux2014_x86_64.whl (2.5 MB)\n",
            "\u001b[K     |████████████████████████████████| 2.5 MB 64.3 MB/s \n",
            "\u001b[?25hRequirement already satisfied: joblib>=0.11 in /usr/local/lib/python3.7/dist-packages (from orange3) (1.2.0)\n",
            "Collecting orange-canvas-core<0.2a,>=0.1.27\n",
            "  Downloading orange_canvas_core-0.1.28-py3-none-any.whl (497 kB)\n",
            "\u001b[K     |████████████████████████████████| 497 kB 70.8 MB/s \n",
            "\u001b[?25hCollecting orange-widget-base>=4.18.0\n",
            "  Downloading orange_widget_base-4.18.0-py3-none-any.whl (251 kB)\n",
            "\u001b[K     |████████████████████████████████| 251 kB 72.8 MB/s \n",
            "\u001b[?25hRequirement already satisfied: matplotlib>=3.2.0 in /usr/local/lib/python3.7/dist-packages (from orange3) (3.2.2)\n",
            "Requirement already satisfied: pandas!=1.5.0,>=1.3.0 in /usr/local/lib/python3.7/dist-packages (from orange3) (1.3.5)\n",
            "Requirement already satisfied: chardet>=3.0.2 in /usr/local/lib/python3.7/dist-packages (from orange3) (3.0.4)\n",
            "Collecting pygments>=2.8.0\n",
            "  Using cached Pygments-2.13.0-py3-none-any.whl (1.1 MB)\n",
            "Collecting bottleneck>=1.3.4\n",
            "  Downloading Bottleneck-1.3.5-cp37-cp37m-manylinux_2_5_x86_64.manylinux1_x86_64.manylinux_2_17_x86_64.manylinux2014_x86_64.whl (355 kB)\n",
            "\u001b[K     |████████████████████████████████| 355 kB 74.5 MB/s \n",
            "\u001b[?25hCollecting xlrd>=1.2.0\n",
            "  Downloading xlrd-2.0.1-py2.py3-none-any.whl (96 kB)\n",
            "\u001b[K     |████████████████████████████████| 96 kB 7.0 MB/s \n",
            "\u001b[?25hRequirement already satisfied: requests in /usr/local/lib/python3.7/dist-packages (from orange3) (2.23.0)\n",
            "Collecting AnyQt>=0.1.0\n",
            "  Downloading AnyQt-0.2.0-py3-none-any.whl (56 kB)\n",
            "\u001b[K     |████████████████████████████████| 56 kB 5.7 MB/s \n",
            "\u001b[?25hCollecting xlsxwriter\n",
            "  Downloading XlsxWriter-3.0.3-py3-none-any.whl (149 kB)\n",
            "\u001b[K     |████████████████████████████████| 149 kB 70.4 MB/s \n",
            "\u001b[?25hRequirement already satisfied: python-louvain>=0.13 in /usr/local/lib/python3.7/dist-packages (from orange3) (0.16)\n",
            "Requirement already satisfied: openpyxl in /usr/local/lib/python3.7/dist-packages (from orange3) (3.0.10)\n",
            "Collecting pyqtgraph!=0.12.4,>=0.12.2\n",
            "  Downloading pyqtgraph-0.12.3-py3-none-any.whl (992 kB)\n",
            "\u001b[K     |████████████████████████████████| 992 kB 63.1 MB/s \n",
            "\u001b[?25hRequirement already satisfied: pip>=18.0 in /usr/local/lib/python3.7/dist-packages (from orange3) (21.1.3)\n",
            "Collecting serverfiles\n",
            "  Downloading serverfiles-0.3.1.tar.gz (11 kB)\n",
            "Collecting httpcore<0.16.0,>=0.15.0\n",
            "  Downloading httpcore-0.15.0-py3-none-any.whl (68 kB)\n",
            "\u001b[K     |████████████████████████████████| 68 kB 7.0 MB/s \n",
            "\u001b[?25hCollecting sniffio\n",
            "  Downloading sniffio-1.3.0-py3-none-any.whl (10 kB)\n",
            "Requirement already satisfied: certifi in /usr/local/lib/python3.7/dist-packages (from httpx>=0.21.0->orange3) (2022.9.24)\n",
            "Collecting rfc3986[idna2008]<2,>=1.3\n",
            "  Downloading rfc3986-1.5.0-py2.py3-none-any.whl (31 kB)\n",
            "Collecting h11<0.13,>=0.11\n",
            "  Downloading h11-0.12.0-py3-none-any.whl (54 kB)\n",
            "\u001b[K     |████████████████████████████████| 54 kB 3.6 MB/s \n",
            "\u001b[?25hCollecting anyio==3.*\n",
            "  Downloading anyio-3.6.2-py3-none-any.whl (80 kB)\n",
            "\u001b[K     |████████████████████████████████| 80 kB 9.2 MB/s \n",
            "\u001b[?25hRequirement already satisfied: typing-extensions in /usr/local/lib/python3.7/dist-packages (from anyio==3.*->httpcore<0.16.0,>=0.15.0->httpx>=0.21.0->orange3) (4.1.1)\n",
            "Requirement already satisfied: idna>=2.8 in /usr/local/lib/python3.7/dist-packages (from anyio==3.*->httpcore<0.16.0,>=0.15.0->httpx>=0.21.0->orange3) (2.10)\n",
            "Requirement already satisfied: python-dateutil>=2.1 in /usr/local/lib/python3.7/dist-packages (from matplotlib>=3.2.0->orange3) (2.8.2)\n",
            "Requirement already satisfied: pyparsing!=2.0.4,!=2.1.2,!=2.1.6,>=2.0.1 in /usr/local/lib/python3.7/dist-packages (from matplotlib>=3.2.0->orange3) (3.0.9)\n",
            "Requirement already satisfied: cycler>=0.10 in /usr/local/lib/python3.7/dist-packages (from matplotlib>=3.2.0->orange3) (0.11.0)\n",
            "Requirement already satisfied: kiwisolver>=1.0.1 in /usr/local/lib/python3.7/dist-packages (from matplotlib>=3.2.0->orange3) (1.4.4)\n",
            "Requirement already satisfied: importlib-metadata in /usr/local/lib/python3.7/dist-packages (from orange-canvas-core<0.2a,>=0.1.27->orange3) (4.13.0)\n",
            "Requirement already satisfied: docutils in /usr/local/lib/python3.7/dist-packages (from orange-canvas-core<0.2a,>=0.1.27->orange3) (0.17.1)\n",
            "Collecting dictdiffer\n",
            "  Downloading dictdiffer-0.9.0-py2.py3-none-any.whl (16 kB)\n",
            "Collecting commonmark>=0.8.1\n",
            "  Using cached commonmark-0.9.1-py2.py3-none-any.whl (51 kB)\n",
            "Collecting qasync\n",
            "  Downloading qasync-0.23.0-py3-none-any.whl (13 kB)\n",
            "Requirement already satisfied: cachecontrol[filecache] in /usr/local/lib/python3.7/dist-packages (from orange-canvas-core<0.2a,>=0.1.27->orange3) (0.12.11)\n",
            "Requirement already satisfied: pytz>=2017.3 in /usr/local/lib/python3.7/dist-packages (from pandas!=1.5.0,>=1.3.0->orange3) (2022.6)\n",
            "Collecting PyQt5-sip<13,>=12.11\n",
            "  Downloading PyQt5_sip-12.11.0-cp37-cp37m-manylinux1_x86_64.whl (344 kB)\n",
            "\u001b[K     |████████████████████████████████| 344 kB 70.7 MB/s \n",
            "\u001b[?25hCollecting PyQt5-Qt5>=5.15.0\n",
            "  Downloading PyQt5_Qt5-5.15.2-py3-none-manylinux2014_x86_64.whl (59.9 MB)\n",
            "\u001b[K     |████████████████████████████████| 59.9 MB 1.1 MB/s \n",
            "\u001b[?25hCollecting PyQtWebEngine-Qt5>=5.15.0\n",
            "  Downloading PyQtWebEngine_Qt5-5.15.2-py3-none-manylinux2014_x86_64.whl (67.5 MB)\n",
            "\u001b[K     |████████████████████████████████| 67.5 MB 205 kB/s \n",
            "\u001b[?25hRequirement already satisfied: six>=1.5 in /usr/local/lib/python3.7/dist-packages (from python-dateutil>=2.1->matplotlib>=3.2.0->orange3) (1.15.0)\n",
            "Collecting qtpy>=2.0.1\n",
            "  Downloading QtPy-2.3.0-py3-none-any.whl (83 kB)\n",
            "\u001b[K     |████████████████████████████████| 83 kB 2.6 MB/s \n",
            "\u001b[?25hRequirement already satisfied: jupyter-client>=4.1 in /usr/local/lib/python3.7/dist-packages (from qtconsole>=4.7.2->orange3) (6.1.12)\n",
            "Requirement already satisfied: traitlets!=5.2.1,!=5.2.2 in /usr/local/lib/python3.7/dist-packages (from qtconsole>=4.7.2->orange3) (5.1.1)\n",
            "Requirement already satisfied: pyzmq>=17.1 in /usr/local/lib/python3.7/dist-packages (from qtconsole>=4.7.2->orange3) (23.2.1)\n",
            "Requirement already satisfied: ipython-genutils in /usr/local/lib/python3.7/dist-packages (from qtconsole>=4.7.2->orange3) (0.2.0)\n",
            "Requirement already satisfied: jupyter-core in /usr/local/lib/python3.7/dist-packages (from qtconsole>=4.7.2->orange3) (4.11.2)\n",
            "Requirement already satisfied: ipykernel>=4.1 in /usr/local/lib/python3.7/dist-packages (from qtconsole>=4.7.2->orange3) (5.3.4)\n",
            "Requirement already satisfied: tornado>=4.2 in /usr/local/lib/python3.7/dist-packages (from ipykernel>=4.1->qtconsole>=4.7.2->orange3) (6.0.4)\n",
            "Requirement already satisfied: ipython>=5.0.0 in /usr/local/lib/python3.7/dist-packages (from ipykernel>=4.1->qtconsole>=4.7.2->orange3) (7.9.0)\n",
            "Requirement already satisfied: pexpect in /usr/local/lib/python3.7/dist-packages (from ipython>=5.0.0->ipykernel>=4.1->qtconsole>=4.7.2->orange3) (4.8.0)\n",
            "Requirement already satisfied: backcall in /usr/local/lib/python3.7/dist-packages (from ipython>=5.0.0->ipykernel>=4.1->qtconsole>=4.7.2->orange3) (0.2.0)\n",
            "Requirement already satisfied: decorator in /usr/local/lib/python3.7/dist-packages (from ipython>=5.0.0->ipykernel>=4.1->qtconsole>=4.7.2->orange3) (4.4.2)\n",
            "Requirement already satisfied: pickleshare in /usr/local/lib/python3.7/dist-packages (from ipython>=5.0.0->ipykernel>=4.1->qtconsole>=4.7.2->orange3) (0.7.5)\n",
            "Collecting jedi>=0.10\n",
            "  Downloading jedi-0.18.1-py2.py3-none-any.whl (1.6 MB)\n",
            "\u001b[K     |████████████████████████████████| 1.6 MB 54.0 MB/s \n",
            "\u001b[?25hRequirement already satisfied: prompt-toolkit<2.1.0,>=2.0.0 in /usr/local/lib/python3.7/dist-packages (from ipython>=5.0.0->ipykernel>=4.1->qtconsole>=4.7.2->orange3) (2.0.10)\n",
            "Requirement already satisfied: parso<0.9.0,>=0.8.0 in /usr/local/lib/python3.7/dist-packages (from jedi>=0.10->ipython>=5.0.0->ipykernel>=4.1->qtconsole>=4.7.2->orange3) (0.8.3)\n",
            "Requirement already satisfied: wcwidth in /usr/local/lib/python3.7/dist-packages (from prompt-toolkit<2.1.0,>=2.0.0->ipython>=5.0.0->ipykernel>=4.1->qtconsole>=4.7.2->orange3) (0.2.5)\n",
            "Requirement already satisfied: packaging in /usr/local/lib/python3.7/dist-packages (from qtpy>=2.0.1->qtconsole>=4.7.2->orange3) (21.3)\n",
            "Requirement already satisfied: threadpoolctl>=2.0.0 in /usr/local/lib/python3.7/dist-packages (from scikit-learn>=1.0.1->orange3) (3.1.0)\n",
            "Requirement already satisfied: msgpack>=0.5.2 in /usr/local/lib/python3.7/dist-packages (from cachecontrol[filecache]->orange-canvas-core<0.2a,>=0.1.27->orange3) (1.0.4)\n",
            "Collecting lockfile>=0.9\n",
            "  Downloading lockfile-0.12.2-py2.py3-none-any.whl (13 kB)\n",
            "Requirement already satisfied: zipp>=0.5 in /usr/local/lib/python3.7/dist-packages (from importlib-metadata->orange-canvas-core<0.2a,>=0.1.27->orange3) (3.10.0)\n",
            "Collecting jeepney>=0.4.2\n",
            "  Downloading jeepney-0.8.0-py3-none-any.whl (48 kB)\n",
            "\u001b[K     |████████████████████████████████| 48 kB 6.3 MB/s \n",
            "\u001b[?25hCollecting jaraco.classes\n",
            "  Downloading jaraco.classes-3.2.3-py3-none-any.whl (6.0 kB)\n",
            "Collecting SecretStorage>=3.2\n",
            "  Downloading SecretStorage-3.3.3-py3-none-any.whl (15 kB)\n",
            "Collecting cryptography>=2.0\n",
            "  Downloading cryptography-38.0.3-cp36-abi3-manylinux_2_24_x86_64.whl (4.1 MB)\n",
            "\u001b[K     |████████████████████████████████| 4.1 MB 60.0 MB/s \n",
            "\u001b[?25hRequirement already satisfied: cffi>=1.12 in /usr/local/lib/python3.7/dist-packages (from cryptography>=2.0->SecretStorage>=3.2->keyring->orange3) (1.15.1)\n",
            "Requirement already satisfied: pycparser in /usr/local/lib/python3.7/dist-packages (from cffi>=1.12->cryptography>=2.0->SecretStorage>=3.2->keyring->orange3) (2.21)\n",
            "Requirement already satisfied: more-itertools in /usr/local/lib/python3.7/dist-packages (from jaraco.classes->keyring->orange3) (9.0.0)\n",
            "Requirement already satisfied: et-xmlfile in /usr/local/lib/python3.7/dist-packages (from openpyxl->orange3) (1.1.0)\n",
            "Requirement already satisfied: ptyprocess>=0.5 in /usr/local/lib/python3.7/dist-packages (from pexpect->ipython>=5.0.0->ipykernel>=4.1->qtconsole>=4.7.2->orange3) (0.7.0)\n",
            "Requirement already satisfied: urllib3!=1.25.0,!=1.25.1,<1.26,>=1.21.1 in /usr/local/lib/python3.7/dist-packages (from requests->orange3) (1.24.3)\n",
            "Building wheels for collected packages: orange3, serverfiles\n",
            "  Building wheel for orange3 (PEP 517) ... \u001b[?25l\u001b[?25hdone\n",
            "  Created wheel for orange3: filename=Orange3-3.33.0-cp37-cp37m-linux_x86_64.whl size=28838100 sha256=413c33bb2ad68467951a3bda240fdaf8037082a9627acaf064fddc54785fc80c\n",
            "  Stored in directory: /root/.cache/pip/wheels/d1/8d/b0/4f858c931147afb48e6894996220a5edf8cbb8995e3ce96b5d\n",
            "  Building wheel for serverfiles (setup.py) ... \u001b[?25l\u001b[?25hdone\n",
            "  Created wheel for serverfiles: filename=serverfiles-0.3.1-py3-none-any.whl size=6949 sha256=2fa9779217ef8f16e6fbae11025b1cfd5186f3f97238e840b879f8cf6525e8cf\n",
            "  Stored in directory: /root/.cache/pip/wheels/f4/36/15/fcfe21874746d5cd17c18b1e5501fbf86544da90d4ab6afe17\n",
            "Successfully built orange3 serverfiles\n",
            "Installing collected packages: sniffio, pygments, lockfile, jedi, rfc3986, qasync, PyQt5-sip, PyQt5-Qt5, jeepney, h11, dictdiffer, cryptography, commonmark, AnyQt, anyio, SecretStorage, qtpy, PyQtWebEngine-Qt5, pyqtgraph, PyQt5, orange-canvas-core, jaraco.classes, httpcore, xlsxwriter, xlrd, serverfiles, qtconsole, PyQtWebEngine, orange-widget-base, openTSNE, keyrings.alt, keyring, httpx, bottleneck, baycomp, orange3\n",
            "  Attempting uninstall: pygments\n",
            "    Found existing installation: Pygments 2.6.1\n",
            "    Uninstalling Pygments-2.6.1:\n",
            "      Successfully uninstalled Pygments-2.6.1\n",
            "  Attempting uninstall: xlrd\n",
            "    Found existing installation: xlrd 1.1.0\n",
            "    Uninstalling xlrd-1.1.0:\n",
            "      Successfully uninstalled xlrd-1.1.0\n",
            "Successfully installed AnyQt-0.2.0 PyQt5-5.15.7 PyQt5-Qt5-5.15.2 PyQt5-sip-12.11.0 PyQtWebEngine-5.15.6 PyQtWebEngine-Qt5-5.15.2 SecretStorage-3.3.3 anyio-3.6.2 baycomp-1.0.2 bottleneck-1.3.5 commonmark-0.9.1 cryptography-38.0.3 dictdiffer-0.9.0 h11-0.12.0 httpcore-0.15.0 httpx-0.23.0 jaraco.classes-3.2.3 jedi-0.18.1 jeepney-0.8.0 keyring-23.11.0 keyrings.alt-4.2.0 lockfile-0.12.2 openTSNE-0.6.2 orange-canvas-core-0.1.28 orange-widget-base-4.18.0 orange3-3.33.0 pygments-2.13.0 pyqtgraph-0.12.3 qasync-0.23.0 qtconsole-5.4.0 qtpy-2.3.0 rfc3986-1.5.0 serverfiles-0.3.1 sniffio-1.3.0 xlrd-2.0.1 xlsxwriter-3.0.3\n"
          ]
        },
        {
          "output_type": "display_data",
          "data": {
            "application/vnd.colab-display-data+json": {
              "pip_warning": {
                "packages": [
                  "pygments"
                ]
              }
            }
          },
          "metadata": {}
        }
      ]
    },
    {
      "cell_type": "code",
      "source": [
        "from IPython.core import interactiveshell\n"
      ],
      "metadata": {
        "id": "HBcAD6d22otV"
      },
      "execution_count": 4,
      "outputs": []
    },
    {
      "cell_type": "code",
      "source": [
        "from scipy.stats import wilcoxon,friedmanchisquare,rankdata\n",
        "import Orange\n",
        "from Orange.evaluation import compute_CD, graph_ranks"
      ],
      "metadata": {
        "id": "V_pJ8zIof5fJ"
      },
      "execution_count": 5,
      "outputs": []
    },
    {
      "cell_type": "code",
      "source": [
        "d = {'classification_Acuracy': ['g0', 'g1', 'g2', 'g3', 'g4'], \n",
        "     'k-NN': [96.2314,\t87.7565,\t88.6977,\t95.5641,\t92.3879],\n",
        "     'AD': [98.6855,97.8973,99.4419,96.4328,98.0508],\n",
        "     'MLP': [86.4481,72.6716,71.0698,92.3135,80.2454],\n",
        "     'Naive Bayes':[89.1433,56.6156,67.6977,87.9028,89.1856],\n",
        "     'SVM': [77.2432,71.543,69.7907,86.219,74.9839],\n",
        "     'Boosting':[99.3471,94.5554,99.4186,98.9271,98.3614],\n",
        "     'Bagging':[99.3051,98.1487,99,99.1065,98.5727],\n",
        "     'RF': [99.4142,98.3566,99.3721,99.1296,98.6052]\n",
        "    }\n",
        "\n",
        "graphic = pd.DataFrame(data=d)"
      ],
      "metadata": {
        "id": "Uza7A3Tuf6IL"
      },
      "execution_count": 6,
      "outputs": []
    },
    {
      "cell_type": "code",
      "source": [
        "graphic"
      ],
      "metadata": {
        "colab": {
          "base_uri": "https://localhost:8080/",
          "height": 206
        },
        "id": "9J50toFgjjQI",
        "outputId": "6f173156-08d8-44bd-f3b4-3219c4242410"
      },
      "execution_count": 7,
      "outputs": [
        {
          "output_type": "execute_result",
          "data": {
            "text/plain": [
              "  dataset_Acuracy     k-NN       AD      MLP  Naive Bayes      SVM  Boosting  \\\n",
              "0              g0  96.2314  98.6855  86.4481      89.1433  77.2432   99.3471   \n",
              "1              g1  87.7565  97.8973  72.6716      56.6156  71.5430   94.5554   \n",
              "2              g2  88.6977  99.4419  71.0698      67.6977  69.7907   99.4186   \n",
              "3              g3  95.5641  96.4328  92.3135      87.9028  86.2190   98.9271   \n",
              "4              g4  92.3879  98.0508  80.2454      89.1856  74.9839   98.3614   \n",
              "\n",
              "   Bagging       RF  \n",
              "0  99.3051  99.4142  \n",
              "1  98.1487  98.3566  \n",
              "2  99.0000  99.3721  \n",
              "3  99.1065  99.1296  \n",
              "4  98.5727  98.6052  "
            ],
            "text/html": [
              "\n",
              "  <div id=\"df-30705923-d70c-4023-8889-0dc7f653fe38\">\n",
              "    <div class=\"colab-df-container\">\n",
              "      <div>\n",
              "<style scoped>\n",
              "    .dataframe tbody tr th:only-of-type {\n",
              "        vertical-align: middle;\n",
              "    }\n",
              "\n",
              "    .dataframe tbody tr th {\n",
              "        vertical-align: top;\n",
              "    }\n",
              "\n",
              "    .dataframe thead th {\n",
              "        text-align: right;\n",
              "    }\n",
              "</style>\n",
              "<table border=\"1\" class=\"dataframe\">\n",
              "  <thead>\n",
              "    <tr style=\"text-align: right;\">\n",
              "      <th></th>\n",
              "      <th>dataset_Acuracy</th>\n",
              "      <th>k-NN</th>\n",
              "      <th>AD</th>\n",
              "      <th>MLP</th>\n",
              "      <th>Naive Bayes</th>\n",
              "      <th>SVM</th>\n",
              "      <th>Boosting</th>\n",
              "      <th>Bagging</th>\n",
              "      <th>RF</th>\n",
              "    </tr>\n",
              "  </thead>\n",
              "  <tbody>\n",
              "    <tr>\n",
              "      <th>0</th>\n",
              "      <td>g0</td>\n",
              "      <td>96.2314</td>\n",
              "      <td>98.6855</td>\n",
              "      <td>86.4481</td>\n",
              "      <td>89.1433</td>\n",
              "      <td>77.2432</td>\n",
              "      <td>99.3471</td>\n",
              "      <td>99.3051</td>\n",
              "      <td>99.4142</td>\n",
              "    </tr>\n",
              "    <tr>\n",
              "      <th>1</th>\n",
              "      <td>g1</td>\n",
              "      <td>87.7565</td>\n",
              "      <td>97.8973</td>\n",
              "      <td>72.6716</td>\n",
              "      <td>56.6156</td>\n",
              "      <td>71.5430</td>\n",
              "      <td>94.5554</td>\n",
              "      <td>98.1487</td>\n",
              "      <td>98.3566</td>\n",
              "    </tr>\n",
              "    <tr>\n",
              "      <th>2</th>\n",
              "      <td>g2</td>\n",
              "      <td>88.6977</td>\n",
              "      <td>99.4419</td>\n",
              "      <td>71.0698</td>\n",
              "      <td>67.6977</td>\n",
              "      <td>69.7907</td>\n",
              "      <td>99.4186</td>\n",
              "      <td>99.0000</td>\n",
              "      <td>99.3721</td>\n",
              "    </tr>\n",
              "    <tr>\n",
              "      <th>3</th>\n",
              "      <td>g3</td>\n",
              "      <td>95.5641</td>\n",
              "      <td>96.4328</td>\n",
              "      <td>92.3135</td>\n",
              "      <td>87.9028</td>\n",
              "      <td>86.2190</td>\n",
              "      <td>98.9271</td>\n",
              "      <td>99.1065</td>\n",
              "      <td>99.1296</td>\n",
              "    </tr>\n",
              "    <tr>\n",
              "      <th>4</th>\n",
              "      <td>g4</td>\n",
              "      <td>92.3879</td>\n",
              "      <td>98.0508</td>\n",
              "      <td>80.2454</td>\n",
              "      <td>89.1856</td>\n",
              "      <td>74.9839</td>\n",
              "      <td>98.3614</td>\n",
              "      <td>98.5727</td>\n",
              "      <td>98.6052</td>\n",
              "    </tr>\n",
              "  </tbody>\n",
              "</table>\n",
              "</div>\n",
              "      <button class=\"colab-df-convert\" onclick=\"convertToInteractive('df-30705923-d70c-4023-8889-0dc7f653fe38')\"\n",
              "              title=\"Convert this dataframe to an interactive table.\"\n",
              "              style=\"display:none;\">\n",
              "        \n",
              "  <svg xmlns=\"http://www.w3.org/2000/svg\" height=\"24px\"viewBox=\"0 0 24 24\"\n",
              "       width=\"24px\">\n",
              "    <path d=\"M0 0h24v24H0V0z\" fill=\"none\"/>\n",
              "    <path d=\"M18.56 5.44l.94 2.06.94-2.06 2.06-.94-2.06-.94-.94-2.06-.94 2.06-2.06.94zm-11 1L8.5 8.5l.94-2.06 2.06-.94-2.06-.94L8.5 2.5l-.94 2.06-2.06.94zm10 10l.94 2.06.94-2.06 2.06-.94-2.06-.94-.94-2.06-.94 2.06-2.06.94z\"/><path d=\"M17.41 7.96l-1.37-1.37c-.4-.4-.92-.59-1.43-.59-.52 0-1.04.2-1.43.59L10.3 9.45l-7.72 7.72c-.78.78-.78 2.05 0 2.83L4 21.41c.39.39.9.59 1.41.59.51 0 1.02-.2 1.41-.59l7.78-7.78 2.81-2.81c.8-.78.8-2.07 0-2.86zM5.41 20L4 18.59l7.72-7.72 1.47 1.35L5.41 20z\"/>\n",
              "  </svg>\n",
              "      </button>\n",
              "      \n",
              "  <style>\n",
              "    .colab-df-container {\n",
              "      display:flex;\n",
              "      flex-wrap:wrap;\n",
              "      gap: 12px;\n",
              "    }\n",
              "\n",
              "    .colab-df-convert {\n",
              "      background-color: #E8F0FE;\n",
              "      border: none;\n",
              "      border-radius: 50%;\n",
              "      cursor: pointer;\n",
              "      display: none;\n",
              "      fill: #1967D2;\n",
              "      height: 32px;\n",
              "      padding: 0 0 0 0;\n",
              "      width: 32px;\n",
              "    }\n",
              "\n",
              "    .colab-df-convert:hover {\n",
              "      background-color: #E2EBFA;\n",
              "      box-shadow: 0px 1px 2px rgba(60, 64, 67, 0.3), 0px 1px 3px 1px rgba(60, 64, 67, 0.15);\n",
              "      fill: #174EA6;\n",
              "    }\n",
              "\n",
              "    [theme=dark] .colab-df-convert {\n",
              "      background-color: #3B4455;\n",
              "      fill: #D2E3FC;\n",
              "    }\n",
              "\n",
              "    [theme=dark] .colab-df-convert:hover {\n",
              "      background-color: #434B5C;\n",
              "      box-shadow: 0px 1px 3px 1px rgba(0, 0, 0, 0.15);\n",
              "      filter: drop-shadow(0px 1px 2px rgba(0, 0, 0, 0.3));\n",
              "      fill: #FFFFFF;\n",
              "    }\n",
              "  </style>\n",
              "\n",
              "      <script>\n",
              "        const buttonEl =\n",
              "          document.querySelector('#df-30705923-d70c-4023-8889-0dc7f653fe38 button.colab-df-convert');\n",
              "        buttonEl.style.display =\n",
              "          google.colab.kernel.accessAllowed ? 'block' : 'none';\n",
              "\n",
              "        async function convertToInteractive(key) {\n",
              "          const element = document.querySelector('#df-30705923-d70c-4023-8889-0dc7f653fe38');\n",
              "          const dataTable =\n",
              "            await google.colab.kernel.invokeFunction('convertToInteractive',\n",
              "                                                     [key], {});\n",
              "          if (!dataTable) return;\n",
              "\n",
              "          const docLinkHtml = 'Like what you see? Visit the ' +\n",
              "            '<a target=\"_blank\" href=https://colab.research.google.com/notebooks/data_table.ipynb>data table notebook</a>'\n",
              "            + ' to learn more about interactive tables.';\n",
              "          element.innerHTML = '';\n",
              "          dataTable['output_type'] = 'display_data';\n",
              "          await google.colab.output.renderOutput(dataTable, element);\n",
              "          const docLink = document.createElement('div');\n",
              "          docLink.innerHTML = docLinkHtml;\n",
              "          element.appendChild(docLink);\n",
              "        }\n",
              "      </script>\n",
              "    </div>\n",
              "  </div>\n",
              "  "
            ]
          },
          "metadata": {},
          "execution_count": 7
        }
      ]
    },
    {
      "cell_type": "code",
      "source": [
        "algorithms_names=graphic.drop('dataset_Acuracy',axis=1).columns\n",
        "performances_array = graphic[algorithms_names].values\n",
        "friedmanchisquare(*performances_array)"
      ],
      "metadata": {
        "colab": {
          "base_uri": "https://localhost:8080/"
        },
        "id": "NHTIezeDjpy1",
        "outputId": "500ae818-2395-4bec-ee2d-0f055025d9c3"
      },
      "execution_count": 8,
      "outputs": [
        {
          "output_type": "execute_result",
          "data": {
            "text/plain": [
              "FriedmanchisquareResult(statistic=15.400000000000006, pvalue=0.003939596491115125)"
            ]
          },
          "metadata": {},
          "execution_count": 8
        }
      ]
    },
    {
      "cell_type": "code",
      "source": [
        "ranks = np.array([rankdata(-p) for p in performances_array])\n",
        "average_ranks = np.mean(ranks,axis=0)\n",
        "\n",
        "print('\\n'.join('{} average rank: {}'.format(a, r) for a,r in zip(algorithms_names, average_ranks)))"
      ],
      "metadata": {
        "colab": {
          "base_uri": "https://localhost:8080/"
        },
        "id": "7cBW4z7-j586",
        "outputId": "8b63e102-63ec-4565-aa85-0f231a998661"
      },
      "execution_count": 9,
      "outputs": [
        {
          "output_type": "stream",
          "name": "stdout",
          "text": [
            "k-NN average rank: 5.0\n",
            "AD average rank: 3.2\n",
            "MLP average rank: 6.4\n",
            "Naive Bayes average rank: 7.0\n",
            "SVM average rank: 7.6\n",
            "Boosting average rank: 2.8\n",
            "Bagging average rank: 2.6\n",
            "RF average rank: 1.4\n"
          ]
        }
      ]
    },
    {
      "cell_type": "code",
      "source": [
        "cd= compute_CD(average_ranks,\n",
        "    n=len(graphic),\n",
        "    alpha='0.1',\n",
        "    test='nemenyi')\n",
        "\n",
        "graph_ranks(average_ranks,\n",
        "            names=algorithms_names,\n",
        "            cd=cd,\n",
        "            width=10,\n",
        "            textspace=1.5,\n",
        "            reverse=False)\n",
        "\n",
        "plt.show()"
      ],
      "metadata": {
        "colab": {
          "base_uri": "https://localhost:8080/",
          "height": 262
        },
        "id": "EqR7oV88kDUI",
        "outputId": "5f4efc7a-f1cf-4b5e-bcc3-c2b39a185780"
      },
      "execution_count": 10,
      "outputs": [
        {
          "output_type": "stream",
          "name": "stderr",
          "text": [
            "/usr/local/lib/python3.7/dist-packages/ipykernel_launcher.py:4: OrangeDeprecationWarning: compute_CD is deprecated and will be removed in Orange 3.34.\n",
            "  after removing the cwd from sys.path.\n",
            "/usr/local/lib/python3.7/dist-packages/ipykernel_launcher.py:11: OrangeDeprecationWarning: graph_ranks is deprecated and will be removed in Orange 3.34.\n",
            "  # This is added back by InteractiveShellApp.init_path()\n"
          ]
        },
        {
          "output_type": "display_data",
          "data": {
            "text/plain": [
              "<Figure size 720x162 with 1 Axes>"
            ],
            "image/png": "[encoded data removed]"
          },
          "metadata": {}
        }
      ]
    },
    {
      "cell_type": "code",
      "source": [
        "average_ranks"
      ],
      "metadata": {
        "id": "Jsxbc80ikZsE",
        "colab": {
          "base_uri": "https://localhost:8080/"
        },
        "outputId": "1a6de28a-efe6-4e44-efd0-4efa6700ae57"
      },
      "execution_count": 11,
      "outputs": [
        {
          "output_type": "execute_result",
          "data": {
            "text/plain": [
              "array([5. , 3.2, 6.4, 7. , 7.6, 2.8, 2.6, 1.4])"
            ]
          },
          "metadata": {},
          "execution_count": 11
        }
      ]
    },
    {
      "cell_type": "code",
      "source": [
        "base0 = {'Transfer_Learning_base0_Acuracy': ['g0', 'g1', 'g2', 'g3', 'g4'], \n",
        "     'IBK': [84.248, 80.647, 75.591,79.993,88.323],\n",
        "     'J48': [98.165,98.805,97.418,94.395,98.301],\n",
        "     'MLP': [61.085,60.737,\t68.245,\t71.164,\t82.830],\n",
        "     'NB':[86.91, 58.697,\t54.500,\t90.938,\t88.082],\n",
        "     'SMO': [70.08, 56.837,\t68.185,\t65.485,\t71.899],\n",
        "     'Bagging':[98.987, 98.011,\t97.690,\t98.670,\t98.430],\n",
        "     'RF': [98.927, 98.578,\t96.166,\t98.867,\t98.358],\n",
        "     'Boosting':[98.287, 99.028,\t97.404,\t95.017,\t98.208]\n",
        "    }\n",
        "\n",
        "graphic = pd.DataFrame(data=base0)\n"
      ],
      "metadata": {
        "id": "-z7sxRtKknfG"
      },
      "execution_count": 26,
      "outputs": []
    },
    {
      "cell_type": "code",
      "source": [
        "algorithms_names=graphic.drop('Transfer_Learning_base0_Acuracy',axis=1).columns\n",
        "performances_array = graphic[algorithms_names].values\n",
        "friedmanchisquare(*performances_array)"
      ],
      "metadata": {
        "colab": {
          "base_uri": "https://localhost:8080/"
        },
        "id": "UVnKqIajbYCS",
        "outputId": "7475a77f-5876-4f35-c24f-2f30aad63f70"
      },
      "execution_count": 28,
      "outputs": [
        {
          "output_type": "execute_result",
          "data": {
            "text/plain": [
              "FriedmanchisquareResult(statistic=9.5, pvalue=0.04974724741794365)"
            ]
          },
          "metadata": {},
          "execution_count": 28
        }
      ]
    },
    {
      "cell_type": "code",
      "source": [
        "ranks = np.array([rankdata(-p) for p in performances_array])\n",
        "average_ranks = np.mean(ranks,axis=0)\n",
        "\n",
        "print('\\n'.join('{} average rank: {}'.format(a, r) for a,r in zip(algorithms_names, average_ranks)))"
      ],
      "metadata": {
        "colab": {
          "base_uri": "https://localhost:8080/"
        },
        "id": "21o-czL1eqjb",
        "outputId": "d525bd80-f735-4452-b30a-aceb92b163d9"
      },
      "execution_count": 29,
      "outputs": [
        {
          "output_type": "stream",
          "name": "stdout",
          "text": [
            "IBK average rank: 5.4\n",
            "J48 average rank: 3.0\n",
            "MLP average rank: 6.8\n",
            "NB average rank: 6.2\n",
            "SMO average rank: 7.6\n",
            "Bagging average rank: 1.8\n",
            "RF average rank: 2.4\n",
            "Boosting average rank: 2.8\n"
          ]
        }
      ]
    },
    {
      "cell_type": "code",
      "source": [
        "cd= compute_CD(average_ranks,\n",
        "    n=len(graphic),\n",
        "    alpha='0.1',\n",
        "    test='nemenyi')\n",
        "\n",
        "graph_ranks(average_ranks,\n",
        "            names=algorithms_names,\n",
        "            cd=cd,\n",
        "            width=10,\n",
        "            textspace=1.0,\n",
        "            reverse=False)\n",
        "\n",
        "plt.show()"
      ],
      "metadata": {
        "colab": {
          "base_uri": "https://localhost:8080/",
          "height": 262
        },
        "id": "Hu7oVqlvfCXp",
        "outputId": "bb622aa0-b325-4778-83ac-9b2794c0adaa"
      },
      "execution_count": 34,
      "outputs": [
        {
          "output_type": "stream",
          "name": "stderr",
          "text": [
            "/usr/local/lib/python3.7/dist-packages/ipykernel_launcher.py:4: OrangeDeprecationWarning: compute_CD is deprecated and will be removed in Orange 3.34.\n",
            "  after removing the cwd from sys.path.\n",
            "/usr/local/lib/python3.7/dist-packages/ipykernel_launcher.py:11: OrangeDeprecationWarning: graph_ranks is deprecated and will be removed in Orange 3.34.\n",
            "  # This is added back by InteractiveShellApp.init_path()\n"
          ]
        },
        {
          "output_type": "display_data",
          "data": {
            "text/plain": [
              "<Figure size 720x162 with 1 Axes>"
            ],
            "image/png": "[encoded data removed]"
          },
          "metadata": {}
        }
      ]
    }
  ]
}