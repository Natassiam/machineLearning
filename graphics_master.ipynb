{
  "nbformat": 4,
  "nbformat_minor": 0,
  "metadata": {
    "colab": {
      "provenance": [],
      "authorship_tag": "ABX9TyMQe1Efanmwc1ZWE8FiJbMF",
      "include_colab_link": true
    },
    "kernelspec": {
      "name": "python3",
      "display_name": "Python 3"
    },
    "language_info": {
      "name": "python"
    }
  },
  "cells": [
    {
      "cell_type": "markdown",
      "metadata": {
        "id": "view-in-github",
        "colab_type": "text"
      },
      "source": [
        "<a href=\"https://colab.research.google.com/github/Natassiam/machineLearning/blob/teste/graphics_master.ipynb\" target=\"_parent\"><img src=\"https://colab.research.google.com/assets/colab-badge.svg\" alt=\"Open In Colab\"/></a>"
      ]
    },
    {
      "cell_type": "code",
      "execution_count": 1,
      "metadata": {
        "id": "8OKIDRX6fuc2"
      },
      "outputs": [],
      "source": [
        "import numpy as np\n",
        "import pandas as pd\n",
        "import matplotlib.pyplot as plt"
      ]
    },
    {
      "cell_type": "code",
      "source": [
        "pip install orange3"
      ],
      "metadata": {
        "id": "3kU1_P7sf2Ec"
      },
      "execution_count": null,
      "outputs": []
    },
    {
      "cell_type": "code",
      "source": [
        "from scipy.stats import wilcoxon,friedmanchisquare,rankdata\n",
        "import Orange\n",
        "from Orange.evaluation import compute_CD, graph_ranks"
      ],
      "metadata": {
        "id": "V_pJ8zIof5fJ"
      },
      "execution_count": 7,
      "outputs": []
    },
    {
      "cell_type": "code",
      "source": [
        "d = {'dataset': ['g0', 'g1', 'g2', 'g3', 'g4'], \n",
        "     'k-NN': [96.2314,\t87.7565,\t88.6977,\t95.5641,\t92.3879],\n",
        "     'AD': [98.6855,97.8973,99.4419,96.4328,98.0508],\n",
        "     'MLP': [86.4481,72.6716,71.0698,92.3135,80.2454],\n",
        "     'Naive Bayes':[89.1433,56.6156,67.6977,87.9028,89.1856],\n",
        "     'SVM': [77.2432,71.543,69.7907,86.219,74.9839],\n",
        "     'Boosting':[99.3471,94.5554,99.4186,98.9271,98.3614],\n",
        "     'Bagging':[99.3051,98.1487,99,99.1065,98.5727],\n",
        "     'RF': [99.4142,98.3566,99.3721,99.1296,98.6052]\n",
        "    }\n",
        "\n",
        "graphic = pd.DataFrame(data=d)"
      ],
      "metadata": {
        "id": "Uza7A3Tuf6IL"
      },
      "execution_count": 12,
      "outputs": []
    },
    {
      "cell_type": "code",
      "source": [
        "graphic"
      ],
      "metadata": {
        "colab": {
          "base_uri": "https://localhost:8080/",
          "height": 206
        },
        "id": "9J50toFgjjQI",
        "outputId": "154fb22c-b977-4ed0-a25d-f86d353e1079"
      },
      "execution_count": 13,
      "outputs": [
        {
          "output_type": "execute_result",
          "data": {
            "text/plain": [
              "  dataset     k-NN       AD      MLP  Naive Bayes      SVM  Boosting  Bagging  \\\n",
              "0      g0  96.2314  98.6855  86.4481      89.1433  77.2432   99.3471  99.3051   \n",
              "1      g1  87.7565  97.8973  72.6716      56.6156  71.5430   94.5554  98.1487   \n",
              "2      g2  88.6977  99.4419  71.0698      67.6977  69.7907   99.4186  99.0000   \n",
              "3      g3  95.5641  96.4328  92.3135      87.9028  86.2190   98.9271  99.1065   \n",
              "4      g4  92.3879  98.0508  80.2454      89.1856  74.9839   98.3614  98.5727   \n",
              "\n",
              "        RF  \n",
              "0  99.4142  \n",
              "1  98.3566  \n",
              "2  99.3721  \n",
              "3  99.1296  \n",
              "4  98.6052  "
            ],
            "text/html": [
              "\n",
              "  <div id=\"df-6cef2e8b-adc3-461e-9b20-45e619ec7ce6\">\n",
              "    <div class=\"colab-df-container\">\n",
              "      <div>\n",
              "<style scoped>\n",
              "    .dataframe tbody tr th:only-of-type {\n",
              "        vertical-align: middle;\n",
              "    }\n",
              "\n",
              "    .dataframe tbody tr th {\n",
              "        vertical-align: top;\n",
              "    }\n",
              "\n",
              "    .dataframe thead th {\n",
              "        text-align: right;\n",
              "    }\n",
              "</style>\n",
              "<table border=\"1\" class=\"dataframe\">\n",
              "  <thead>\n",
              "    <tr style=\"text-align: right;\">\n",
              "      <th></th>\n",
              "      <th>dataset</th>\n",
              "      <th>k-NN</th>\n",
              "      <th>AD</th>\n",
              "      <th>MLP</th>\n",
              "      <th>Naive Bayes</th>\n",
              "      <th>SVM</th>\n",
              "      <th>Boosting</th>\n",
              "      <th>Bagging</th>\n",
              "      <th>RF</th>\n",
              "    </tr>\n",
              "  </thead>\n",
              "  <tbody>\n",
              "    <tr>\n",
              "      <th>0</th>\n",
              "      <td>g0</td>\n",
              "      <td>96.2314</td>\n",
              "      <td>98.6855</td>\n",
              "      <td>86.4481</td>\n",
              "      <td>89.1433</td>\n",
              "      <td>77.2432</td>\n",
              "      <td>99.3471</td>\n",
              "      <td>99.3051</td>\n",
              "      <td>99.4142</td>\n",
              "    </tr>\n",
              "    <tr>\n",
              "      <th>1</th>\n",
              "      <td>g1</td>\n",
              "      <td>87.7565</td>\n",
              "      <td>97.8973</td>\n",
              "      <td>72.6716</td>\n",
              "      <td>56.6156</td>\n",
              "      <td>71.5430</td>\n",
              "      <td>94.5554</td>\n",
              "      <td>98.1487</td>\n",
              "      <td>98.3566</td>\n",
              "    </tr>\n",
              "    <tr>\n",
              "      <th>2</th>\n",
              "      <td>g2</td>\n",
              "      <td>88.6977</td>\n",
              "      <td>99.4419</td>\n",
              "      <td>71.0698</td>\n",
              "      <td>67.6977</td>\n",
              "      <td>69.7907</td>\n",
              "      <td>99.4186</td>\n",
              "      <td>99.0000</td>\n",
              "      <td>99.3721</td>\n",
              "    </tr>\n",
              "    <tr>\n",
              "      <th>3</th>\n",
              "      <td>g3</td>\n",
              "      <td>95.5641</td>\n",
              "      <td>96.4328</td>\n",
              "      <td>92.3135</td>\n",
              "      <td>87.9028</td>\n",
              "      <td>86.2190</td>\n",
              "      <td>98.9271</td>\n",
              "      <td>99.1065</td>\n",
              "      <td>99.1296</td>\n",
              "    </tr>\n",
              "    <tr>\n",
              "      <th>4</th>\n",
              "      <td>g4</td>\n",
              "      <td>92.3879</td>\n",
              "      <td>98.0508</td>\n",
              "      <td>80.2454</td>\n",
              "      <td>89.1856</td>\n",
              "      <td>74.9839</td>\n",
              "      <td>98.3614</td>\n",
              "      <td>98.5727</td>\n",
              "      <td>98.6052</td>\n",
              "    </tr>\n",
              "  </tbody>\n",
              "</table>\n",
              "</div>\n",
              "      <button class=\"colab-df-convert\" onclick=\"convertToInteractive('df-6cef2e8b-adc3-461e-9b20-45e619ec7ce6')\"\n",
              "              title=\"Convert this dataframe to an interactive table.\"\n",
              "              style=\"display:none;\">\n",
              "        \n",
              "  <svg xmlns=\"http://www.w3.org/2000/svg\" height=\"24px\"viewBox=\"0 0 24 24\"\n",
              "       width=\"24px\">\n",
              "    <path d=\"M0 0h24v24H0V0z\" fill=\"none\"/>\n",
              "    <path d=\"M18.56 5.44l.94 2.06.94-2.06 2.06-.94-2.06-.94-.94-2.06-.94 2.06-2.06.94zm-11 1L8.5 8.5l.94-2.06 2.06-.94-2.06-.94L8.5 2.5l-.94 2.06-2.06.94zm10 10l.94 2.06.94-2.06 2.06-.94-2.06-.94-.94-2.06-.94 2.06-2.06.94z\"/><path d=\"M17.41 7.96l-1.37-1.37c-.4-.4-.92-.59-1.43-.59-.52 0-1.04.2-1.43.59L10.3 9.45l-7.72 7.72c-.78.78-.78 2.05 0 2.83L4 21.41c.39.39.9.59 1.41.59.51 0 1.02-.2 1.41-.59l7.78-7.78 2.81-2.81c.8-.78.8-2.07 0-2.86zM5.41 20L4 18.59l7.72-7.72 1.47 1.35L5.41 20z\"/>\n",
              "  </svg>\n",
              "      </button>\n",
              "      \n",
              "  <style>\n",
              "    .colab-df-container {\n",
              "      display:flex;\n",
              "      flex-wrap:wrap;\n",
              "      gap: 12px;\n",
              "    }\n",
              "\n",
              "    .colab-df-convert {\n",
              "      background-color: #E8F0FE;\n",
              "      border: none;\n",
              "      border-radius: 50%;\n",
              "      cursor: pointer;\n",
              "      display: none;\n",
              "      fill: #1967D2;\n",
              "      height: 32px;\n",
              "      padding: 0 0 0 0;\n",
              "      width: 32px;\n",
              "    }\n",
              "\n",
              "    .colab-df-convert:hover {\n",
              "      background-color: #E2EBFA;\n",
              "      box-shadow: 0px 1px 2px rgba(60, 64, 67, 0.3), 0px 1px 3px 1px rgba(60, 64, 67, 0.15);\n",
              "      fill: #174EA6;\n",
              "    }\n",
              "\n",
              "    [theme=dark] .colab-df-convert {\n",
              "      background-color: #3B4455;\n",
              "      fill: #D2E3FC;\n",
              "    }\n",
              "\n",
              "    [theme=dark] .colab-df-convert:hover {\n",
              "      background-color: #434B5C;\n",
              "      box-shadow: 0px 1px 3px 1px rgba(0, 0, 0, 0.15);\n",
              "      filter: drop-shadow(0px 1px 2px rgba(0, 0, 0, 0.3));\n",
              "      fill: #FFFFFF;\n",
              "    }\n",
              "  </style>\n",
              "\n",
              "      <script>\n",
              "        const buttonEl =\n",
              "          document.querySelector('#df-6cef2e8b-adc3-461e-9b20-45e619ec7ce6 button.colab-df-convert');\n",
              "        buttonEl.style.display =\n",
              "          google.colab.kernel.accessAllowed ? 'block' : 'none';\n",
              "\n",
              "        async function convertToInteractive(key) {\n",
              "          const element = document.querySelector('#df-6cef2e8b-adc3-461e-9b20-45e619ec7ce6');\n",
              "          const dataTable =\n",
              "            await google.colab.kernel.invokeFunction('convertToInteractive',\n",
              "                                                     [key], {});\n",
              "          if (!dataTable) return;\n",
              "\n",
              "          const docLinkHtml = 'Like what you see? Visit the ' +\n",
              "            '<a target=\"_blank\" href=https://colab.research.google.com/notebooks/data_table.ipynb>data table notebook</a>'\n",
              "            + ' to learn more about interactive tables.';\n",
              "          element.innerHTML = '';\n",
              "          dataTable['output_type'] = 'display_data';\n",
              "          await google.colab.output.renderOutput(dataTable, element);\n",
              "          const docLink = document.createElement('div');\n",
              "          docLink.innerHTML = docLinkHtml;\n",
              "          element.appendChild(docLink);\n",
              "        }\n",
              "      </script>\n",
              "    </div>\n",
              "  </div>\n",
              "  "
            ]
          },
          "metadata": {},
          "execution_count": 13
        }
      ]
    },
    {
      "cell_type": "code",
      "source": [
        "algorithms_names=graphic.drop('dataset',axis=1).columns\n",
        "performances_array = graphic[algorithms_names].values\n",
        "friedmanchisquare(*performances_array)"
      ],
      "metadata": {
        "colab": {
          "base_uri": "https://localhost:8080/"
        },
        "id": "NHTIezeDjpy1",
        "outputId": "2a51ac8b-9c07-4f77-f701-ff046fbc2bff"
      },
      "execution_count": 14,
      "outputs": [
        {
          "output_type": "execute_result",
          "data": {
            "text/plain": [
              "FriedmanchisquareResult(statistic=15.400000000000006, pvalue=0.003939596491115125)"
            ]
          },
          "metadata": {},
          "execution_count": 14
        }
      ]
    },
    {
      "cell_type": "code",
      "source": [
        "ranks = np.array([rankdata(-p) for p in performances_array])\n",
        "average_ranks = np.mean(ranks,axis=0)\n",
        "\n",
        "print('\\n'.join('{} average rank: {}'.format(a, r) for a,r in zip(algorithms_names, average_ranks)))"
      ],
      "metadata": {
        "colab": {
          "base_uri": "https://localhost:8080/"
        },
        "id": "7cBW4z7-j586",
        "outputId": "4f43173b-94ff-4c47-cadd-a5c2f783fde4"
      },
      "execution_count": 15,
      "outputs": [
        {
          "output_type": "stream",
          "name": "stdout",
          "text": [
            "k-NN average rank: 5.0\n",
            "AD average rank: 3.2\n",
            "MLP average rank: 6.4\n",
            "Naive Bayes average rank: 7.0\n",
            "SVM average rank: 7.6\n",
            "Boosting average rank: 2.8\n",
            "Bagging average rank: 2.6\n",
            "RF average rank: 1.4\n"
          ]
        }
      ]
    },
    {
      "cell_type": "code",
      "source": [
        "cd=compute_CD(average_ranks,\n",
        "    n=len(graphic),\n",
        "    alpha='0.1',\n",
        "    test='nemenyi')\n",
        "\n",
        "graph_ranks(average_ranks,\n",
        "            names=algorithms_names,\n",
        "            cd=cd,\n",
        "            width=10,\n",
        "            textspace=1.5,\n",
        "            reverse=False)\n",
        "\n",
        "plt.show()"
      ],
      "metadata": {
        "colab": {
          "base_uri": "https://localhost:8080/",
          "height": 262
        },
        "id": "EqR7oV88kDUI",
        "outputId": "7945cb4f-cb93-41ed-c51b-b33caaea7f78"
      },
      "execution_count": 18,
      "outputs": [
        {
          "output_type": "stream",
          "name": "stderr",
          "text": [
            "/usr/local/lib/python3.7/dist-packages/ipykernel_launcher.py:4: OrangeDeprecationWarning: compute_CD is deprecated and will be removed in Orange 3.34.\n",
            "  after removing the cwd from sys.path.\n",
            "/usr/local/lib/python3.7/dist-packages/ipykernel_launcher.py:11: OrangeDeprecationWarning: graph_ranks is deprecated and will be removed in Orange 3.34.\n",
            "  # This is added back by InteractiveShellApp.init_path()\n"
          ]
        },
        {
          "output_type": "display_data",
          "data": {
            "text/plain": [
              "<Figure size 720x162 with 1 Axes>"
            ],
            "image/png": "[encoded data removed]"
          },
          "metadata": {}
        }
      ]
    },
    {
      "cell_type": "code",
      "source": [
        "average_ranks"
      ],
      "metadata": {
        "colab": {
          "base_uri": "https://localhost:8080/"
        },
        "id": "Jsxbc80ikZsE",
        "outputId": "2090bd27-5f10-47cd-b9e4-df5b00b3883a"
      },
      "execution_count": 19,
      "outputs": [
        {
          "output_type": "execute_result",
          "data": {
            "text/plain": [
              "array([5. , 3.2, 6.4, 7. , 7.6, 2.8, 2.6, 1.4])"
            ]
          },
          "metadata": {},
          "execution_count": 19
        }
      ]
    },
    {
      "cell_type": "code",
      "source": [
        "dataset = ['g0', 'g1', 'g2', 'g3', 'g4'],\n"
      ],
      "metadata": {
        "id": "-z7sxRtKknfG"
      },
      "execution_count": null,
      "outputs": []
    }
  ]
}